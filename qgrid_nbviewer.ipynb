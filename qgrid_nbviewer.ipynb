{
 "cells": [
  {
   "cell_type": "markdown",
   "metadata": {},
   "source": [
    "qgrid - SlickGrid in Jupyter Notebooks\n",
    "======================================\n",
    "Qgrid is an IPython widget which uses a javascript library called SlickGrid to render pandas DataFrames within a Jupyter notebook.  It was developed for use in [Quantopian's hosted research environment]( https://www.quantopian.com/research?utm_source=github&utm_medium=web&utm_campaign=qgrid-nbviewer)."
   ]
  },
  {
   "cell_type": "markdown",
   "metadata": {},
   "source": [
    "## Overview\n",
    "* [SlickGrid](https://github.com/mleibman/SlickGrid) is a javascript grid which allows users to scroll, sort, \n",
    "and filter hundreds of thousands of rows with extreme responsiveness.  \n",
    "* [Pandas](https://github.com/pydata/pandas) is a powerful data analysis / manipulation library for Python, and DataFrames are the primary way of storing and manipulating two-dimensional data in pandas.\n",
    "\n",
    "[Qgrid](https://github.com/quantopian/qgrid) renders pandas DataFrames as SlickGrids, which enables users to explore the entire contents of a DataFrame using intuitive sorting and filtering controls.  It's designed to be used within Jupyter notebook, and it's also mostly functional when rendered by [nbviewer](http://nbviewer.ipython\n",
    ".org/github/quantopian/qgrid/blob/master/qgrid_demo.ipynb)."
   ]
  },
  {
   "cell_type": "markdown",
   "metadata": {},
   "source": [
    "## Notebook installation\n",
    "First, import the qgrid module as you would any other module in Python.  If that doesn't work, something may have gone wrong while installing the qgrid package using pip.  I would go through the package installation steps on the [GitHub page](https://github.com/quantopian/qgrid) again with a new virtualenv to make sure everything installed correctly."
   ]
  },
  {
   "cell_type": "code",
   "execution_count": 6,
   "metadata": {},
   "outputs": [],
   "source": [
    "import qgrid"
   ]
  },
  {
   "cell_type": "markdown",
   "metadata": {},
   "source": [
    "##### Prepare non-python dependencies by calling [nbinstall](http://qgrid.readthedocs.org/en/latest/#qgrid.nbinstall)\n",
    "This step is required because at this point all you've done to install qgrid is to call `pip install`.  Pip doesn't know which folder your Jupyter notebook widgets need to get copied to (let's call this the \"widgets folder\"), only the Jupyter notebook process knows that.  So you need to run one line of code from within the Jupyter notebook to copy qgrid to the widgets folder.  This only has to be done once for a particular version of qgrid.  That being said, if you're running qgrid from it's source code and making changes to it's source code, you'll need to run this line every time you make a change, or else the changes won't do anything.  See our [API docs for the nbinstall function](http://qgrid.readthedocs.org/en/latest/#qgrid.nbinstall) for more details."
   ]
  },
  {
   "cell_type": "code",
   "execution_count": 7,
   "metadata": {},
   "outputs": [],
   "source": [
    "qgrid.nbinstall(overwrite=True)  # copies javascript dependencies to your /nbextensions folder\n",
    "qgrid.set_defaults(remote_js=True)"
   ]
  },
  {
   "cell_type": "markdown",
   "metadata": {},
   "source": [
    "## API & Usage\n",
    "API documentation is hosted on readthedocs: http://qgrid.readthedocs.org/en/latest/\n",
    "\n",
    "The API documentation can also be accessed via the \"?\" operator in IPython.  To use the \"?\" operator, type the name of the function followed by \"?\" to see the documentation for that function, like this:\n",
    "```\n",
    "qgrid.nbinstall?\n",
    "qgrid.show_grid?\n",
    "qgrid.set_defaults?\n",
    "qgrid.set_grid_options?\n",
    "\n",
    "```"
   ]
  },
  {
   "cell_type": "markdown",
   "metadata": {},
   "source": [
    "## Example 1 - Render a DataFrame returned by Yahoo Finance\n",
    "\n",
    "### 1. Create a sample DataFrame using pandas 'get_data_yahoo' function"
   ]
  },
  {
   "cell_type": "code",
   "execution_count": 8,
   "metadata": {},
   "outputs": [],
   "source": [
    "import pandas as pd\n",
    "import numpy as np\n",
    "randn = np.random.randn\n",
    "\n",
    "# Set this pandas option to prevent the grid from being too big\n",
    "pd.set_option('display.max_rows', 8)\n",
    "\n",
    "# Get a pandas DataFrame containing the daily prices for the S&P 500 from 1/1/2011 - 1/1/2014\n",
    "from pandas.io.data import get_data_yahoo\n",
    "spy = get_data_yahoo(\n",
    "    symbols='SPY',  \n",
    "    start=pd.Timestamp('2011-01-01'),  \n",
    "    end=pd.Timestamp('2014-01-01'),\n",
    "    adjust_price=True,\n",
    ")"
   ]
  },
  {
   "cell_type": "markdown",
   "metadata": {},
   "source": [
    "### 2. Render the DataFrame without using qgrid"
   ]
  },
  {
   "cell_type": "code",
   "execution_count": 9,
   "metadata": {},
   "outputs": [
    {
     "data": {
      "text/html": [
       "<div>\n",
       "<table border=\"1\" class=\"dataframe\">\n",
       "  <thead>\n",
       "    <tr style=\"text-align: right;\">\n",
       "      <th></th>\n",
       "      <th>Open</th>\n",
       "      <th>High</th>\n",
       "      <th>Low</th>\n",
       "      <th>Close</th>\n",
       "      <th>Volume</th>\n",
       "      <th>Adj_Ratio</th>\n",
       "    </tr>\n",
       "    <tr>\n",
       "      <th>Date</th>\n",
       "      <th></th>\n",
       "      <th></th>\n",
       "      <th></th>\n",
       "      <th></th>\n",
       "      <th></th>\n",
       "      <th></th>\n",
       "    </tr>\n",
       "  </thead>\n",
       "  <tbody>\n",
       "    <tr>\n",
       "      <th>2011-01-03</th>\n",
       "      <td>114.369788</td>\n",
       "      <td>115.173110</td>\n",
       "      <td>113.458149</td>\n",
       "      <td>114.676679</td>\n",
       "      <td>138725200</td>\n",
       "      <td>0.902611</td>\n",
       "    </tr>\n",
       "    <tr>\n",
       "      <th>2011-01-04</th>\n",
       "      <td>114.929410</td>\n",
       "      <td>114.965515</td>\n",
       "      <td>113.900434</td>\n",
       "      <td>114.613497</td>\n",
       "      <td>137409700</td>\n",
       "      <td>0.902611</td>\n",
       "    </tr>\n",
       "    <tr>\n",
       "      <th>2011-01-05</th>\n",
       "      <td>114.252451</td>\n",
       "      <td>115.281427</td>\n",
       "      <td>114.144135</td>\n",
       "      <td>115.209216</td>\n",
       "      <td>133975300</td>\n",
       "      <td>0.902611</td>\n",
       "    </tr>\n",
       "    <tr>\n",
       "      <th>2011-01-06</th>\n",
       "      <td>115.254350</td>\n",
       "      <td>115.380715</td>\n",
       "      <td>114.640575</td>\n",
       "      <td>114.983564</td>\n",
       "      <td>122519000</td>\n",
       "      <td>0.902611</td>\n",
       "    </tr>\n",
       "    <tr>\n",
       "      <th>...</th>\n",
       "      <td>...</td>\n",
       "      <td>...</td>\n",
       "      <td>...</td>\n",
       "      <td>...</td>\n",
       "      <td>...</td>\n",
       "      <td>...</td>\n",
       "    </tr>\n",
       "    <tr>\n",
       "      <th>2013-12-26</th>\n",
       "      <td>176.190385</td>\n",
       "      <td>176.786218</td>\n",
       "      <td>176.171176</td>\n",
       "      <td>176.690112</td>\n",
       "      <td>63365000</td>\n",
       "      <td>0.961004</td>\n",
       "    </tr>\n",
       "    <tr>\n",
       "      <th>2013-12-27</th>\n",
       "      <td>176.920758</td>\n",
       "      <td>176.997626</td>\n",
       "      <td>176.497914</td>\n",
       "      <td>176.680507</td>\n",
       "      <td>61814000</td>\n",
       "      <td>0.961004</td>\n",
       "    </tr>\n",
       "    <tr>\n",
       "      <th>2013-12-30</th>\n",
       "      <td>176.699717</td>\n",
       "      <td>176.843876</td>\n",
       "      <td>176.421032</td>\n",
       "      <td>176.651678</td>\n",
       "      <td>56857000</td>\n",
       "      <td>0.961004</td>\n",
       "    </tr>\n",
       "    <tr>\n",
       "      <th>2013-12-31</th>\n",
       "      <td>176.891930</td>\n",
       "      <td>177.487747</td>\n",
       "      <td>176.757376</td>\n",
       "      <td>177.487747</td>\n",
       "      <td>86119900</td>\n",
       "      <td>0.961004</td>\n",
       "    </tr>\n",
       "  </tbody>\n",
       "</table>\n",
       "<p>754 rows × 6 columns</p>\n",
       "</div>"
      ]
     },
     "output_type": "execute_result",
     "metadata": {}
    }
   ],
   "source": [
    "spy"
   ]
  },
  {
   "cell_type": "markdown",
   "metadata": {},
   "source": [
    "*The table above is Jupyter notebook's default representation of the 'spy' DataFrame.*"
   ]
  },
  {
   "cell_type": "markdown",
   "metadata": {},
   "source": [
    "### 3. Render the DataFrame again, this time using qgrid"
   ]
  },
  {
   "cell_type": "code",
   "execution_count": 10,
   "metadata": {},
   "outputs": [
    {
     "data": {
      "text/html": [
       "<script type=\"text/javascript\">\n",
       "if ($(\"#dg-css\").length == 0){\n",
       "    $(\"head\").append([\n",
       "        \"<link href='https://cdn.rawgit.com/quantopian/qgrid/master/qgrid/qgridjs//lib/slick.grid.css' rel='stylesheet'>\",\n",
       "        \"<link href='https://cdn.rawgit.com/quantopian/qgrid/master/qgrid/qgridjs//lib/slick-default-theme.css' rel='stylesheet'>\",\n",
       "        \"<link href='http://cdnjs.cloudflare.com/ajax/libs/jqueryui/1.10.4/css/jquery-ui.min.css' rel='stylesheet'>\",\n",
       "        \"<link id='dg-css' href='https://cdn.rawgit.com/quantopian/qgrid/master/qgrid/qgridjs//qgrid.css' rel='stylesheet'>\"\n",
       "    ]);\n",
       "}\n",
       "</script>\n",
       "<div class='q-grid-container'>\n",
       "<div id='4c9c0020-557e-4c82-b50f-aaac1f8533f2' class='q-grid'></div>\n",
       "</div>"
      ]
     },
     "output_type": "execute_result",
     "metadata": {}
    },
    {
     "metadata": {}
    }
   ],
   "source": [
    "qgrid.show_grid(spy, show_toolbar=True)"
   ]
  },
  {
   "cell_type": "markdown",
   "metadata": {},
   "source": [
    "*The cell above shows the same 'spy' DataFrame rendered as a qgrid.  Qgrids allows you to scroll, sort, and filter hundreds of thousands of rows with extreme responsiveness.  If you double click on the cells they become editable, and the edits change the values stored in the DataFrame as you would expect.* "
   ]
  },
  {
   "cell_type": "markdown",
   "metadata": {},
   "source": [
    "### 3. Now render with qgrid again, and tweak some options\n",
    "The `show_grid` function takes a number of optional parameters to allow you to configure the behavior of the grid it generates.  In the following example we use a couple of these optional parameters:\n",
    "\n",
    "* `precision` is the number of digits of precision to display for floating-point values. If unset, we use the value of pandas.get_option(‘display.precision’).\n",
    "* `grid_options` takes a dict and allows you to pass any of the \"grid options\" listed in [SlickGrid's documentation](https://github.com/mleibman/SlickGrid/wiki/Grid-Options).  In this example we make use of two of these options, `forceFitColumns` and `defaultColumnWidth`, to improve qgrid's ability to handle a large number of columns\n",
    "\n",
    "You can read about these and the rest of the optional parameters for the `show_grid` function in our [API documentation](http://qgrid.readthedocs.org/en/latest/#qgrid.show_grid).  \n",
    "\n",
    "If you find yourself frequently passing the same options into `show_grid`, the `set_defaults` function may be useful to you.  It allows you to set the same options that you would normally pass to `show_grid`, but through a separate function which sets the options for the lifetime of the kernel rather than for a single grid.  See the [API documentation](http://qgrid.readthedocs.org/en/latest/#qgrid.set_defaults) for the `set_defaults` function for more information."
   ]
  },
  {
   "cell_type": "code",
   "execution_count": 11,
   "metadata": {},
   "outputs": [
    {
     "data": {
      "text/html": [
       "<script type=\"text/javascript\">\n",
       "if ($(\"#dg-css\").length == 0){\n",
       "    $(\"head\").append([\n",
       "        \"<link href='https://cdn.rawgit.com/quantopian/qgrid/master/qgrid/qgridjs//lib/slick.grid.css' rel='stylesheet'>\",\n",
       "        \"<link href='https://cdn.rawgit.com/quantopian/qgrid/master/qgrid/qgridjs//lib/slick-default-theme.css' rel='stylesheet'>\",\n",
       "        \"<link href='http://cdnjs.cloudflare.com/ajax/libs/jqueryui/1.10.4/css/jquery-ui.min.css' rel='stylesheet'>\",\n",
       "        \"<link id='dg-css' href='https://cdn.rawgit.com/quantopian/qgrid/master/qgrid/qgridjs//qgrid.css' rel='stylesheet'>\"\n",
       "    ]);\n",
       "}\n",
       "</script>\n",
       "<div class='q-grid-container'>\n",
       "<div id='a22138f7-27d1-4b7a-8b31-b021a8b6cc30' class='q-grid'></div>\n",
       "</div>"
      ]
     },
     "output_type": "execute_result",
     "metadata": {}
    },
    {
     "metadata": {}
    }
   ],
   "source": [
    "qgrid.show_grid(spy, precision=2, grid_options={'forceFitColumns': False, 'defaultColumnWidth': 200})"
   ]
  },
  {
   "cell_type": "markdown",
   "metadata": {},
   "source": [
    "*The same 'spy' DataFrame rendered as a qgrid again, this time some options tweaked.  Precision has been decreased to 2, the columns are wider, and a horizontal scroll bar has appeared.*"
   ]
  },
  {
   "cell_type": "markdown",
   "metadata": {},
   "source": [
    "## Example 2 - Rendering a grid containing some different data types"
   ]
  },
  {
   "cell_type": "markdown",
   "metadata": {},
   "source": [
    "### 1. Create a new sample DataFrame "
   ]
  },
  {
   "cell_type": "code",
   "execution_count": 12,
   "metadata": {},
   "outputs": [],
   "source": [
    "df2 = pd.DataFrame({\n",
    "    'A' : 1.,\n",
    "    'B' : pd.Timestamp('20130102'),\n",
    "    'C' : pd.Series(randn(8),index=list(range(8)),dtype='float32'),\n",
    "    'D' : np.array([3] * 8,dtype='int32'),\n",
    "    'E' : pd.Categorical([\"test\",\"train\",\"test\",\"train\", \"test\", \"train\", \"test\", \"train\"]),\n",
    "    'F' : 'foo' })"
   ]
  },
  {
   "cell_type": "markdown",
   "metadata": {},
   "source": [
    "### 2. Render the DataFrame without using qgrid"
   ]
  },
  {
   "cell_type": "code",
   "execution_count": 13,
   "metadata": {},
   "outputs": [
    {
     "data": {
      "text/html": [
       "<div>\n",
       "<table border=\"1\" class=\"dataframe\">\n",
       "  <thead>\n",
       "    <tr style=\"text-align: right;\">\n",
       "      <th></th>\n",
       "      <th>A</th>\n",
       "      <th>B</th>\n",
       "      <th>C</th>\n",
       "      <th>D</th>\n",
       "      <th>E</th>\n",
       "      <th>F</th>\n",
       "    </tr>\n",
       "  </thead>\n",
       "  <tbody>\n",
       "    <tr>\n",
       "      <th>0</th>\n",
       "      <td>1</td>\n",
       "      <td>2013-01-02</td>\n",
       "      <td>0.059746</td>\n",
       "      <td>3</td>\n",
       "      <td>test</td>\n",
       "      <td>foo</td>\n",
       "    </tr>\n",
       "    <tr>\n",
       "      <th>1</th>\n",
       "      <td>1</td>\n",
       "      <td>2013-01-02</td>\n",
       "      <td>-0.669254</td>\n",
       "      <td>3</td>\n",
       "      <td>train</td>\n",
       "      <td>foo</td>\n",
       "    </tr>\n",
       "    <tr>\n",
       "      <th>2</th>\n",
       "      <td>1</td>\n",
       "      <td>2013-01-02</td>\n",
       "      <td>0.439389</td>\n",
       "      <td>3</td>\n",
       "      <td>test</td>\n",
       "      <td>foo</td>\n",
       "    </tr>\n",
       "    <tr>\n",
       "      <th>3</th>\n",
       "      <td>1</td>\n",
       "      <td>2013-01-02</td>\n",
       "      <td>0.523762</td>\n",
       "      <td>3</td>\n",
       "      <td>train</td>\n",
       "      <td>foo</td>\n",
       "    </tr>\n",
       "    <tr>\n",
       "      <th>4</th>\n",
       "      <td>1</td>\n",
       "      <td>2013-01-02</td>\n",
       "      <td>-0.124648</td>\n",
       "      <td>3</td>\n",
       "      <td>test</td>\n",
       "      <td>foo</td>\n",
       "    </tr>\n",
       "    <tr>\n",
       "      <th>5</th>\n",
       "      <td>1</td>\n",
       "      <td>2013-01-02</td>\n",
       "      <td>1.130313</td>\n",
       "      <td>3</td>\n",
       "      <td>train</td>\n",
       "      <td>foo</td>\n",
       "    </tr>\n",
       "    <tr>\n",
       "      <th>6</th>\n",
       "      <td>1</td>\n",
       "      <td>2013-01-02</td>\n",
       "      <td>0.316686</td>\n",
       "      <td>3</td>\n",
       "      <td>test</td>\n",
       "      <td>foo</td>\n",
       "    </tr>\n",
       "    <tr>\n",
       "      <th>7</th>\n",
       "      <td>1</td>\n",
       "      <td>2013-01-02</td>\n",
       "      <td>-0.096386</td>\n",
       "      <td>3</td>\n",
       "      <td>train</td>\n",
       "      <td>foo</td>\n",
       "    </tr>\n",
       "  </tbody>\n",
       "</table>\n",
       "</div>"
      ]
     },
     "output_type": "execute_result",
     "metadata": {}
    }
   ],
   "source": [
    "df2"
   ]
  },
  {
   "cell_type": "markdown",
   "metadata": {},
   "source": [
    "### 3. Render the DataFrame again, this time using qgrid"
   ]
  },
  {
   "cell_type": "code",
   "execution_count": 14,
   "metadata": {},
   "outputs": [
    {
     "data": {
      "text/html": [
       "<script type=\"text/javascript\">\n",
       "if ($(\"#dg-css\").length == 0){\n",
       "    $(\"head\").append([\n",
       "        \"<link href='https://cdn.rawgit.com/quantopian/qgrid/master/qgrid/qgridjs//lib/slick.grid.css' rel='stylesheet'>\",\n",
       "        \"<link href='https://cdn.rawgit.com/quantopian/qgrid/master/qgrid/qgridjs//lib/slick-default-theme.css' rel='stylesheet'>\",\n",
       "        \"<link href='http://cdnjs.cloudflare.com/ajax/libs/jqueryui/1.10.4/css/jquery-ui.min.css' rel='stylesheet'>\",\n",
       "        \"<link id='dg-css' href='https://cdn.rawgit.com/quantopian/qgrid/master/qgrid/qgridjs//qgrid.css' rel='stylesheet'>\"\n",
       "    ]);\n",
       "}\n",
       "</script>\n",
       "<div class='q-grid-container'>\n",
       "<div id='1d623ef3-7b1b-4abd-b984-295c837f3de0' class='q-grid'></div>\n",
       "</div>"
      ]
     },
     "output_type": "execute_result",
     "metadata": {}
    },
    {
     "metadata": {}
    }
   ],
   "source": [
    "qgrid.show_grid(df2, show_toolbar=True)"
   ]
  }
 ],
 "metadata": {
  "kernelspec": {
   "display_name": "Python 3",
   "language": "python",
   "name": "python3"
  },
  "language_info": {
   "codemirror_mode": {
    "name": "ipython",
    "version": 3.0
   },
   "file_extension": ".py",
   "mimetype": "text/x-python",
   "name": "python",
   "nbconvert_exporter": "python",
   "pygments_lexer": "ipython3",
   "version": "3.5.0"
  }
 },
 "nbformat": 4,
 "nbformat_minor": 0
}