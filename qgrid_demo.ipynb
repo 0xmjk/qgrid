{
 "cells": [
  {
   "cell_type": "markdown",
   "metadata": {},
   "source": [
    "qgrid - SlickGrid in Jupyter Notebooks\n",
    "======================================\n",
    "Qgrid is an IPython widget which uses a javascript library called SlickGrid to render pandas DataFrames within a Jupyter notebook.  It was developed for use in [Quantopian's hosted research environment]( https://www.quantopian.com/research?utm_source=github&utm_medium=web&utm_campaign=qgrid-nbviewer)."
   ]
  },
  {
   "cell_type": "markdown",
   "metadata": {},
   "source": [
    "## Overview\n",
    "* [SlickGrid](https://github.com/mleibman/SlickGrid) is a javascript grid which allows users to scroll, sort, \n",
    "and filter hundreds of thousands of rows with extreme responsiveness.  \n",
    "* [Pandas](https://github.com/pydata/pandas) is a powerful data analysis / manipulation library for Python, and DataFrames are the primary way of storing and manipulating two-dimensional data in pandas.\n",
    "\n",
    "[Qgrid](https://github.com/quantopian/qgrid) renders pandas DataFrames as SlickGrids, which enables users to explore the entire contents of a DataFrame using intuitive sorting and filtering controls.  It's designed to be used within Jupyter notebook, and it's also mostly functional when rendered by [nbviewer](http://nbviewer.ipython\n",
    ".org/github/quantopian/qgrid/blob/master/qgrid_demo.ipynb)."
   ]
  },
  {
   "cell_type": "markdown",
   "metadata": {},
   "source": [
    "## Notebook installation\n",
    "First, import the qgrid module as you would any other module in Python.  If that doesn't work, something may have gone wrong while installing the qgrid package using pip.  I would go through the package installation steps on the [GitHub page](https://github.com/quantopian/qgrid) again with a new virtualenv to make sure everything installed correctly."
   ]
  },
  {
   "cell_type": "code",
   "execution_count": null,
   "metadata": {
    "collapsed": true
   },
   "outputs": [],
   "source": [
    "import qgrid"
   ]
  },
  {
   "cell_type": "markdown",
   "metadata": {},
   "source": [
    "## API & Usage\n",
    "API documentation is hosted on readthedocs: http://qgrid.readthedocs.org/en/latest/\n",
    "\n",
    "The API documentation can also be accessed via the \"?\" operator in IPython.  To use the \"?\" operator, type the name of the function followed by \"?\" to see the documentation for that function, like this:\n",
    "```\n",
    "qgrid.show_grid?\n",
    "qgrid.set_defaults?\n",
    "qgrid.set_grid_options?\n",
    "\n",
    "```"
   ]
  },
  {
   "cell_type": "markdown",
   "metadata": {},
   "source": [
    "## Example 1 - Render a DataFrame returned by Yahoo Finance\n",
    "\n",
    "### 1. Create a sample DataFrame using the `get_data_yahoo` function and render it without using qgrid"
   ]
  },
  {
   "cell_type": "code",
   "execution_count": null,
   "metadata": {},
   "outputs": [],
   "source": [
    "import pandas as pd\n",
    "import numpy as np\n",
    "randn = np.random.randn\n",
    "\n",
    "# Set this pandas option to prevent the grid from being too big\n",
    "pd.set_option('display.max_rows', 8)\n",
    "\n",
    "# Get a pandas DataFrame containing the daily prices for the S&P 500 from 1/1/2011 - 1/1/2014\n",
    "from pandas_datareader.data import get_data_yahoo\n",
    "spy = get_data_yahoo(\n",
    "    symbols='SPY',  \n",
    "    start=pd.Timestamp('2011-01-01'),  \n",
    "    end=pd.Timestamp('2014-01-01'),\n",
    "    adjust_price=True,\n",
    ")\n",
    "spy"
   ]
  },
  {
   "cell_type": "markdown",
   "metadata": {},
   "source": [
    "*The table above is Jupyter notebook's default representation of the 'spy' DataFrame.*"
   ]
  },
  {
   "cell_type": "markdown",
   "metadata": {},
   "source": [
    "### 2. Render the DataFrame again, this time using qgrid"
   ]
  },
  {
   "cell_type": "code",
   "execution_count": null,
   "metadata": {},
   "outputs": [],
   "source": [
    "qgrid.show_grid(spy)"
   ]
  },
  {
   "cell_type": "markdown",
   "metadata": {},
   "source": [
    "*The cell above shows the same 'spy' DataFrame rendered as a qgrid.  Qgrids allows you to scroll, sort, and filter hundreds of thousands of rows with extreme responsiveness.  If you double click on the cells they become editable, and the edits change the values stored in the DataFrame as you would expect.* "
   ]
  },
  {
   "cell_type": "markdown",
   "metadata": {},
   "source": [
    "### 3. Now render with qgrid again, and set the `grid_options` parameter\n",
    "The `show_grid` function takes a number of optional parameters to allow you to configure the behavior of the grid it generates.  In the following example we use the `grid_options` parameter. \n",
    "\n",
    "`grid_options` takes a dict and allows you to pass any of the \"grid options\" listed in [SlickGrid's documentation](https://github.com/mleibman/SlickGrid/wiki/Grid-Options).  In this example we make use of two of these options, `forceFitColumns` and `defaultColumnWidth`, to improve qgrid's ability to handle a large number of columns.  You can read about `grid_options` and the rest of the optional parameters for the `show_grid` function in our [API documentation](http://qgrid.readthedocs.org/en/latest/#qgrid.show_grid).  \n",
    "\n",
    "If you find yourself frequently passing the same options into `show_grid`, the `set_defaults` function may be useful to you.  It allows you to set the same options that you would normally pass to `show_grid`, but through a separate function which sets the options for the lifetime of the kernel rather than for a single grid.  See the [API documentation](http://qgrid.readthedocs.org/en/latest/#qgrid.set_defaults) for the `set_defaults` function for more information."
   ]
  },
  {
   "cell_type": "code",
   "execution_count": null,
   "metadata": {},
   "outputs": [],
   "source": [
    "qgrid.show_grid(spy, grid_options={'forceFitColumns': False, 'defaultColumnWidth': 200})"
   ]
  },
  {
   "cell_type": "markdown",
   "metadata": {},
   "source": [
    "*The same 'spy' DataFrame rendered as a qgrid again, this time some options tweaked.  The toolbar buttons are visible, the columns are wider, and a horizontal scroll bar has appeared.*"
   ]
  },
  {
   "cell_type": "markdown",
   "metadata": {},
   "source": [
    "## Example 2 - Render a DataFrame returned by World Bank's World Development Indicators\n",
    "\n",
    "### 1. Create a sample DataFrame using the `wb.download` function and render it without using qgrid"
   ]
  },
  {
   "cell_type": "code",
   "execution_count": null,
   "metadata": {},
   "outputs": [],
   "source": [
    "from pandas_datareader import wb\n",
    "df2 = wb.download(indicator='NY.GDP.PCAP.KD', country=['all'], start=2005, end=2008)\n",
    "df2.columns = ['GDP per capita (constant 2005 US$)']\n",
    "df2"
   ]
  },
  {
   "cell_type": "markdown",
   "metadata": {},
   "source": [
    "### 2. Render the DataFrame again, this time using qgrid"
   ]
  },
  {
   "cell_type": "code",
   "execution_count": null,
   "metadata": {},
   "outputs": [],
   "source": [
    "qgrid.show_grid(df2)"
   ]
  },
  {
   "cell_type": "markdown",
   "metadata": {},
   "source": [
    "## Example 3 - Rendering a grid by creating a QGridWidget"
   ]
  },
  {
   "cell_type": "markdown",
   "metadata": {},
   "source": [
    "### 1. Create a new sample DataFrame and render it without using qgrid"
   ]
  },
  {
   "cell_type": "code",
   "execution_count": null,
   "metadata": {},
   "outputs": [],
   "source": [
    "df3 = pd.DataFrame({\n",
    "    'A' : 1.,\n",
    "    'B' : pd.Timestamp('20130102'),\n",
    "    'C' : pd.Series(randn(8),index=list(range(8)),dtype='float32'),\n",
    "    'D' : np.array([3] * 8,dtype='int32'),\n",
    "    'E' : pd.Categorical([\"washington\", \"adams\", \"madison\", \"lincoln\",\"jefferson\", \"hamilton\", \"roosevelt\", \"kennedy\"]),\n",
    "    'F' : 'foo' })\n",
    "df3"
   ]
  },
  {
   "cell_type": "markdown",
   "metadata": {},
   "source": [
    "### 2. Render the DataFrame again, this time using the QGridWidget class directly\n",
    "The ``show_grid`` function is just a convenience function which internally constructs an instance of QGridWidget and renders it with jupyter notebook's ``display`` function.  The following code shows how to construct a QGridWidget directly, so that you can retrieve or update the DataFrame it uses internally."
   ]
  },
  {
   "cell_type": "code",
   "execution_count": null,
   "metadata": {},
   "outputs": [],
   "source": [
    "from IPython.display import display\n",
    "grid = qgrid.QgridWidget(df=df3)\n",
    "grid"
   ]
  },
  {
   "cell_type": "markdown",
   "metadata": {},
   "source": [
    "### 3. Get the DataFrame back from the QGridWidget and render it without qgrid\n",
    "If you make edits to the data using the grid above, they will be reflected in the DataFrame that is returned by ``grid.df``.  Changes to sorting and filtering will be reflected too."
   ]
  },
  {
   "cell_type": "code",
   "execution_count": null,
   "metadata": {},
   "outputs": [],
   "source": [
    "grid.df"
   ]
  }
 ],
 "metadata": {
  "kernelspec": {
   "display_name": "Python 3",
   "language": "python",
   "name": "python3"
  },
  "language_info": {
   "codemirror_mode": {
    "name": "ipython",
    "version": 3
   },
   "file_extension": ".py",
   "mimetype": "text/x-python",
   "name": "python",
   "nbconvert_exporter": "python",
   "pygments_lexer": "ipython3",
   "version": "3.6.1"
  },
  "widgets": {
   "state": {
    "009deff14f134392abe0edd7003f1fac": {
     "views": []
    },
    "11666f070c8045d5b6efc925af468f04": {
     "views": []
    },
    "116a9494460841ee8274bc01d9e6cf08": {
     "views": [
      {
       "cell_index": 12
      }
     ]
    },
    "151a594cdc5a4a1aa4ac463240aefba5": {
     "views": []
    },
    "1a6181f4fa80489c8ce1d5fa2ff80074": {
     "views": []
    },
    "1b79b2d88d5641c4a6e07635c7800475": {
     "views": []
    },
    "22a8f7d808174df8b8b5ec35fca3c0df": {
     "views": []
    },
    "25348b38afa649f392cbd91bf7ce6c40": {
     "views": []
    },
    "2543ff6afbd2407a84f9be4e69ae8530": {
     "views": []
    },
    "27b824a5f44340f89e86d14b07310b91": {
     "views": []
    },
    "2c791bac2722430bbe422d750273ecc7": {
     "views": []
    },
    "33911b180c12404a9198c173e8959630": {
     "views": []
    },
    "35e2cf22ab64410eb1cbd9fb70351ddf": {
     "views": []
    },
    "37b688e98808436baa6cfb48ae9a50bc": {
     "views": []
    },
    "386a383d9e474bc8b5a632d55868022a": {
     "views": []
    },
    "3904375f55e642b784c22a6139affff1": {
     "views": []
    },
    "39a44f743b8f4487b28bd3a1c7a2a8ac": {
     "views": []
    },
    "39f0557e11d94975b18f35ab5ee904bc": {
     "views": []
    },
    "3a5e69a97d6044daac1c2bd378886c67": {
     "views": []
    },
    "3dfb3dbcffa14ce2b8614499d404b00e": {
     "views": []
    },
    "3f7da765a32d45458b3d2717bcea4a5f": {
     "views": [
      {
       "cell_index": 15
      }
     ]
    },
    "3fbf1f54ca3f42e4b62651f0de234924": {
     "views": []
    },
    "430270d21005461b9abbb3bdf2eaead7": {
     "views": []
    },
    "4322a5ead3b74e3e9a366fb2da5c397d": {
     "views": []
    },
    "45503a2fe7df432f90f70e8155fde16b": {
     "views": []
    },
    "4602a3a867c249ebb9b16952b93d573d": {
     "views": []
    },
    "479c172708a64f6abf4661dce49fbb51": {
     "views": []
    },
    "47aa4e675bfd44b1b8f7522fc4ade47f": {
     "views": []
    },
    "4a6e3307ae7847bf8fec40d3deb5aeb7": {
     "views": []
    },
    "5f5a86448af04d4590ab6c3660a3de15": {
     "views": []
    },
    "608c829f066941bfba65fc39e3d2accf": {
     "views": []
    },
    "65b6e131a8514a70be97615fd232bd93": {
     "views": []
    },
    "69db50423a2e460e977d820af2981560": {
     "views": []
    },
    "7471248e12c64650abca716186ccccc2": {
     "views": [
      {
       "cell_index": 20
      }
     ]
    },
    "77d0dbc3e78e4f338d7e042f130c27ea": {
     "views": []
    },
    "7ccfa78888e443859767f758e2684b79": {
     "views": [
      {
       "cell_index": 15
      }
     ]
    },
    "8044d74cf15e4f0ea9b124a8da583804": {
     "views": []
    },
    "83c97a1412574be384b2a655ec3daf07": {
     "views": []
    },
    "8cefeea6d9a94669ae1c31897d963d6b": {
     "views": []
    },
    "8e365bf16fdb4a44ad60b4788b9e57a2": {
     "views": []
    },
    "9100c8de4d1e47acab3add825e2815d8": {
     "views": []
    },
    "971201c0ce914f038ce07510622ad7fb": {
     "views": []
    },
    "9aead7bc906c4729a3ec7cd1685c0514": {
     "views": []
    },
    "9d65ac88ca7746c1af70302ea3cc9a16": {
     "views": []
    },
    "9f17461f3f9743da856d3d466e24e4b6": {
     "views": []
    },
    "9f36ac2abc3242ad90fda44cb752a636": {
     "views": []
    },
    "a8e0fcd3d55f492e9a8167829b512fe8": {
     "views": []
    },
    "aa4865458f074e1381594451d3eb379a": {
     "views": []
    },
    "aa63c107dbd0493aa20f9c00196025f4": {
     "views": []
    },
    "ab43c83e0dad4d34826429118202ee0e": {
     "views": []
    },
    "abd0275d161748c9bcfd061e175ac8f1": {
     "views": []
    },
    "ae94a5fe5c8b44d993cbf754b3a02fb1": {
     "views": []
    },
    "b13bf1587da94200afe1a0f3e59138a3": {
     "views": []
    },
    "b4575d3ad6a44814acb28bb7c71aceb4": {
     "views": [
      {
       "cell_index": 25
      }
     ]
    },
    "ba1818982a974611a387e2f14d3736f4": {
     "views": []
    },
    "bc60a743e0b44995ae07ba3596cf01e8": {
     "views": []
    },
    "bd6771a1de8047d7bb4373c30785a8c4": {
     "views": []
    },
    "c0498784a4c84119889fb7b374346ceb": {
     "views": []
    },
    "c1302fbd8d8a4de09a6537a8ec0ba138": {
     "views": [
      {
       "cell_index": 12
      }
     ]
    },
    "c1615849fed643d1bb40e19ceae60a12": {
     "views": []
    },
    "c333bfeb6eee4531a78506f3531a4d46": {
     "views": []
    },
    "c5fcc3ad6928449a9e41de6e892be8f2": {
     "views": []
    },
    "c64c364c9b5042bf887a78494c864f00": {
     "views": []
    },
    "c9659c35be8a4896abbb18a47c3c146f": {
     "views": []
    },
    "cb625a8b07664109a8606854dbe9124c": {
     "views": [
      {
       "cell_index": 20
      }
     ]
    },
    "d559c8b039174fdca8507b60598f7c97": {
     "views": []
    },
    "db1bab74d9354a8e87facb0d845f0385": {
     "views": []
    },
    "dc83fbd3975b4d1792aa31b61f424cc0": {
     "views": []
    },
    "dd7176650f564adb8de6fcf6fa665e5c": {
     "views": []
    },
    "e1ec3ab50426405d94bd21056c2158bd": {
     "views": []
    },
    "e4abf93e085047d4a9433af2823edc58": {
     "views": []
    },
    "eb0ba48c24b54ae9bd815d3a47d93e79": {
     "views": []
    },
    "f0c0be00414f47ac8ca79d77eeb6f4e7": {
     "views": []
    },
    "f8d23fee78a5463abce1bf48ed8d7bf5": {
     "views": []
    },
    "faa871e44d854e1a94670bf8e919c209": {
     "views": []
    },
    "fca5d77ad3e74e73a94d6e99d6069362": {
     "views": []
    },
    "fe0c64cf257c4b1bb4c04dd68808306e": {
     "views": []
    },
    "ff7947cc4fa44a028c54382080e557d7": {
     "views": []
    }
   },
   "version": "1.1.2"
  }
 },
 "nbformat": 4,
 "nbformat_minor": 1
}
