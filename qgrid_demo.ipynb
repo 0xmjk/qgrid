{
 "metadata": {
  "kernelspec": {
   "codemirror_mode": {
    "name": "ipython",
    "version": 2
   },
   "display_name": "IPython (Python 2)",
   "language": "python",
   "name": "python2"
  },
  "name": "",
  "signature": "sha256:878c6d59a2601fa1828b9d75a6574e5ebd0fab2f87cf74712ef3225e712bceef"
 },
 "nbformat": 3,
 "nbformat_minor": 0,
 "worksheets": [
  {
   "cells": [
    {
     "cell_type": "heading",
     "level": 1,
     "metadata": {},
     "source": [
      "qgrid - SlickGrid in IPython notebook"
     ]
    },
    {
     "cell_type": "markdown",
     "metadata": {},
     "source": [
      "Qgrid is an IPython extension which uses a javascript library called SlickGrid to render pandas DataFrames within an IPython notebook.  It's being developed for use in [Quantopian's hosted research environment](https://www.quantopian.com/research), and this notebook demonstrates the current state of the project."
     ]
    },
    {
     "cell_type": "heading",
     "level": 3,
     "metadata": {},
     "source": [
      "Overview"
     ]
    },
    {
     "cell_type": "markdown",
     "metadata": {},
     "source": [
      "* [SlickGrid](https://github.com/mleibman/SlickGrid) is an an advanced javascript grid which allows users to scroll, sort, \n",
      "and filter hundreds of thousands of rows with extreme responsiveness.  \n",
      "* [Pandas](https://github.com/pydata/pandas) is a powerful data analysis / manipulation library for Python, and DataFrames are the primary way of storing and manipulating two-dimensional data in pandas.\n",
      "\n",
      "[Qgrid](https://github.com/quantopian/qgrid) renders pandas DataFrames as SlickGrids, which enables users to explore the entire contents of a DataFrame using intuitive sorting and filtering controls.  It's designed to be used within IPython notebook, and it's also fully functional when rendered in [nbviewer](http://nbviewer.ipython\n",
      ".org/github/quantopian/qgrid/blob/master/qgrid_demo.ipynb)."
     ]
    },
    {
     "cell_type": "heading",
     "level": 3,
     "metadata": {},
     "source": [
      "Installation"
     ]
    },
    {
     "cell_type": "heading",
     "level": 5,
     "metadata": {},
     "source": [
      "Running locally:"
     ]
    },
    {
     "cell_type": "markdown",
     "metadata": {},
     "source": [
      "This is the best option if you'll be running qgrid frequently or are interested in exploring the code base.  Qgrid will load faster because the extensions and dependencies won't have to be downloaded by your browser.  For instructions on running the extension locally, visit [qgrid on GitHub](https://github.com/quantopian/qgrid)."
     ]
    },
    {
     "cell_type": "heading",
     "level": 5,
     "metadata": {},
     "source": [
      "Install from GitHub:"
     ]
    },
    {
     "cell_type": "markdown",
     "metadata": {},
     "source": [
      "The easiest way to try out qgrid in your own IPython notebook file is to load the extension directly from GitHub.  This allows you to run qgrid without having to clone the github repository to your local machine.  Here's how you do that:"
     ]
    },
    {
     "cell_type": "code",
     "collapsed": false,
     "input": [
      "%install_ext https://raw.githubusercontent.com/quantopian/qgrid/master/extensions/qgrid.py\n",
      "%load_ext qgrid"
     ],
     "language": "python",
     "metadata": {},
     "outputs": []
    },
    {
     "cell_type": "code",
     "collapsed": false,
     "input": [
      "from qgrid import qgrid as qg"
     ],
     "language": "python",
     "metadata": {},
     "outputs": []
    },
    {
     "cell_type": "code",
     "collapsed": false,
     "input": [
      "%load_ext qgrid.qgrid"
     ],
     "language": "python",
     "metadata": {},
     "outputs": [],
     "prompt_number": 1
    },
    {
     "cell_type": "heading",
     "level": 3,
     "metadata": {},
     "source": [
      "Example 1: Rendering DataFrame returned by Yahoo Finance"
     ]
    },
    {
     "cell_type": "code",
     "collapsed": false,
     "input": [
      "import pandas as pd\n",
      "import numpy as np\n",
      "randn = np.random.randn\n",
      "\n",
      "pd.set_option('display.max_rows', 15)\n",
      "\n",
      "from pandas.io.data import get_data_yahoo\n",
      "spy = get_data_yahoo(\n",
      "    symbols='SPY',\n",
      "    start=pd.Timestamp('2011-01-01'),\n",
      "    end=pd.Timestamp('2014-01-01'),\n",
      "    adjust_price=True,\n",
      ")\n",
      "\n",
      "spy"
     ],
     "language": "python",
     "metadata": {},
     "outputs": []
    },
    {
     "cell_type": "code",
     "collapsed": false,
     "input": [
      "qg.qgrid(spy)"
     ],
     "language": "python",
     "metadata": {},
     "outputs": []
    },
    {
     "cell_type": "heading",
     "level": 3,
     "metadata": {},
     "source": [
      "Example 2: Rendering sample DataFrame containing MultiIndex"
     ]
    },
    {
     "cell_type": "code",
     "collapsed": false,
     "input": [
      "tuples = zip(*[['bar', 'bar', 'baz', 'baz', 'foo', 'foo', 'qux', 'qux'],\n",
      "          ['one', 'two', 'one', 'two', 'one', 'two', 'one', 'two']])\n",
      "\n",
      "\n",
      "index = pd.MultiIndex.from_tuples(tuples, names=['first', 'second'])\n",
      "df = pd.DataFrame(randn(8, 2), index=index, columns=['A', 'B'])\n",
      "df\n"
     ],
     "language": "python",
     "metadata": {},
     "outputs": []
    },
    {
     "cell_type": "code",
     "collapsed": false,
     "input": [
      "qgrid(df)"
     ],
     "language": "python",
     "metadata": {},
     "outputs": []
    }
   ],
   "metadata": {}
  }
 ]
}