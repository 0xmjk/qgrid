{
 "cells": [
  {
   "cell_type": "markdown",
   "metadata": {},
   "source": [
    "#qgrid - SlickGrid in IPython notebook\n",
    "---"
   ]
  },
  {
   "cell_type": "markdown",
   "metadata": {},
   "source": [
    "Qgrid is an IPython extension which uses a javascript library called SlickGrid to render pandas DataFrames within an IPython notebook.  It's being developed for use in [Quantopian's hosted research environment]( https://www.quantopian.com/research?utm_source=github&utm_medium=web&utm_campaign=qgrid-nbviewer), and this notebook demonstrates the current state of the project."
   ]
  },
  {
   "cell_type": "markdown",
   "metadata": {},
   "source": [
    "## Overview\n",
    "* [SlickGrid](https://github.com/mleibman/SlickGrid) is an an advanced javascript grid which allows users to scroll, sort, \n",
    "and filter hundreds of thousands of rows with extreme responsiveness.  \n",
    "* [Pandas](https://github.com/pydata/pandas) is a powerful data analysis / manipulation library for Python, and DataFrames are the primary way of storing and manipulating two-dimensional data in pandas.\n",
    "\n",
    "[Qgrid](https://github.com/quantopian/qgrid) renders pandas DataFrames as SlickGrids, which enables users to explore the entire contents of a DataFrame using intuitive sorting and filtering controls.  It's designed to be used within IPython notebook, and it's also fully functional when rendered in [nbviewer](http://nbviewer.ipython\n",
    ".org/github/quantopian/qgrid/blob/master/qgrid_demo.ipynb)."
   ]
  },
  {
   "cell_type": "markdown",
   "metadata": {},
   "source": [
    "## Installation using 'pip install'\n",
    "##### Qgrid is a python module so you can install it using pip:\n",
    "\n",
    "```pip install git+https://github.com/quantopian/qgrid```\n",
    "\n",
    "##### Import it into your namespace like you would for any other python module:"
   ]
  },
  {
   "cell_type": "code",
   "execution_count": 3,
   "metadata": {
    "collapsed": false
   },
   "outputs": [
    {
     "data": {
      "text/html": [
       "<script type=\"text/javascript\">\n",
       "if ($(\"#dg-css\").length == 0){\n",
       "    $(\"head\").append([\n",
       "        \"<link href='/nbextensions/qgridjs/lib/slick.grid.css' rel='stylesheet'>\",\n",
       "        \"<link href='/nbextensions/qgridjs/lib/slick-default-theme.css' rel='stylesheet'>\",\n",
       "        \"<link href='http://cdnjs.cloudflare.com/ajax/libs/jqueryui/1.10.4/css/jquery-ui.min.css' rel='stylesheet'>\",\n",
       "        \"<link id='dg-css' href='/nbextensions/qgridjs/qgrid.css' rel='stylesheet'>\"\n",
       "    ]);\n",
       "}\n",
       "</script>\n",
       "<div>qgrid loaded</div>\n"
      ]
     },
     "metadata": {},
     "output_type": "display_data"
    },
    {
     "data": {
      "application/javascript": [
       "var path_dictionary = {\n",
       "    jquery_drag: \"/nbextensions/qgridjs/lib/jquery.event.drag-2.2\",\n",
       "    slick_core: \"/nbextensions/qgridjs/lib/slick.core.2.2\",\n",
       "    slick_data_view: \"/nbextensions/qgridjs/lib/slick.dataview.2.2\",\n",
       "    slick_check_box_column: \"/nbextensions/qgridjs/lib/slick.checkboxselectcolumn\",\n",
       "    slick_row_selection_model: \"/nbextensions/qgridjs/lib/slick.rowselectionmodel\",\n",
       "    slick_grid: \"/nbextensions/qgridjs/lib/slick.grid.2.2\",\n",
       "    qgrid: \"/nbextensions/qgridjs/qgrid\",\n",
       "    date_filter: \"/nbextensions/qgridjs/qgrid.datefilter\",\n",
       "    slider_filter: \"/nbextensions/qgridjs/qgrid.sliderfilter\",\n",
       "    text_filter: \"/nbextensions/qgridjs/qgrid.textfilter\",\n",
       "    filter_base:  \"/nbextensions/qgridjs/qgrid.filterbase\",\n",
       "    handlebars: \"https://cdnjs.cloudflare.com/ajax/libs/handlebars.js/2.0.0/handlebars.min\"\n",
       "};\n",
       "\n",
       "var existing_config = require.s.contexts._.config;\n",
       "if (!existing_config.paths['underscore']){\n",
       "    path_dictionary['underscore'] = \"https://cdnjs.cloudflare.com/ajax/libs/underscore.js/1.7.0/underscore-min\";\n",
       "}\n",
       "\n",
       "if (!existing_config.paths['moment']){\n",
       "    path_dictionary['moment'] = \"https://cdnjs.cloudflare.com/ajax/libs/moment.js/2.8.3/moment.min\";\n",
       "}\n",
       "\n",
       "if (!existing_config.paths['jqueryui']){\n",
       "    path_dictionary['jqueryui'] = \"https://ajax.googleapis.com/ajax/libs/jqueryui/1.11.1/jquery-ui.min\";\n",
       "}\n",
       "\n",
       "require.config({\n",
       "    paths: path_dictionary\n",
       "});\n",
       "\n",
       "if (typeof jQuery === 'function') {\n",
       "    define('jquery', function() { return jQuery; });\n",
       "}\n",
       "\n",
       "require([\n",
       "    'jquery',\n",
       "    'jquery_drag',\n",
       "    'slick_core',\n",
       "    'slick_data_view'\n",
       "],\n",
       "function($){\n",
       "    $('#1b0c140e-b65b-496e-a689-69432ca2be09').closest('.rendered_html').removeClass('rendered_html');\n",
       "    require([\n",
       "        'widgets/js/manager',\n",
       "        'slick_check_box_column',\n",
       "        'slick_row_selection_model',\n",
       "        'slick_grid',\n",
       "    ], function(manager){\n",
       "        require([\"qgrid\"], function(qgrid){\n",
       "            manager.WidgetManager.register_widget_view('QGrid', qgrid.QGrid);\n",
       "            console.log('qgrid registered');\n",
       "        });\n",
       "    });\n",
       "});\n"
      ]
     },
     "metadata": {},
     "output_type": "display_data"
    }
   ],
   "source": [
    "import qgrid\n",
    "qgrid.load_js()"
   ]
  },
  {
   "cell_type": "code",
   "execution_count": 4,
   "metadata": {
    "collapsed": false
   },
   "outputs": [],
   "source": [
    "import pandas as pd\n",
    "import numpy as np\n",
    "randn = np.random.randn\n",
    "\n",
    "pd.set_option('display.max_rows', 8)\n",
    "\n",
    "from pandas.io.data import get_data_yahoo\n",
    "spy = get_data_yahoo(\n",
    "    symbols='SPY',\n",
    "    start=pd.Timestamp('2011-01-01'),\n",
    "    end=pd.Timestamp('2014-01-01'),\n",
    "    adjust_price=True,\n",
    ")\n",
    "qgrid.SlickGrid(data_frame=spy, remote_js=False)"
   ]
  },
  {
   "cell_type": "markdown",
   "metadata": {},
   "source": [
    "##### Prepare non-python dependencies by calling 'nbinstall':"
   ]
  },
  {
   "cell_type": "code",
   "execution_count": 22,
   "metadata": {
    "collapsed": false
   },
   "outputs": [],
   "source": [
    "qgrid.nbinstall()  # copies javascript dependencies to your /nbextensions folder "
   ]
  },
  {
   "cell_type": "markdown",
   "metadata": {},
   "source": [
    "## Demo 1 - Rendering a DataFrame returned by Yahoo Finance\n",
    "##### First, lets create a sample DataFrame using pandas 'get_data_yahoo' function:"
   ]
  },
  {
   "cell_type": "code",
   "execution_count": 3,
   "metadata": {
    "collapsed": false
   },
   "outputs": [],
   "source": [
    "import pandas as pd\n",
    "import numpy as np\n",
    "randn = np.random.randn\n",
    "\n",
    "pd.set_option('display.max_rows', 8)\n",
    "\n",
    "from pandas.io.data import get_data_yahoo\n",
    "spy = get_data_yahoo(\n",
    "    symbols='SPY',\n",
    "    start=pd.Timestamp('2011-01-01'),\n",
    "    end=pd.Timestamp('2014-01-01'),\n",
    "    adjust_price=True,\n",
    ")"
   ]
  },
  {
   "cell_type": "markdown",
   "metadata": {},
   "source": [
    "##### BEFORE - Here's IPython's default representation of our 'spy' DataFrame:"
   ]
  },
  {
   "cell_type": "code",
   "execution_count": 18,
   "metadata": {
    "collapsed": false
   },
   "outputs": [
    {
     "data": {
      "text/html": [
       "<div>\n",
       "<table border=\"1\" class=\"dataframe\">\n",
       "  <thead>\n",
       "    <tr style=\"text-align: right;\">\n",
       "      <th></th>\n",
       "      <th>Open</th>\n",
       "      <th>High</th>\n",
       "      <th>Low</th>\n",
       "      <th>Close</th>\n",
       "      <th>Volume</th>\n",
       "      <th>Adj_Ratio</th>\n",
       "    </tr>\n",
       "    <tr>\n",
       "      <th>Date</th>\n",
       "      <th></th>\n",
       "      <th></th>\n",
       "      <th></th>\n",
       "      <th></th>\n",
       "      <th></th>\n",
       "      <th></th>\n",
       "    </tr>\n",
       "  </thead>\n",
       "  <tbody>\n",
       "    <tr>\n",
       "      <th>2011-01-03</th>\n",
       "      <td>115.648405</td>\n",
       "      <td>116.460708</td>\n",
       "      <td>114.726575</td>\n",
       "      <td>115.958727</td>\n",
       "      <td>138725200</td>\n",
       "      <td>0.912701</td>\n",
       "    </tr>\n",
       "    <tr>\n",
       "      <th>2011-01-04</th>\n",
       "      <td>116.214283</td>\n",
       "      <td>116.250792</td>\n",
       "      <td>115.173803</td>\n",
       "      <td>115.894838</td>\n",
       "      <td>137409700</td>\n",
       "      <td>0.912701</td>\n",
       "    </tr>\n",
       "    <tr>\n",
       "      <th>2011-01-05</th>\n",
       "      <td>115.529756</td>\n",
       "      <td>116.570235</td>\n",
       "      <td>115.420229</td>\n",
       "      <td>116.497217</td>\n",
       "      <td>133975300</td>\n",
       "      <td>0.912701</td>\n",
       "    </tr>\n",
       "    <tr>\n",
       "      <th>2011-01-06</th>\n",
       "      <td>116.542855</td>\n",
       "      <td>116.670633</td>\n",
       "      <td>115.922218</td>\n",
       "      <td>116.269042</td>\n",
       "      <td>122519000</td>\n",
       "      <td>0.912701</td>\n",
       "    </tr>\n",
       "    <tr>\n",
       "      <th>...</th>\n",
       "      <td>...</td>\n",
       "      <td>...</td>\n",
       "      <td>...</td>\n",
       "      <td>...</td>\n",
       "      <td>...</td>\n",
       "      <td>...</td>\n",
       "    </tr>\n",
       "    <tr>\n",
       "      <th>2013-12-26</th>\n",
       "      <td>178.160131</td>\n",
       "      <td>178.762625</td>\n",
       "      <td>178.140706</td>\n",
       "      <td>178.665444</td>\n",
       "      <td>63365000</td>\n",
       "      <td>0.971747</td>\n",
       "    </tr>\n",
       "    <tr>\n",
       "      <th>2013-12-27</th>\n",
       "      <td>178.898669</td>\n",
       "      <td>178.976396</td>\n",
       "      <td>178.471098</td>\n",
       "      <td>178.655732</td>\n",
       "      <td>61814000</td>\n",
       "      <td>0.971747</td>\n",
       "    </tr>\n",
       "    <tr>\n",
       "      <th>2013-12-30</th>\n",
       "      <td>178.675157</td>\n",
       "      <td>178.820928</td>\n",
       "      <td>178.393357</td>\n",
       "      <td>178.626581</td>\n",
       "      <td>56857000</td>\n",
       "      <td>0.971747</td>\n",
       "    </tr>\n",
       "    <tr>\n",
       "      <th>2013-12-31</th>\n",
       "      <td>178.869518</td>\n",
       "      <td>179.471996</td>\n",
       "      <td>178.733459</td>\n",
       "      <td>179.471996</td>\n",
       "      <td>86119900</td>\n",
       "      <td>0.971747</td>\n",
       "    </tr>\n",
       "  </tbody>\n",
       "</table>\n",
       "<p>754 rows × 6 columns</p>\n",
       "</div>"
      ],
      "text/plain": [
       "                  Open        High         Low       Close     Volume  \\\n",
       "Date                                                                    \n",
       "2011-01-03  115.648405  116.460708  114.726575  115.958727  138725200   \n",
       "2011-01-04  116.214283  116.250792  115.173803  115.894838  137409700   \n",
       "2011-01-05  115.529756  116.570235  115.420229  116.497217  133975300   \n",
       "2011-01-06  116.542855  116.670633  115.922218  116.269042  122519000   \n",
       "...                ...         ...         ...         ...        ...   \n",
       "2013-12-26  178.160131  178.762625  178.140706  178.665444   63365000   \n",
       "2013-12-27  178.898669  178.976396  178.471098  178.655732   61814000   \n",
       "2013-12-30  178.675157  178.820928  178.393357  178.626581   56857000   \n",
       "2013-12-31  178.869518  179.471996  178.733459  179.471996   86119900   \n",
       "\n",
       "            Adj_Ratio  \n",
       "Date                   \n",
       "2011-01-03   0.912701  \n",
       "2011-01-04   0.912701  \n",
       "2011-01-05   0.912701  \n",
       "2011-01-06   0.912701  \n",
       "...               ...  \n",
       "2013-12-26   0.971747  \n",
       "2013-12-27   0.971747  \n",
       "2013-12-30   0.971747  \n",
       "2013-12-31   0.971747  \n",
       "\n",
       "[754 rows x 6 columns]"
      ]
     },
     "execution_count": 18,
     "metadata": {},
     "output_type": "execute_result"
    }
   ],
   "source": [
    "spy"
   ]
  },
  {
   "cell_type": "markdown",
   "metadata": {},
   "source": [
    "##### AFTER - Here's the same 'spy' DataFrame being rendered as a qgrid:"
   ]
  },
  {
   "cell_type": "code",
   "execution_count": 5,
   "metadata": {
    "collapsed": false
   },
   "outputs": [
    {
     "ename": "KeyError",
     "evalue": "'precision'",
     "output_type": "error",
     "traceback": [
      "\u001b[0;31m---------------------------------------------------------------------------\u001b[0m",
      "\u001b[0;31mKeyError\u001b[0m                                  Traceback (most recent call last)",
      "\u001b[0;32m<ipython-input-5-07f12a6036dc>\u001b[0m in \u001b[0;36m<module>\u001b[0;34m()\u001b[0m\n\u001b[0;32m----> 1\u001b[0;31m \u001b[0mqgrid\u001b[0m\u001b[0;34m.\u001b[0m\u001b[0mSlickGrid\u001b[0m\u001b[0;34m(\u001b[0m\u001b[0mdata_frame\u001b[0m\u001b[0;34m=\u001b[0m\u001b[0mspy\u001b[0m\u001b[0;34m,\u001b[0m \u001b[0mremote_js\u001b[0m\u001b[0;34m=\u001b[0m\u001b[0;32mFalse\u001b[0m\u001b[0;34m)\u001b[0m\u001b[0;34m\u001b[0m\u001b[0m\n\u001b[0m",
      "\u001b[0;32m/Users/tshawver/repo/qgrid/qgrid/grid.py\u001b[0m in \u001b[0;36m__init__\u001b[0;34m(self, *args, **kwargs)\u001b[0m\n\u001b[1;32m    186\u001b[0m             \u001b[0mself\u001b[0m\u001b[0;34m.\u001b[0m\u001b[0mcolumn_types\u001b[0m\u001b[0;34m.\u001b[0m\u001b[0mappend\u001b[0m\u001b[0;34m(\u001b[0m\u001b[0mcolumn_type\u001b[0m\u001b[0;34m)\u001b[0m\u001b[0;34m\u001b[0m\u001b[0m\n\u001b[1;32m    187\u001b[0m \u001b[0;34m\u001b[0m\u001b[0m\n\u001b[0;32m--> 188\u001b[0;31m         \u001b[0mself\u001b[0m\u001b[0;34m.\u001b[0m\u001b[0mprecision\u001b[0m \u001b[0;34m=\u001b[0m \u001b[0mkwargs\u001b[0m\u001b[0;34m.\u001b[0m\u001b[0mpop\u001b[0m\u001b[0;34m(\u001b[0m\u001b[0;34m'precision'\u001b[0m\u001b[0;34m,\u001b[0m \u001b[0;36m2\u001b[0m\u001b[0;34m)\u001b[0m\u001b[0;34m\u001b[0m\u001b[0m\n\u001b[0m\u001b[1;32m    189\u001b[0m         \u001b[0mself\u001b[0m\u001b[0;34m.\u001b[0m\u001b[0mjs_options\u001b[0m \u001b[0;34m=\u001b[0m \u001b[0mkwargs\u001b[0m\u001b[0;34m.\u001b[0m\u001b[0mpop\u001b[0m\u001b[0;34m(\u001b[0m\u001b[0;34m'js_options'\u001b[0m\u001b[0;34m,\u001b[0m \u001b[0;34m{\u001b[0m\u001b[0;34m}\u001b[0m\u001b[0;34m)\u001b[0m\u001b[0;34m\u001b[0m\u001b[0m\n\u001b[1;32m    190\u001b[0m \u001b[0;34m\u001b[0m\u001b[0m\n",
      "\u001b[0;31mKeyError\u001b[0m: 'precision'"
     ]
    }
   ],
   "source": [
    "qgrid.SlickGrid(data_frame=spy, remote_js=False)"
   ]
  },
  {
   "cell_type": "code",
   "execution_count": 25,
   "metadata": {
    "collapsed": false
   },
   "outputs": [],
   "source": [
    "qgrid.set_defaults(remote_js=False)"
   ]
  },
  {
   "cell_type": "code",
   "execution_count": 13,
   "metadata": {
    "collapsed": false
   },
   "outputs": [],
   "source": [
    "qgrid.set_js_option('forceFitColumns', True)"
   ]
  },
  {
   "cell_type": "code",
   "execution_count": 14,
   "metadata": {
    "collapsed": false
   },
   "outputs": [
    {
     "data": {
      "text/html": [
       "<script type=\"text/javascript\">\n",
       "if ($(\"#dg-css\").length == 0){\n",
       "    $(\"head\").append([\n",
       "        \"<link href='/nbextensions/qgridjs/lib/slick.grid.css' rel='stylesheet'>\",\n",
       "        \"<link href='/nbextensions/qgridjs/lib/slick-default-theme.css' rel='stylesheet'>\",\n",
       "        \"<link href='http://cdnjs.cloudflare.com/ajax/libs/jqueryui/1.10.4/css/jquery-ui.min.css' rel='stylesheet'>\",\n",
       "        \"<link id='dg-css' href='/nbextensions/qgridjs/qgrid.css' rel='stylesheet'>\"\n",
       "    ]);\n",
       "}\n",
       "</script>\n",
       "<div class='q-grid-container'>\n",
       "<div id='63aa8894-44e5-482e-9145-2ddb9322dc95' class='q-grid'></div>\n",
       "</div>"
      ]
     },
     "metadata": {},
     "output_type": "display_data"
    },
    {
     "data": {
      "application/javascript": [
       "var path_dictionary = {\n",
       "    jquery_drag: \"/nbextensions/qgridjs/lib/jquery.event.drag-2.2\",\n",
       "    slick_core: \"/nbextensions/qgridjs/lib/slick.core.2.2\",\n",
       "    slick_data_view: \"/nbextensions/qgridjs/lib/slick.dataview.2.2\",\n",
       "    slick_check_box_column: \"/nbextensions/qgridjs/lib/slick.checkboxselectcolumn\",\n",
       "    slick_row_selection_model: \"/nbextensions/qgridjs/lib/slick.rowselectionmodel\",\n",
       "    slick_grid: \"/nbextensions/qgridjs/lib/slick.grid.2.2\",\n",
       "    data_grid: \"/nbextensions/qgridjs/qgrid\",\n",
       "    date_filter: \"/nbextensions/qgridjs/qgrid.datefilter\",\n",
       "    slider_filter: \"/nbextensions/qgridjs/qgrid.sliderfilter\",\n",
       "    text_filter: \"/nbextensions/qgridjs/qgrid.textfilter\",\n",
       "    filter_base:  \"/nbextensions/qgridjs/qgrid.filterbase\",\n",
       "    handlebars: \"https://cdnjs.cloudflare.com/ajax/libs/handlebars.js/2.0.0/handlebars.min\"\n",
       "};\n",
       "\n",
       "var existing_config = require.s.contexts._.config;\n",
       "if (!existing_config.paths['underscore']){\n",
       "    path_dictionary['underscore'] = \"https://cdnjs.cloudflare.com/ajax/libs/underscore.js/1.7.0/underscore-min\";\n",
       "}\n",
       "\n",
       "if (!existing_config.paths['moment']){\n",
       "    path_dictionary['moment'] = \"https://cdnjs.cloudflare.com/ajax/libs/moment.js/2.8.3/moment.min\";\n",
       "}\n",
       "\n",
       "if (!existing_config.paths['jqueryui']){\n",
       "    path_dictionary['jqueryui'] = \"https://ajax.googleapis.com/ajax/libs/jqueryui/1.11.1/jquery-ui.min\";\n",
       "}\n",
       "\n",
       "require.config({\n",
       "    paths: path_dictionary\n",
       "});\n",
       "\n",
       "if (typeof jQuery === 'function') {\n",
       "    define('jquery', function() { return jQuery; });\n",
       "}\n",
       "\n",
       "require([\n",
       "    'jquery',\n",
       "    'jquery_drag',\n",
       "    'slick_core',\n",
       "    'slick_data_view'\n",
       "],\n",
       "function($){\n",
       "    $('#63aa8894-44e5-482e-9145-2ddb9322dc95').closest('.rendered_html').removeClass('rendered_html');\n",
       "    require([\n",
       "      'slick_check_box_column',\n",
       "      'slick_row_selection_model',\n",
       "      'slick_grid'\n",
       "    ], function(){\n",
       "        require([\"data_grid\"], function(dgrid){\n",
       "            var grid = new dgrid.QGrid('#63aa8894-44e5-482e-9145-2ddb9322dc95', [{\"Date\":\"2011-01-03T00:00:00.000Z\",\"Open\":115.648405,\"High\":116.460708,\"Low\":114.726575,\"Close\":115.958727,\"Volume\":138725200,\"Adj_Ratio\":0.912701},{\"Date\":\"2011-01-04T00:00:00.000Z\",\"Open\":116.214283,\"High\":116.250792,\"Low\":115.173803,\"Close\":115.894838,\"Volume\":137409700,\"Adj_Ratio\":0.912701},{\"Date\":\"2011-01-05T00:00:00.000Z\",\"Open\":115.529756,\"High\":116.570235,\"Low\":115.420229,\"Close\":116.497217,\"Volume\":133975300,\"Adj_Ratio\":0.912701},{\"Date\":\"2011-01-06T00:00:00.000Z\",\"Open\":116.542855,\"High\":116.670633,\"Low\":115.922218,\"Close\":116.269042,\"Volume\":122519000,\"Adj_Ratio\":0.912701},{\"Date\":\"2011-01-07T00:00:00.000Z\",\"Open\":116.424201,\"High\":116.615867,\"Low\":115.137295,\"Close\":116.040867,\"Volume\":156034600,\"Adj_Ratio\":0.912701},{\"Date\":\"2011-01-10T00:00:00.000Z\",\"Open\":115.529756,\"High\":116.059125,\"Low\":115.182925,\"Close\":115.894838,\"Volume\":122401700,\"Adj_Ratio\":0.912701},{\"Date\":\"2011-01-11T00:00:00.000Z\",\"Open\":116.31468,\"High\":116.588487,\"Low\":115.867452,\"Close\":116.305551,\"Volume\":110287000,\"Adj_Ratio\":0.912701},{\"Date\":\"2011-01-12T00:00:00.000Z\",\"Open\":117.017464,\"High\":117.482936,\"Low\":116.332931,\"Close\":117.355159,\"Volume\":107929200,\"Adj_Ratio\":0.912701},{\"Date\":\"2011-01-13T00:00:00.000Z\",\"Open\":117.400797,\"High\":117.455556,\"Low\":116.871428,\"Close\":117.163485,\"Volume\":129048400,\"Adj_Ratio\":0.912701},{\"Date\":\"2011-01-14T00:00:00.000Z\",\"Open\":116.999205,\"High\":118.039685,\"Low\":116.917066,\"Close\":118.012305,\"Volume\":117677900,\"Adj_Ratio\":0.912701},{\"Date\":\"2011-01-18T00:00:00.000Z\",\"Open\":117.902772,\"High\":118.322621,\"Low\":117.765873,\"Close\":118.213101,\"Volume\":114401300,\"Adj_Ratio\":0.912701},{\"Date\":\"2011-01-19T00:00:00.000Z\",\"Open\":118.112703,\"High\":118.231345,\"Low\":116.743651,\"Close\":117.053966,\"Volume\":151958400,\"Adj_Ratio\":0.912701},{\"Date\":\"2011-01-20T00:00:00.000Z\",\"Open\":116.789281,\"High\":117.190865,\"Low\":116.031737,\"Close\":116.898808,\"Volume\":175745700,\"Adj_Ratio\":0.912701},{\"Date\":\"2011-01-21T00:00:00.000Z\",\"Open\":117.628972,\"High\":117.893649,\"Low\":117.035708,\"Close\":117.163485,\"Volume\":151462900,\"Adj_Ratio\":0.912701},{\"Date\":\"2011-01-24T00:00:00.000Z\",\"Open\":117.090468,\"High\":117.966668,\"Low\":117.063089,\"Close\":117.829768,\"Volume\":113715500,\"Adj_Ratio\":0.912701},{\"Date\":\"2011-01-25T00:00:00.000Z\",\"Open\":117.519439,\"High\":117.994047,\"Low\":116.926188,\"Close\":117.893649,\"Volume\":167552200,\"Adj_Ratio\":0.912701},{\"Date\":\"2011-01-26T00:00:00.000Z\",\"Open\":118.18572,\"High\":118.696831,\"Low\":117.94841,\"Close\":118.35,\"Volume\":141281500,\"Adj_Ratio\":0.912701},{\"Date\":\"2011-01-27T00:00:00.000Z\",\"Open\":118.37738,\"High\":118.842867,\"Low\":118.167463,\"Close\":118.642071,\"Volume\":123302700,\"Adj_Ratio\":0.912701},{\"Date\":\"2011-01-28T00:00:00.000Z\",\"Open\":118.778971,\"High\":118.970644,\"Low\":116.378569,\"Close\":116.570235,\"Volume\":295637300,\"Adj_Ratio\":0.912701},{\"Date\":\"2011-01-31T00:00:00.000Z\",\"Open\":116.889686,\"High\":117.537697,\"Low\":116.597615,\"Close\":117.446421,\"Volume\":149249200,\"Adj_Ratio\":0.912701},{\"Date\":\"2011-02-01T00:00:00.000Z\",\"Open\":118.158341,\"High\":119.536515,\"Low\":118.085323,\"Close\":119.326597,\"Volume\":167194300,\"Adj_Ratio\":0.912701},{\"Date\":\"2011-02-02T00:00:00.000Z\",\"Open\":119.016269,\"High\":119.417859,\"Low\":118.952387,\"Close\":119.098422,\"Volume\":118323600,\"Adj_Ratio\":0.912701},{\"Date\":\"2011-02-03T00:00:00.000Z\",\"Open\":118.888491,\"High\":119.545637,\"Low\":118.258738,\"Close\":119.363099,\"Volume\":145886700,\"Adj_Ratio\":0.912701},{\"Date\":\"2011-02-04T00:00:00.000Z\",\"Open\":119.408738,\"High\":119.746433,\"Low\":118.861111,\"Close\":119.700795,\"Volume\":134634800,\"Adj_Ratio\":0.912701},{\"Date\":\"2011-02-07T00:00:00.000Z\",\"Open\":119.965485,\"High\":120.841671,\"Low\":119.95635,\"Close\":120.449216,\"Volume\":112439100,\"Adj_Ratio\":0.912701},{\"Date\":\"2011-02-08T00:00:00.000Z\",\"Open\":120.558736,\"High\":121.060725,\"Low\":120.230164,\"Close\":120.996843,\"Volume\":99072800,\"Adj_Ratio\":0.912701},{\"Date\":\"2011-02-09T00:00:00.000Z\",\"Open\":120.668271,\"High\":121.051603,\"Low\":120.120644,\"Close\":120.72303,\"Volume\":146436700,\"Adj_Ratio\":0.912701},{\"Date\":\"2011-02-10T00:00:00.000Z\",\"Open\":120.111522,\"High\":120.905568,\"Low\":119.837709,\"Close\":120.768668,\"Volume\":162708500,\"Adj_Ratio\":0.912701},{\"Date\":\"2011-02-11T00:00:00.000Z\",\"Open\":120.294059,\"High\":121.644853,\"Low\":120.266679,\"Close\":121.489696,\"Volume\":137710300,\"Adj_Ratio\":0.912701},{\"Date\":\"2011-02-14T00:00:00.000Z\",\"Open\":121.416678,\"High\":121.88215,\"Low\":121.279778,\"Close\":121.781753,\"Volume\":101690700,\"Adj_Ratio\":0.912701},{\"Date\":\"2011-02-15T00:00:00.000Z\",\"Open\":121.407555,\"High\":121.590093,\"Low\":120.768667,\"Close\":121.39842,\"Volume\":119575400,\"Adj_Ratio\":0.912701},{\"Date\":\"2011-02-16T00:00:00.000Z\",\"Open\":121.809147,\"High\":122.311122,\"Low\":121.562713,\"Close\":122.1651,\"Volume\":130183500,\"Adj_Ratio\":0.912701},{\"Date\":\"2011-02-17T00:00:00.000Z\",\"Open\":121.809147,\"High\":122.694455,\"Low\":121.699613,\"Close\":122.530175,\"Volume\":109810500,\"Adj_Ratio\":0.912701},{\"Date\":\"2011-02-18T00:00:00.000Z\",\"Open\":122.639694,\"High\":122.931765,\"Low\":122.356759,\"Close\":122.78573,\"Volume\":130002400,\"Adj_Ratio\":0.912701},{\"Date\":\"2011-02-22T00:00:00.000Z\",\"Open\":121.498818,\"High\":122.81311,\"Low\":119.992866,\"Close\":120.321439,\"Volume\":233116400,\"Adj_Ratio\":0.912701},{\"Date\":\"2011-02-23T00:00:00.000Z\",\"Open\":120.248421,\"High\":120.540492,\"Low\":118.842868,\"Close\":119.582153,\"Volume\":227584000,\"Adj_Ratio\":0.912701},{\"Date\":\"2011-02-24T00:00:00.000Z\",\"Open\":119.454375,\"High\":119.965485,\"Low\":118.37738,\"Close\":119.499999,\"Volume\":260431400,\"Adj_Ratio\":0.912701},{\"Date\":\"2011-02-25T00:00:00.000Z\",\"Open\":120.001988,\"High\":120.850808,\"Low\":119.92897,\"Close\":120.77779,\"Volume\":141686900,\"Adj_Ratio\":0.912701},{\"Date\":\"2011-02-28T00:00:00.000Z\",\"Open\":121.225017,\"High\":121.681368,\"Low\":120.823427,\"Close\":121.526197,\"Volume\":141585500,\"Adj_Ratio\":0.912701},{\"Date\":\"2011-03-01T00:00:00.000Z\",\"Open\":121.909544,\"High\":122.019063,\"Low\":119.463496,\"Close\":119.499999,\"Volume\":258565500,\"Adj_Ratio\":0.912701},{\"Date\":\"2011-03-02T00:00:00.000Z\",\"Open\":119.335719,\"High\":120.312316,\"Low\":118.970644,\"Close\":119.755568,\"Volume\":200277400,\"Adj_Ratio\":0.912701},{\"Date\":\"2011-03-03T00:00:00.000Z\",\"Open\":120.841672,\"High\":121.955169,\"Low\":120.83255,\"Close\":121.818269,\"Volume\":176480100,\"Adj_Ratio\":0.912701},{\"Date\":\"2011-03-04T00:00:00.000Z\",\"Open\":121.726993,\"High\":121.964304,\"Low\":120.111521,\"Close\":120.905567,\"Volume\":277202300,\"Adj_Ratio\":0.912701},{\"Date\":\"2011-03-07T00:00:00.000Z\",\"Open\":121.26152,\"High\":121.535334,\"Low\":119.326597,\"Close\":119.95635,\"Volume\":216790400,\"Adj_Ratio\":0.912701},{\"Date\":\"2011-03-08T00:00:00.000Z\",\"Open\":120.148023,\"High\":121.389298,\"Low\":119.62779,\"Close\":121.005965,\"Volume\":174615000,\"Adj_Ratio\":0.912701},{\"Date\":\"2011-03-09T00:00:00.000Z\",\"Open\":120.768667,\"High\":121.20676,\"Low\":120.111521,\"Close\":120.832549,\"Volume\":153806000,\"Adj_Ratio\":0.912701},{\"Date\":\"2011-03-10T00:00:00.000Z\",\"Open\":119.563896,\"High\":119.728176,\"Low\":118.477779,\"Close\":118.596434,\"Volume\":301291800,\"Adj_Ratio\":0.912701},{\"Date\":\"2011-03-11T00:00:00.000Z\",\"Open\":118.2131,\"High\":119.846831,\"Low\":118.18572,\"Close\":119.417859,\"Volume\":225621800,\"Adj_Ratio\":0.912701},{\"Date\":\"2011-03-14T00:00:00.000Z\",\"Open\":118.642071,\"High\":119.089286,\"Low\":117.793252,\"Close\":118.696831,\"Volume\":234974100,\"Adj_Ratio\":0.912701},{\"Date\":\"2011-03-15T00:00:00.000Z\",\"Open\":115.538877,\"High\":118.039685,\"Low\":115.456738,\"Close\":117.336901,\"Volume\":359585400,\"Adj_Ratio\":0.912701},{\"Date\":\"2011-03-16T00:00:00.000Z\",\"Open\":116.96269,\"High\":117.346037,\"Low\":114.343242,\"Close\":115.164674,\"Volume\":468670300,\"Adj_Ratio\":0.912701},{\"Date\":\"2011-03-17T00:00:00.000Z\",\"Open\":116.825791,\"High\":117.181744,\"Low\":116.004358,\"Close\":116.688884,\"Volume\":254303700,\"Adj_Ratio\":0.912701},{\"Date\":\"2011-03-18T00:00:00.000Z\",\"Open\":118.103294,\"High\":118.139969,\"Low\":116.884133,\"Close\":117.1133,\"Volume\":230435400,\"Adj_Ratio\":0.916666},{\"Date\":\"2011-03-21T00:00:00.000Z\",\"Open\":118.570803,\"High\":119.175793,\"Low\":118.433295,\"Close\":118.928302,\"Volume\":153992600,\"Adj_Ratio\":0.916666},{\"Date\":\"2011-03-22T00:00:00.000Z\",\"Open\":118.909965,\"High\":119.065796,\"Low\":118.405796,\"Close\":118.515791,\"Volume\":129538600,\"Adj_Ratio\":0.916666},{\"Date\":\"2011-03-23T00:00:00.000Z\",\"Open\":118.18579,\"High\":119.16663,\"Low\":117.626637,\"Close\":118.854967,\"Volume\":148603100,\"Adj_Ratio\":0.916666},{\"Date\":\"2011-03-24T00:00:00.000Z\",\"Open\":119.533292,\"High\":120.165793,\"Low\":118.864129,\"Close\":119.991625,\"Volume\":159129800,\"Adj_Ratio\":0.916666},{\"Date\":\"2011-03-25T00:00:00.000Z\",\"Open\":120.303302,\"High\":120.880793,\"Low\":119.982463,\"Close\":120.3583,\"Volume\":155642800,\"Adj_Ratio\":0.916666},{\"Date\":\"2011-03-28T00:00:00.000Z\",\"Open\":120.614965,\"High\":120.926628,\"Low\":120.028299,\"Close\":120.06496,\"Volume\":109762400,\"Adj_Ratio\":0.916666},{\"Date\":\"2011-03-29T00:00:00.000Z\",\"Open\":119.964126,\"High\":120.908291,\"Low\":119.569966,\"Close\":120.871631,\"Volume\":129798800,\"Adj_Ratio\":0.916666},{\"Date\":\"2011-03-30T00:00:00.000Z\",\"Open\":121.504132,\"High\":122.0633,\"Low\":121.329964,\"Close\":121.7058,\"Volume\":135835000,\"Adj_Ratio\":0.916666},{\"Date\":\"2011-03-31T00:00:00.000Z\",\"Open\":121.549969,\"High\":121.87997,\"Low\":121.412461,\"Close\":121.540793,\"Volume\":132537100,\"Adj_Ratio\":0.916666},{\"Date\":\"2011-04-01T00:00:00.000Z\",\"Open\":122.292466,\"High\":122.622466,\"Low\":121.760798,\"Close\":122.054124,\"Volume\":153850100,\"Adj_Ratio\":0.916666},{\"Date\":\"2011-04-04T00:00:00.000Z\",\"Open\":122.310789,\"High\":122.530794,\"Low\":121.806634,\"Close\":122.154958,\"Volume\":100768900,\"Adj_Ratio\":0.916666},{\"Date\":\"2011-04-05T00:00:00.000Z\",\"Open\":121.91663,\"High\":122.677465,\"Low\":121.861632,\"Close\":122.136635,\"Volume\":120791500,\"Adj_Ratio\":0.916666},{\"Date\":\"2011-04-06T00:00:00.000Z\",\"Open\":122.723301,\"High\":122.833296,\"Low\":122.026625,\"Close\":122.521633,\"Volume\":120411600,\"Adj_Ratio\":0.916666},{\"Date\":\"2011-04-07T00:00:00.000Z\",\"Open\":122.301628,\"High\":122.81496,\"Low\":121.604967,\"Close\":122.20997,\"Volume\":170731500,\"Adj_Ratio\":0.916666},{\"Date\":\"2011-04-08T00:00:00.000Z\",\"Open\":122.750799,\"High\":122.824134,\"Low\":121.284128,\"Close\":121.788297,\"Volume\":147945400,\"Adj_Ratio\":0.916666},{\"Date\":\"2011-04-11T00:00:00.000Z\",\"Open\":121.916629,\"High\":122.329127,\"Low\":121.128295,\"Close\":121.421636,\"Volume\":121385400,\"Adj_Ratio\":0.916666},{\"Date\":\"2011-04-12T00:00:00.000Z\",\"Open\":120.743298,\"High\":120.981626,\"Low\":120.074135,\"Close\":120.514131,\"Volume\":161187400,\"Adj_Ratio\":0.916666},{\"Date\":\"2011-04-13T00:00:00.000Z\",\"Open\":121.073299,\"High\":121.164957,\"Low\":120.046637,\"Close\":120.50497,\"Volume\":162059000,\"Adj_Ratio\":0.916666},{\"Date\":\"2011-04-14T00:00:00.000Z\",\"Open\":119.808294,\"High\":120.779959,\"Low\":119.414134,\"Close\":120.596628,\"Volume\":161220400,\"Adj_Ratio\":0.916666},{\"Date\":\"2011-04-15T00:00:00.000Z\",\"Open\":120.816633,\"High\":121.339126,\"Low\":120.459134,\"Close\":121.036624,\"Volume\":170006700,\"Adj_Ratio\":0.916666},{\"Date\":\"2011-04-18T00:00:00.000Z\",\"Open\":119.707459,\"High\":121.027461,\"Low\":118.717459,\"Close\":119.679961,\"Volume\":210759300,\"Adj_Ratio\":0.916666},{\"Date\":\"2011-04-19T00:00:00.000Z\",\"Open\":119.863292,\"High\":120.404135,\"Low\":119.569965,\"Close\":120.367461,\"Volume\":124258800,\"Adj_Ratio\":0.916666},{\"Date\":\"2011-04-20T00:00:00.000Z\",\"Open\":121.806634,\"High\":122.274129,\"Low\":121.724124,\"Close\":122.008302,\"Volume\":156133800,\"Adj_Ratio\":0.916666},{\"Date\":\"2011-04-21T00:00:00.000Z\",\"Open\":122.640789,\"High\":122.686625,\"Low\":122.008301,\"Close\":122.631628,\"Volume\":135935400,\"Adj_Ratio\":0.916666},{\"Date\":\"2011-04-25T00:00:00.000Z\",\"Open\":122.539957,\"High\":122.704964,\"Low\":122.099961,\"Close\":122.503296,\"Volume\":65757100,\"Adj_Ratio\":0.916666},{\"Date\":\"2011-04-26T00:00:00.000Z\",\"Open\":122.879132,\"High\":123.804961,\"Low\":122.7508,\"Close\":123.557456,\"Volume\":146600000,\"Adj_Ratio\":0.916666},{\"Date\":\"2011-04-27T00:00:00.000Z\",\"Open\":123.795798,\"High\":124.547458,\"Low\":123.291629,\"Close\":124.364127,\"Volume\":143031000,\"Adj_Ratio\":0.916666},{\"Date\":\"2011-04-28T00:00:00.000Z\",\"Open\":124.144123,\"High\":124.932456,\"Low\":124.125799,\"Close\":124.767463,\"Volume\":124791100,\"Adj_Ratio\":0.916666},{\"Date\":\"2011-04-29T00:00:00.000Z\",\"Open\":124.813299,\"High\":125.189135,\"Low\":124.648292,\"Close\":125.060789,\"Volume\":115094100,\"Adj_Ratio\":0.916666},{\"Date\":\"2011-05-02T00:00:00.000Z\",\"Open\":125.647469,\"High\":125.748289,\"Low\":124.620793,\"Close\":124.868297,\"Volume\":126278700,\"Adj_Ratio\":0.916666},{\"Date\":\"2011-05-03T00:00:00.000Z\",\"Open\":124.629968,\"High\":124.840797,\"Low\":123.786622,\"Close\":124.419125,\"Volume\":138375000,\"Adj_Ratio\":0.916666},{\"Date\":\"2011-05-04T00:00:00.000Z\",\"Open\":124.364127,\"High\":124.419125,\"Low\":123.044126,\"Close\":123.594131,\"Volume\":182678500,\"Adj_Ratio\":0.916666},{\"Date\":\"2011-05-05T00:00:00.000Z\",\"Open\":122.906631,\"High\":123.704126,\"Low\":121.934967,\"Close\":122.475797,\"Volume\":226900000,\"Adj_Ratio\":0.916666},{\"Date\":\"2011-05-06T00:00:00.000Z\",\"Open\":123.694965,\"High\":124.327467,\"Low\":122.539957,\"Close\":123.016627,\"Volume\":222787200,\"Adj_Ratio\":0.916666},{\"Date\":\"2011-05-09T00:00:00.000Z\",\"Open\":123.007465,\"High\":123.850797,\"Low\":122.814959,\"Close\":123.493297,\"Volume\":114104500,\"Adj_Ratio\":0.916666},{\"Date\":\"2011-05-10T00:00:00.000Z\",\"Open\":123.905794,\"High\":124.767463,\"Low\":123.749963,\"Close\":124.547458,\"Volume\":114806900,\"Adj_Ratio\":0.916666},{\"Date\":\"2011-05-11T00:00:00.000Z\",\"Open\":124.364128,\"High\":124.382465,\"Low\":122.668303,\"Close\":123.236632,\"Volume\":193564200,\"Adj_Ratio\":0.916666},{\"Date\":\"2011-05-12T00:00:00.000Z\",\"Open\":122.906631,\"High\":124.079963,\"Low\":122.274128,\"Close\":123.823297,\"Volume\":171550700,\"Adj_Ratio\":0.916666},{\"Date\":\"2011-05-13T00:00:00.000Z\",\"Open\":123.887458,\"High\":124.061626,\"Low\":122.429962,\"Close\":122.869957,\"Volume\":157444900,\"Adj_Ratio\":0.916666},{\"Date\":\"2011-05-16T00:00:00.000Z\",\"Open\":122.429962,\"High\":123.392464,\"Low\":121.889131,\"Close\":122.090799,\"Volume\":141675400,\"Adj_Ratio\":0.916666},{\"Date\":\"2011-05-17T00:00:00.000Z\",\"Open\":121.632465,\"High\":122.237468,\"Low\":121.109959,\"Close\":122.072461,\"Volume\":192686200,\"Adj_Ratio\":0.916666},{\"Date\":\"2011-05-18T00:00:00.000Z\",\"Open\":122.136634,\"High\":123.291629,\"Low\":121.870794,\"Close\":123.163297,\"Volume\":135217900,\"Adj_Ratio\":0.916666},{\"Date\":\"2011-05-19T00:00:00.000Z\",\"Open\":123.566631,\"High\":123.777461,\"Low\":122.778297,\"Close\":123.456622,\"Volume\":119489500,\"Adj_Ratio\":0.916666},{\"Date\":\"2011-05-20T00:00:00.000Z\",\"Open\":123.135798,\"High\":123.456623,\"Low\":122.24663,\"Close\":122.475797,\"Volume\":182594900,\"Adj_Ratio\":0.916666},{\"Date\":\"2011-05-23T00:00:00.000Z\",\"Open\":120.981626,\"High\":121.659964,\"Low\":120.624126,\"Close\":121.054961,\"Volume\":168700000,\"Adj_Ratio\":0.916666},{\"Date\":\"2011-05-24T00:00:00.000Z\",\"Open\":121.403298,\"High\":121.669126,\"Low\":120.72496,\"Close\":120.954127,\"Volume\":147199600,\"Adj_Ratio\":0.916666},{\"Date\":\"2011-05-25T00:00:00.000Z\",\"Open\":120.468296,\"High\":121.861632,\"Low\":120.431635,\"Close\":121.357463,\"Volume\":151050100,\"Adj_Ratio\":0.916666},{\"Date\":\"2011-05-26T00:00:00.000Z\",\"Open\":121.027463,\"High\":122.136635,\"Low\":120.798296,\"Close\":121.91663,\"Volume\":164850000,\"Adj_Ratio\":0.916666},{\"Date\":\"2011-05-27T00:00:00.000Z\",\"Open\":122.255791,\"High\":122.714124,\"Low\":121.879968,\"Close\":122.384124,\"Volume\":120921900,\"Adj_Ratio\":0.916666},{\"Date\":\"2011-05-31T00:00:00.000Z\",\"Open\":123.539133,\"High\":123.676627,\"Low\":122.686625,\"Close\":123.65829,\"Volume\":164731200,\"Adj_Ratio\":0.916666},{\"Date\":\"2011-06-01T00:00:00.000Z\",\"Open\":123.300791,\"High\":123.676627,\"Low\":120.779959,\"Close\":120.880792,\"Volume\":233094300,\"Adj_Ratio\":0.916666},{\"Date\":\"2011-06-02T00:00:00.000Z\",\"Open\":120.963302,\"High\":121.219967,\"Low\":120.046636,\"Close\":120.752459,\"Volume\":200466800,\"Adj_Ratio\":0.916666},{\"Date\":\"2011-06-03T00:00:00.000Z\",\"Open\":119.304125,\"High\":120.468295,\"Low\":119.239966,\"Close\":119.551629,\"Volume\":234690200,\"Adj_Ratio\":0.916666},{\"Date\":\"2011-06-06T00:00:00.000Z\",\"Open\":119.249127,\"High\":119.496632,\"Low\":118.130794,\"Close\":118.286625,\"Volume\":179951200,\"Adj_Ratio\":0.916666},{\"Date\":\"2011-06-07T00:00:00.000Z\",\"Open\":118.891628,\"High\":119.230804,\"Low\":118.11247,\"Close\":118.213304,\"Volume\":161660500,\"Adj_Ratio\":0.916666},{\"Date\":\"2011-06-08T00:00:00.000Z\",\"Open\":118.02996,\"High\":118.424133,\"Low\":117.498291,\"Close\":117.718296,\"Volume\":198696400,\"Adj_Ratio\":0.916666},{\"Date\":\"2011-06-09T00:00:00.000Z\",\"Open\":118.039134,\"High\":119.102457,\"Low\":117.754971,\"Close\":118.616625,\"Volume\":160964400,\"Adj_Ratio\":0.916666},{\"Date\":\"2011-06-10T00:00:00.000Z\",\"Open\":118.11247,\"High\":118.185792,\"Low\":116.654967,\"Close\":116.96663,\"Volume\":238629400,\"Adj_Ratio\":0.916666},{\"Date\":\"2011-06-13T00:00:00.000Z\",\"Open\":117.232463,\"High\":117.553302,\"Low\":116.462467,\"Close\":117.058295,\"Volume\":207599800,\"Adj_Ratio\":0.916666},{\"Date\":\"2011-06-14T00:00:00.000Z\",\"Open\":118.130793,\"High\":118.955801,\"Low\":118.084971,\"Close\":118.543304,\"Volume\":160570400,\"Adj_Ratio\":0.916666},{\"Date\":\"2011-06-15T00:00:00.000Z\",\"Open\":117.553302,\"High\":118.524967,\"Low\":116.123298,\"Close\":116.434962,\"Volume\":300958000,\"Adj_Ratio\":0.916666},{\"Date\":\"2011-06-16T00:00:00.000Z\",\"Open\":116.471629,\"High\":117.305799,\"Low\":115.793298,\"Close\":116.691634,\"Volume\":308032800,\"Adj_Ratio\":0.916666},{\"Date\":\"2011-06-17T00:00:00.000Z\",\"Open\":117.850516,\"High\":117.85973,\"Low\":116.643732,\"Close\":117.039853,\"Volume\":233284900,\"Adj_Ratio\":0.921211},{\"Date\":\"2011-06-20T00:00:00.000Z\",\"Open\":116.643733,\"High\":117.887366,\"Low\":116.606883,\"Close\":117.638635,\"Volume\":159479000,\"Adj_Ratio\":0.921211},{\"Date\":\"2011-06-21T00:00:00.000Z\",\"Open\":118.246638,\"High\":119.481057,\"Low\":117.684698,\"Close\":119.250754,\"Volume\":193157300,\"Adj_Ratio\":0.921211},{\"Date\":\"2011-06-22T00:00:00.000Z\",\"Open\":118.882276,\"High\":119.582391,\"Low\":118.458512,\"Close\":118.532211,\"Volume\":176703000,\"Adj_Ratio\":0.921211},{\"Date\":\"2011-06-23T00:00:00.000Z\",\"Open\":117.141187,\"High\":118.504575,\"Low\":116.247611,\"Close\":118.191367,\"Volume\":334286500,\"Adj_Ratio\":0.921211},{\"Date\":\"2011-06-24T00:00:00.000Z\",\"Open\":118.163732,\"High\":118.255844,\"Low\":116.643733,\"Close\":116.818758,\"Volume\":226129300,\"Adj_Ratio\":0.921211},{\"Date\":\"2011-06-27T00:00:00.000Z\",\"Open\":116.892457,\"High\":118.311116,\"Low\":116.662154,\"Close\":117.859731,\"Volume\":168904700,\"Adj_Ratio\":0.921211},{\"Date\":\"2011-06-28T00:00:00.000Z\",\"Open\":118.329543,\"High\":119.416579,\"Low\":118.163731,\"Close\":119.398151,\"Volume\":165556300,\"Adj_Ratio\":0.921211},{\"Date\":\"2011-06-29T00:00:00.000Z\",\"Open\":119.941663,\"High\":120.614143,\"Low\":119.41658,\"Close\":120.420696,\"Volume\":244295500,\"Adj_Ratio\":0.921211},{\"Date\":\"2011-06-30T00:00:00.000Z\",\"Open\":120.807602,\"High\":121.765656,\"Low\":120.411489,\"Close\":121.572209,\"Volume\":223322700,\"Adj_Ratio\":0.921211},{\"Date\":\"2011-07-01T00:00:00.000Z\",\"Open\":121.68275,\"High\":123.534393,\"Low\":121.397177,\"Close\":123.368568,\"Volume\":202385700,\"Adj_Ratio\":0.921211},{\"Date\":\"2011-07-05T00:00:00.000Z\",\"Open\":123.239599,\"High\":123.515965,\"Low\":122.880326,\"Close\":123.267234,\"Volume\":165936000,\"Adj_Ratio\":0.921211},{\"Date\":\"2011-07-06T00:00:00.000Z\",\"Open\":122.972453,\"High\":123.571235,\"Low\":122.62239,\"Close\":123.414631,\"Volume\":143331600,\"Adj_Ratio\":0.921211},{\"Date\":\"2011-07-07T00:00:00.000Z\",\"Open\":124.510875,\"High\":125.008322,\"Low\":124.252936,\"Close\":124.695114,\"Volume\":170464200,\"Adj_Ratio\":0.921211},{\"Date\":\"2011-07-08T00:00:00.000Z\",\"Open\":123.285662,\"High\":124.695114,\"Low\":122.880327,\"Close\":123.810745,\"Volume\":194100500,\"Adj_Ratio\":0.921211},{\"Date\":\"2011-07-11T00:00:00.000Z\",\"Open\":122.290753,\"High\":122.686867,\"Low\":121.286636,\"Close\":121.572209,\"Volume\":195918600,\"Adj_Ratio\":0.921211},{\"Date\":\"2011-07-12T00:00:00.000Z\",\"Open\":121.314272,\"High\":122.318389,\"Low\":121.010271,\"Close\":121.047113,\"Volume\":214675700,\"Adj_Ratio\":0.921211},{\"Date\":\"2011-07-13T00:00:00.000Z\",\"Open\":121.682751,\"High\":122.723724,\"Low\":121.157668,\"Close\":121.452448,\"Volume\":204062600,\"Adj_Ratio\":0.921211},{\"Date\":\"2011-07-14T00:00:00.000Z\",\"Open\":121.756448,\"High\":122.318388,\"Low\":120.383839,\"Close\":120.614142,\"Volume\":226111800,\"Adj_Ratio\":0.921211},{\"Date\":\"2011-07-15T00:00:00.000Z\",\"Open\":121.286638,\"High\":121.480084,\"Low\":120.46676,\"Close\":121.314272,\"Volume\":220012800,\"Adj_Ratio\":0.921211},{\"Date\":\"2011-07-18T00:00:00.000Z\",\"Open\":120.752332,\"High\":120.936571,\"Low\":119.416579,\"Close\":120.319362,\"Volume\":196872100,\"Adj_Ratio\":0.921211},{\"Date\":\"2011-07-19T00:00:00.000Z\",\"Open\":120.991842,\"High\":122.419722,\"Low\":120.964207,\"Close\":122.272325,\"Volume\":166554900,\"Adj_Ratio\":0.921211},{\"Date\":\"2011-07-20T00:00:00.000Z\",\"Open\":122.585547,\"High\":122.659231,\"Low\":121.986751,\"Close\":122.198626,\"Volume\":137145400,\"Adj_Ratio\":0.921211},{\"Date\":\"2011-07-21T00:00:00.000Z\",\"Open\":122.889535,\"High\":124.197666,\"Low\":122.217055,\"Close\":123.893665,\"Volume\":245246300,\"Adj_Ratio\":0.921211},{\"Date\":\"2011-07-22T00:00:00.000Z\",\"Open\":123.9213,\"High\":124.10554,\"Low\":123.221172,\"Close\":123.976571,\"Volume\":126019400,\"Adj_Ratio\":0.921211},{\"Date\":\"2011-07-25T00:00:00.000Z\",\"Open\":122.797421,\"High\":123.893664,\"Low\":122.668453,\"Close\":123.285662,\"Volume\":136653800,\"Adj_Ratio\":0.921211},{\"Date\":\"2011-07-26T00:00:00.000Z\",\"Open\":123.202756,\"High\":123.405425,\"Low\":122.548691,\"Close\":122.825057,\"Volume\":131278200,\"Adj_Ratio\":0.921211},{\"Date\":\"2011-07-27T00:00:00.000Z\",\"Open\":122.143356,\"High\":122.180212,\"Low\":120.153537,\"Close\":120.310155,\"Volume\":249020100,\"Adj_Ratio\":0.921211},{\"Date\":\"2011-07-28T00:00:00.000Z\",\"Open\":120.310155,\"High\":121.38797,\"Low\":119.76663,\"Close\":119.96009,\"Volume\":207939900,\"Adj_Ratio\":0.921211},{\"Date\":\"2011-07-29T00:00:00.000Z\",\"Open\":118.753306,\"High\":120.264091,\"Low\":117.887365,\"Close\":119.140213,\"Volume\":307038400,\"Adj_Ratio\":0.921211},{\"Date\":\"2011-08-01T00:00:00.000Z\",\"Open\":120.531236,\"High\":120.641791,\"Low\":117.48203,\"Close\":118.633544,\"Volume\":325790900,\"Adj_Ratio\":0.921211},{\"Date\":\"2011-08-02T00:00:00.000Z\",\"Open\":117.739968,\"High\":118.375606,\"Low\":115.602759,\"Close\":115.602759,\"Volume\":346653800,\"Adj_Ratio\":0.921211},{\"Date\":\"2011-08-03T00:00:00.000Z\",\"Open\":115.759371,\"High\":116.358153,\"Low\":113.797187,\"Close\":116.229183,\"Volume\":370830800,\"Adj_Ratio\":0.921211},{\"Date\":\"2011-08-04T00:00:00.000Z\",\"Open\":114.617064,\"High\":114.801311,\"Low\":110.600584,\"Close\":110.78483,\"Volume\":520721800,\"Adj_Ratio\":0.921211},{\"Date\":\"2011-08-05T00:00:00.000Z\",\"Open\":112.166646,\"High\":112.45222,\"Low\":107.652712,\"Close\":110.619012,\"Volume\":655619200,\"Adj_Ratio\":0.921211},{\"Date\":\"2011-08-08T00:00:00.000Z\",\"Open\":107.698776,\"High\":110.655862,\"Low\":103.194048,\"Close\":103.415143,\"Volume\":702263900,\"Adj_Ratio\":0.921211},{\"Date\":\"2011-08-09T00:00:00.000Z\",\"Open\":105.082533,\"High\":108.371255,\"Low\":101.581929,\"Close\":108.223865,\"Volume\":717828700,\"Adj_Ratio\":0.921211},{\"Date\":\"2011-08-10T00:00:00.000Z\",\"Open\":106.178775,\"High\":107.118408,\"Low\":103.129563,\"Close\":103.442778,\"Volume\":662607400,\"Adj_Ratio\":0.921211},{\"Date\":\"2011-08-11T00:00:00.000Z\",\"Open\":104.336353,\"High\":109.550404,\"Low\":103.470413,\"Close\":108.085682,\"Volume\":487979700,\"Adj_Ratio\":0.921211},{\"Date\":\"2011-08-12T00:00:00.000Z\",\"Open\":109.071377,\"High\":109.817555,\"Low\":108.039618,\"Close\":108.813439,\"Volume\":313731600,\"Adj_Ratio\":0.921211},{\"Date\":\"2011-08-15T00:00:00.000Z\",\"Open\":109.799134,\"High\":111.227008,\"Low\":109.624103,\"Close\":111.116467,\"Volume\":258810600,\"Adj_Ratio\":0.921211},{\"Date\":\"2011-08-16T00:00:00.000Z\",\"Open\":110.057072,\"High\":111.180951,\"Low\":108.988465,\"Close\":110.167613,\"Volume\":294095200,\"Adj_Ratio\":0.921211},{\"Date\":\"2011-08-17T00:00:00.000Z\",\"Open\":110.775616,\"High\":111.650764,\"Low\":109.366164,\"Close\":110.241312,\"Volume\":238201100,\"Adj_Ratio\":0.921211},{\"Date\":\"2011-08-18T00:00:00.000Z\",\"Open\":107.321075,\"High\":110.278161,\"Low\":104.456108,\"Close\":105.487867,\"Volume\":512956300,\"Adj_Ratio\":0.921211},{\"Date\":\"2011-08-19T00:00:00.000Z\",\"Open\":104.059988,\"High\":106.749922,\"Low\":103.636231,\"Close\":103.7652,\"Volume\":428281300,\"Adj_Ratio\":0.921211},{\"Date\":\"2011-08-22T00:00:00.000Z\",\"Open\":106.095863,\"High\":106.15114,\"Low\":103.553326,\"Close\":103.848113,\"Volume\":275090600,\"Adj_Ratio\":0.921211},{\"Date\":\"2011-08-23T00:00:00.000Z\",\"Open\":104.235021,\"High\":107.385561,\"Low\":103.709931,\"Close\":107.265805,\"Volume\":331136600,\"Adj_Ratio\":0.921211},{\"Date\":\"2011-08-24T00:00:00.000Z\",\"Open\":107.035501,\"High\":108.92398,\"Low\":106.786771,\"Close\":108.77659,\"Volume\":246869700,\"Adj_Ratio\":0.921211},{\"Date\":\"2011-08-25T00:00:00.000Z\",\"Open\":109.375379,\"High\":109.992589,\"Low\":106.740715,\"Close\":107.118408,\"Volume\":312365400,\"Adj_Ratio\":0.921211},{\"Date\":\"2011-08-26T00:00:00.000Z\",\"Open\":106.574896,\"High\":109.172711,\"Low\":104.879864,\"Close\":108.675256,\"Volume\":314495900,\"Adj_Ratio\":0.921211},{\"Date\":\"2011-08-29T00:00:00.000Z\",\"Open\":110.139979,\"High\":111.862645,\"Low\":108.758162,\"Close\":111.798161,\"Volume\":190977200,\"Adj_Ratio\":0.921211},{\"Date\":\"2011-08-30T00:00:00.000Z\",\"Open\":111.309921,\"High\":112.783856,\"Low\":109.863619,\"Close\":112.092948,\"Volume\":241315700,\"Adj_Ratio\":0.921211},{\"Date\":\"2011-08-31T00:00:00.000Z\",\"Open\":112.811492,\"High\":113.778766,\"Low\":111.742891,\"Close\":112.590403,\"Volume\":301828400,\"Adj_Ratio\":0.921211},{\"Date\":\"2011-09-01T00:00:00.000Z\",\"Open\":112.654888,\"High\":113.677433,\"Low\":111.263857,\"Close\":111.411254,\"Volume\":254585900,\"Adj_Ratio\":0.921211},{\"Date\":\"2011-09-02T00:00:00.000Z\",\"Open\":109.089798,\"High\":111.34677,\"Low\":108.177801,\"Close\":108.564708,\"Volume\":255517200,\"Adj_Ratio\":0.921211},{\"Date\":\"2011-09-06T00:00:00.000Z\",\"Open\":105.377318,\"High\":107.929077,\"Low\":105.368105,\"Close\":107.772466,\"Volume\":285130500,\"Adj_Ratio\":0.921211},{\"Date\":\"2011-09-07T00:00:00.000Z\",\"Open\":109.403013,\"High\":110.858521,\"Low\":109.034528,\"Close\":110.812465,\"Volume\":209803200,\"Adj_Ratio\":0.921211},{\"Date\":\"2011-09-08T00:00:00.000Z\",\"Open\":110.149193,\"High\":111.411254,\"Low\":109.412221,\"Close\":109.660952,\"Volume\":250568200,\"Adj_Ratio\":0.921211},{\"Date\":\"2011-09-09T00:00:00.000Z\",\"Open\":108.408104,\"High\":109.679373,\"Low\":106.197197,\"Close\":106.786771,\"Volume\":380195100,\"Adj_Ratio\":0.921211},{\"Date\":\"2011-09-12T00:00:00.000Z\",\"Open\":105.451018,\"High\":107.560592,\"Low\":105.064111,\"Close\":107.477679,\"Volume\":305793500,\"Adj_Ratio\":0.921211},{\"Date\":\"2011-09-13T00:00:00.000Z\",\"Open\":107.827744,\"High\":108.86871,\"Low\":107.063137,\"Close\":108.463375,\"Volume\":272514700,\"Adj_Ratio\":0.921211},{\"Date\":\"2011-09-14T00:00:00.000Z\",\"Open\":109.016099,\"High\":111.282285,\"Low\":107.523742,\"Close\":109.964953,\"Volume\":319389500,\"Adj_Ratio\":0.921211},{\"Date\":\"2011-09-15T00:00:00.000Z\",\"Open\":111.144102,\"High\":111.899494,\"Low\":109.992589,\"Close\":111.862645,\"Volume\":326777200,\"Adj_Ratio\":0.921211},{\"Date\":\"2011-09-16T00:00:00.000Z\",\"Open\":112.311743,\"High\":112.941407,\"Low\":111.413544,\"Close\":112.524714,\"Volume\":284528300,\"Adj_Ratio\":0.925977},{\"Date\":\"2011-09-19T00:00:00.000Z\",\"Open\":110.682021,\"High\":111.97839,\"Low\":109.931981,\"Close\":111.404282,\"Volume\":241517000,\"Adj_Ratio\":0.925977},{\"Date\":\"2011-09-20T00:00:00.000Z\",\"Open\":111.876533,\"High\":112.959924,\"Low\":111.126493,\"Close\":111.274646,\"Volume\":218932200,\"Adj_Ratio\":0.925977},{\"Date\":\"2011-09-21T00:00:00.000Z\",\"Open\":111.33021,\"High\":111.672816,\"Low\":107.820756,\"Close\":107.996687,\"Volume\":316251300,\"Adj_Ratio\":0.925977},{\"Date\":\"2011-09-22T00:00:00.000Z\",\"Open\":104.866887,\"High\":105.755824,\"Low\":103.061235,\"Close\":104.505757,\"Volume\":513911300,\"Adj_Ratio\":0.925977},{\"Date\":\"2011-09-23T00:00:00.000Z\",\"Open\":103.811275,\"High\":105.70953,\"Low\":103.727933,\"Close\":105.135422,\"Volume\":307242500,\"Adj_Ratio\":0.925977},{\"Date\":\"2011-09-26T00:00:00.000Z\",\"Open\":106.126217,\"High\":107.783717,\"Low\":104.616877,\"Close\":107.635557,\"Volume\":260673700,\"Adj_Ratio\":0.925977},{\"Date\":\"2011-09-27T00:00:00.000Z\",\"Open\":109.756044,\"High\":110.7098,\"Low\":108.191141,\"Close\":108.839329,\"Volume\":311753900,\"Adj_Ratio\":0.925977},{\"Date\":\"2011-09-28T00:00:00.000Z\",\"Open\":109.061562,\"High\":109.719005,\"Low\":106.459569,\"Close\":106.616983,\"Volume\":286696800,\"Adj_Ratio\":0.925977},{\"Date\":\"2011-09-29T00:00:00.000Z\",\"Open\":108.385603,\"High\":108.922664,\"Low\":105.496552,\"Close\":107.459626,\"Volume\":298108900,\"Adj_Ratio\":0.925977},{\"Date\":\"2011-09-30T00:00:00.000Z\",\"Open\":105.978056,\"High\":106.904033,\"Low\":104.700211,\"Close\":104.774291,\"Volume\":288392300,\"Adj_Ratio\":0.925977},{\"Date\":\"2011-10-03T00:00:00.000Z\",\"Open\":104.163143,\"High\":105.515068,\"Low\":101.681525,\"Close\":101.792644,\"Volume\":365136800,\"Adj_Ratio\":0.925977},{\"Date\":\"2011-10-04T00:00:00.000Z\",\"Open\":100.329599,\"High\":104.246485,\"Low\":99.477702,\"Close\":104.024245,\"Volume\":459177500,\"Adj_Ratio\":0.925977},{\"Date\":\"2011-10-05T00:00:00.000Z\",\"Open\":104.283525,\"High\":106.228075,\"Low\":103.320508,\"Close\":105.950279,\"Volume\":284108000,\"Adj_Ratio\":0.925977},{\"Date\":\"2011-10-06T00:00:00.000Z\",\"Open\":105.894723,\"High\":108.024473,\"Low\":105.107643,\"Close\":107.867051,\"Volume\":257800800,\"Adj_Ratio\":0.925977},{\"Date\":\"2011-10-07T00:00:00.000Z\",\"Open\":108.496715,\"High\":108.570795,\"Low\":106.542904,\"Close\":107.14479,\"Volume\":312657900,\"Adj_Ratio\":0.925977},{\"Date\":\"2011-10-10T00:00:00.000Z\",\"Open\":108.968965,\"High\":110.774617,\"Low\":108.959703,\"Close\":110.728323,\"Volume\":230666300,\"Adj_Ratio\":0.925977},{\"Date\":\"2011-10-11T00:00:00.000Z\",\"Open\":110.070881,\"High\":111.154272,\"Low\":109.959761,\"Close\":110.839436,\"Volume\":209088000,\"Adj_Ratio\":0.925977},{\"Date\":\"2011-10-12T00:00:00.000Z\",\"Open\":111.672817,\"High\":113.098822,\"Low\":111.422807,\"Close\":111.811715,\"Volume\":281544900,\"Adj_Ratio\":0.925977},{\"Date\":\"2011-10-13T00:00:00.000Z\",\"Open\":111.154272,\"High\":111.922835,\"Low\":110.302375,\"Close\":111.589482,\"Volume\":212538800,\"Adj_Ratio\":0.925977},{\"Date\":\"2011-10-14T00:00:00.000Z\",\"Open\":112.885851,\"High\":113.524769,\"Low\":112.256186,\"Close\":113.496992,\"Volume\":211397600,\"Adj_Ratio\":0.925977},{\"Date\":\"2011-10-17T00:00:00.000Z\",\"Open\":112.959925,\"High\":113.478476,\"Low\":111.052414,\"Close\":111.33021,\"Volume\":202311600,\"Adj_Ratio\":0.925977},{\"Date\":\"2011-10-18T00:00:00.000Z\",\"Open\":111.246868,\"High\":114.358151,\"Low\":110.376447,\"Close\":113.506254,\"Volume\":318857900,\"Adj_Ratio\":0.925977},{\"Date\":\"2011-10-19T00:00:00.000Z\",\"Open\":113.321054,\"High\":113.969243,\"Low\":111.774675,\"Close\":112.163583,\"Volume\":226601300,\"Adj_Ratio\":0.925977},{\"Date\":\"2011-10-20T00:00:00.000Z\",\"Open\":112.441379,\"High\":113.061781,\"Low\":110.950556,\"Close\":112.654357,\"Volume\":262075600,\"Adj_Ratio\":0.925977},{\"Date\":\"2011-10-21T00:00:00.000Z\",\"Open\":113.978497,\"High\":114.932259,\"Low\":113.63589,\"Close\":114.793361,\"Volume\":278999400,\"Adj_Ratio\":0.925977},{\"Date\":\"2011-10-24T00:00:00.000Z\",\"Open\":114.978553,\"High\":116.4879,\"Low\":114.876696,\"Close\":116.200843,\"Volume\":203215600,\"Adj_Ratio\":0.925977},{\"Date\":\"2011-10-25T00:00:00.000Z\",\"Open\":115.645258,\"High\":115.700815,\"Low\":113.691447,\"Close\":113.941464,\"Volume\":268596800,\"Adj_Ratio\":0.925977},{\"Date\":\"2011-10-26T00:00:00.000Z\",\"Open\":115.145229,\"High\":115.534139,\"Low\":113.16364,\"Close\":115.098935,\"Volume\":289053800,\"Adj_Ratio\":0.925977},{\"Date\":\"2011-10-27T00:00:00.000Z\",\"Open\":118.182433,\"High\":119.839932,\"Low\":117.23794,\"Close\":119.108417,\"Volume\":393220200,\"Adj_Ratio\":0.925977},{\"Date\":\"2011-10-28T00:00:00.000Z\",\"Open\":118.525047,\"High\":119.312133,\"Low\":118.339855,\"Close\":119.080639,\"Volume\":225906500,\"Adj_Ratio\":0.925977},{\"Date\":\"2011-10-31T00:00:00.000Z\",\"Open\":117.74723,\"High\":119.099148,\"Low\":116.043429,\"Close\":116.210105,\"Volume\":228146700,\"Adj_Ratio\":0.925977},{\"Date\":\"2011-11-01T00:00:00.000Z\",\"Open\":112.996964,\"High\":114.367413,\"Low\":112.524714,\"Close\":112.969186,\"Volume\":416565800,\"Adj_Ratio\":0.925977},{\"Date\":\"2011-11-02T00:00:00.000Z\",\"Open\":114.663725,\"High\":115.191532,\"Low\":113.700708,\"Close\":114.811878,\"Volume\":244717600,\"Adj_Ratio\":0.925977},{\"Date\":\"2011-11-03T00:00:00.000Z\",\"Open\":115.997128,\"High\":117.136082,\"Low\":114.450747,\"Close\":116.904588,\"Volume\":291174800,\"Adj_Ratio\":0.925977},{\"Date\":\"2011-11-04T00:00:00.000Z\",\"Open\":115.960095,\"High\":116.395298,\"Low\":114.830402,\"Close\":116.191589,\"Volume\":249401600,\"Adj_Ratio\":0.925977},{\"Date\":\"2011-11-07T00:00:00.000Z\",\"Open\":116.108246,\"High\":117.034223,\"Low\":115.006332,\"Close\":116.913849,\"Volume\":196617200,\"Adj_Ratio\":0.925977},{\"Date\":\"2011-11-08T00:00:00.000Z\",\"Open\":117.524991,\"High\":118.543571,\"Low\":116.40456,\"Close\":118.413928,\"Volume\":224426300,\"Adj_Ratio\":0.925977},{\"Date\":\"2011-11-09T00:00:00.000Z\",\"Open\":115.645257,\"High\":116.4879,\"Low\":113.765526,\"Close\":114.043322,\"Volume\":337982000,\"Adj_Ratio\":0.925977},{\"Date\":\"2011-11-10T00:00:00.000Z\",\"Open\":115.552662,\"High\":115.69156,\"Low\":113.913679,\"Close\":115.117452,\"Volume\":231866500,\"Adj_Ratio\":0.925977},{\"Date\":\"2011-11-11T00:00:00.000Z\",\"Open\":116.515679,\"High\":117.589809,\"Low\":116.478639,\"Close\":117.284242,\"Volume\":189924400,\"Adj_Ratio\":0.925977},{\"Date\":\"2011-11-14T00:00:00.000Z\",\"Open\":116.849031,\"High\":118.015757,\"Low\":115.673037,\"Close\":116.173065,\"Volume\":159258300,\"Adj_Ratio\":0.925977},{\"Date\":\"2011-11-15T00:00:00.000Z\",\"Open\":115.90453,\"High\":117.367576,\"Low\":115.487843,\"Close\":116.747173,\"Volume\":184709400,\"Adj_Ratio\":0.925977},{\"Date\":\"2011-11-16T00:00:00.000Z\",\"Open\":115.571178,\"High\":116.987921,\"Low\":114.728543,\"Close\":114.895219,\"Volume\":235782500,\"Adj_Ratio\":0.925977},{\"Date\":\"2011-11-17T00:00:00.000Z\",\"Open\":114.682241,\"High\":114.969299,\"Low\":112.256186,\"Close\":113.071044,\"Volume\":331219600,\"Adj_Ratio\":0.925977},{\"Date\":\"2011-11-18T00:00:00.000Z\",\"Open\":113.432174,\"High\":113.663668,\"Low\":112.478419,\"Close\":112.950669,\"Volume\":215580400,\"Adj_Ratio\":0.925977},{\"Date\":\"2011-11-21T00:00:00.000Z\",\"Open\":111.302424,\"High\":111.441322,\"Low\":109.867164,\"Close\":110.802403,\"Volume\":229611600,\"Adj_Ratio\":0.925977},{\"Date\":\"2011-11-22T00:00:00.000Z\",\"Open\":110.561648,\"High\":111.209828,\"Low\":109.746784,\"Close\":110.367193,\"Volume\":216494900,\"Adj_Ratio\":0.925977},{\"Date\":\"2011-11-23T00:00:00.000Z\",\"Open\":109.330096,\"High\":110.367192,\"Low\":107.931869,\"Close\":107.931869,\"Volume\":224329100,\"Adj_Ratio\":0.925977},{\"Date\":\"2011-11-25T00:00:00.000Z\",\"Open\":107.765193,\"High\":108.987483,\"Low\":107.598517,\"Close\":107.728153,\"Volume\":99557000,\"Adj_Ratio\":0.925977},{\"Date\":\"2011-11-28T00:00:00.000Z\",\"Open\":110.691284,\"High\":111.283908,\"Low\":110.024579,\"Close\":110.848698,\"Volume\":210686000,\"Adj_Ratio\":0.925977},{\"Date\":\"2011-11-29T00:00:00.000Z\",\"Open\":111.163534,\"High\":112.043209,\"Low\":110.756102,\"Close\":111.163534,\"Volume\":199241500,\"Adj_Ratio\":0.925977},{\"Date\":\"2011-11-30T00:00:00.000Z\",\"Open\":114.34889,\"High\":115.950832,\"Low\":111.117232,\"Close\":115.737855,\"Volume\":324439500,\"Adj_Ratio\":0.925977},{\"Date\":\"2011-12-01T00:00:00.000Z\",\"Open\":115.608218,\"High\":116.339741,\"Low\":115.21931,\"Close\":115.719338,\"Volume\":176954800,\"Adj_Ratio\":0.925977},{\"Date\":\"2011-12-02T00:00:00.000Z\",\"Open\":116.784213,\"High\":117.136081,\"Low\":115.5434,\"Close\":115.61748,\"Volume\":221109700,\"Adj_Ratio\":0.925977},{\"Date\":\"2011-12-05T00:00:00.000Z\",\"Open\":117.45091,\"High\":117.765746,\"Low\":116.154548,\"Close\":116.876809,\"Volume\":225263900,\"Adj_Ratio\":0.925977},{\"Date\":\"2011-12-06T00:00:00.000Z\",\"Open\":116.867547,\"High\":117.700928,\"Low\":116.450861,\"Close\":116.913849,\"Volume\":178842100,\"Adj_Ratio\":0.925977},{\"Date\":\"2011-12-07T00:00:00.000Z\",\"Open\":116.524934,\"High\":117.839827,\"Low\":115.719339,\"Close\":117.34906,\"Volume\":237802500,\"Adj_Ratio\":0.925977},{\"Date\":\"2011-12-08T00:00:00.000Z\",\"Open\":116.580498,\"High\":116.839769,\"Low\":114.49705,\"Close\":114.774838,\"Volume\":240862800,\"Adj_Ratio\":0.925977},{\"Date\":\"2011-12-09T00:00:00.000Z\",\"Open\":115.29339,\"High\":117.015708,\"Low\":115.191532,\"Close\":116.719395,\"Volume\":209111400,\"Adj_Ratio\":0.925977},{\"Date\":\"2011-12-12T00:00:00.000Z\",\"Open\":115.700815,\"High\":115.719338,\"Low\":114.043323,\"Close\":115.015594,\"Volume\":215826100,\"Adj_Ratio\":0.925977},{\"Date\":\"2011-12-13T00:00:00.000Z\",\"Open\":115.61748,\"High\":116.274923,\"Low\":113.385872,\"Close\":113.941464,\"Volume\":245159800,\"Adj_Ratio\":0.925977},{\"Date\":\"2011-12-14T00:00:00.000Z\",\"Open\":113.487731,\"High\":113.922941,\"Low\":112.478419,\"Close\":112.72843,\"Volume\":238618800,\"Adj_Ratio\":0.925977},{\"Date\":\"2011-12-15T00:00:00.000Z\",\"Open\":113.922941,\"High\":114.080356,\"Low\":112.959925,\"Close\":113.135862,\"Volume\":199109200,\"Adj_Ratio\":0.925977},{\"Date\":\"2011-12-16T00:00:00.000Z\",\"Open\":113.899987,\"High\":114.570913,\"Low\":113.033367,\"Close\":113.303597,\"Volume\":220481400,\"Adj_Ratio\":0.93185},{\"Date\":\"2011-12-19T00:00:00.000Z\",\"Open\":113.741567,\"High\":113.98385,\"Low\":111.849913,\"Close\":112.092196,\"Volume\":183903000,\"Adj_Ratio\":0.93185},{\"Date\":\"2011-12-20T00:00:00.000Z\",\"Open\":113.853391,\"High\":115.679815,\"Low\":112.166746,\"Close\":115.484128,\"Volume\":225418100,\"Adj_Ratio\":0.93185},{\"Date\":\"2011-12-21T00:00:00.000Z\",\"Open\":115.484128,\"High\":115.884824,\"Low\":114.384545,\"Close\":115.70777,\"Volume\":194230900,\"Adj_Ratio\":0.93185},{\"Date\":\"2011-12-22T00:00:00.000Z\",\"Open\":116.13642,\"High\":116.853949,\"Low\":115.763686,\"Close\":116.732804,\"Volume\":119465400,\"Adj_Ratio\":0.93185},{\"Date\":\"2011-12-23T00:00:00.000Z\",\"Open\":117.105545,\"High\":117.813753,\"Low\":116.86327,\"Close\":117.776478,\"Volume\":92187200,\"Adj_Ratio\":0.93185},{\"Date\":\"2011-12-27T00:00:00.000Z\",\"Open\":117.571469,\"High\":118.177173,\"Low\":117.468966,\"Close\":117.869661,\"Volume\":86075700,\"Adj_Ratio\":0.93185},{\"Date\":\"2011-12-28T00:00:00.000Z\",\"Open\":117.888302,\"High\":117.906937,\"Low\":116.229611,\"Close\":116.322795,\"Volume\":119107100,\"Adj_Ratio\":0.93185},{\"Date\":\"2011-12-29T00:00:00.000Z\",\"Open\":116.704849,\"High\":117.646019,\"Low\":116.350749,\"Close\":117.524881,\"Volume\":123507200,\"Adj_Ratio\":0.93185},{\"Date\":\"2011-12-30T00:00:00.000Z\",\"Open\":117.431691,\"High\":117.720569,\"Low\":116.947132,\"Close\":116.947132,\"Volume\":95599000,\"Adj_Ratio\":0.93185},{\"Date\":\"2012-01-03T00:00:00.000Z\",\"Open\":119.053114,\"High\":119.630863,\"Low\":118.745602,\"Close\":118.810831,\"Volume\":193697900,\"Adj_Ratio\":0.93185},{\"Date\":\"2012-01-04T00:00:00.000Z\",\"Open\":118.531274,\"High\":119.099703,\"Low\":118.07467,\"Close\":118.997199,\"Volume\":127186500,\"Adj_Ratio\":0.93185},{\"Date\":\"2012-01-05T00:00:00.000Z\",\"Open\":118.354227,\"High\":119.491078,\"Low\":117.813753,\"Close\":119.314024,\"Volume\":173895000,\"Adj_Ratio\":0.93185},{\"Date\":\"2012-01-06T00:00:00.000Z\",\"Open\":119.463123,\"High\":119.481764,\"Low\":118.615144,\"Close\":119.006519,\"Volume\":148050000,\"Adj_Ratio\":0.93185},{\"Date\":\"2012-01-09T00:00:00.000Z\",\"Open\":119.276756,\"High\":119.444483,\"Low\":118.726969,\"Close\":119.295397,\"Volume\":99530200,\"Adj_Ratio\":0.93185},{\"Date\":\"2012-01-10T00:00:00.000Z\",\"Open\":120.572026,\"High\":120.814303,\"Low\":120.162011,\"Close\":120.329751,\"Volume\":115282000,\"Adj_Ratio\":0.93185},{\"Date\":\"2012-01-11T00:00:00.000Z\",\"Open\":119.957003,\"High\":120.553386,\"Low\":119.761322,\"Close\":120.394973,\"Volume\":111540700,\"Adj_Ratio\":0.93185},{\"Date\":\"2012-01-12T00:00:00.000Z\",\"Open\":120.739766,\"High\":120.860897,\"Low\":119.779948,\"Close\":120.683844,\"Volume\":118983700,\"Adj_Ratio\":0.93185},{\"Date\":\"2012-01-13T00:00:00.000Z\",\"Open\":119.87314,\"High\":120.255202,\"Low\":119.01584,\"Close\":120.059507,\"Volume\":179836200,\"Adj_Ratio\":0.93185},{\"Date\":\"2012-01-17T00:00:00.000Z\",\"Open\":121.215005,\"High\":121.438654,\"Low\":120.115415,\"Close\":120.525431,\"Volume\":132209200,\"Adj_Ratio\":0.93185},{\"Date\":\"2012-01-18T00:00:00.000Z\",\"Open\":120.497478,\"High\":121.923206,\"Low\":120.283156,\"Close\":121.857984,\"Volume\":163395200,\"Adj_Ratio\":0.93185},{\"Date\":\"2012-01-19T00:00:00.000Z\",\"Open\":122.277312,\"High\":122.603465,\"Low\":121.885938,\"Close\":122.500962,\"Volume\":126328900,\"Adj_Ratio\":0.93185},{\"Date\":\"2012-01-20T00:00:00.000Z\",\"Open\":122.295954,\"High\":122.95756,\"Low\":121.997756,\"Close\":122.95756,\"Volume\":138230200,\"Adj_Ratio\":0.93185},{\"Date\":\"2012-01-23T00:00:00.000Z\",\"Open\":122.547543,\"High\":123.237117,\"Low\":122.053664,\"Close\":122.640734,\"Volume\":129295800,\"Adj_Ratio\":0.93185},{\"Date\":\"2012-01-24T00:00:00.000Z\",\"Open\":121.885938,\"High\":122.538229,\"Low\":121.69957,\"Close\":122.500962,\"Volume\":103083300,\"Adj_Ratio\":0.93185},{\"Date\":\"2012-01-25T00:00:00.000Z\",\"Open\":122.314581,\"High\":123.814859,\"Low\":121.839342,\"Close\":123.525988,\"Volume\":198613200,\"Adj_Ratio\":0.93185},{\"Date\":\"2012-01-26T00:00:00.000Z\",\"Open\":124.075777,\"High\":124.308739,\"Low\":122.407772,\"Close\":122.892338,\"Volume\":184880500,\"Adj_Ratio\":0.93185},{\"Date\":\"2012-01-27T00:00:00.000Z\",\"Open\":122.295954,\"High\":123.050751,\"Low\":122.212078,\"Close\":122.836429,\"Volume\":135259100,\"Adj_Ratio\":0.93185},{\"Date\":\"2012-01-30T00:00:00.000Z\",\"Open\":121.615694,\"High\":122.482321,\"Low\":121.196365,\"Close\":122.417085,\"Volume\":147311800,\"Adj_Ratio\":0.93185},{\"Date\":\"2012-01-31T00:00:00.000Z\",\"Open\":123.022796,\"High\":123.171882,\"Low\":121.774107,\"Close\":122.370504,\"Volume\":157212000,\"Adj_Ratio\":0.93185},{\"Date\":\"2012-02-01T00:00:00.000Z\",\"Open\":123.274385,\"High\":124.066462,\"Low\":123.1253,\"Close\":123.442125,\"Volume\":166234500,\"Adj_Ratio\":0.93185},{\"Date\":\"2012-02-02T00:00:00.000Z\",\"Open\":123.684401,\"High\":123.954645,\"Low\":123.19985,\"Close\":123.637806,\"Volume\":113090400,\"Adj_Ratio\":0.93185},{\"Date\":\"2012-02-03T00:00:00.000Z\",\"Open\":124.867855,\"High\":125.445597,\"Low\":124.653533,\"Close\":125.371047,\"Volume\":160598500,\"Adj_Ratio\":0.93185},{\"Date\":\"2012-02-06T00:00:00.000Z\",\"Open\":124.849214,\"High\":125.343093,\"Low\":124.709442,\"Close\":125.287184,\"Volume\":107694500,\"Adj_Ratio\":0.93185},{\"Date\":\"2012-02-07T00:00:00.000Z\",\"Open\":125.026267,\"High\":125.818345,\"Low\":124.532387,\"Close\":125.604009,\"Volume\":135528100,\"Adj_Ratio\":0.93185},{\"Date\":\"2012-02-08T00:00:00.000Z\",\"Open\":125.669247,\"High\":126.004713,\"Low\":125.156727,\"Close\":125.976758,\"Volume\":139361400,\"Adj_Ratio\":0.93185},{\"Date\":\"2012-02-09T00:00:00.000Z\",\"Open\":126.181765,\"High\":126.349491,\"Low\":125.389687,\"Close\":126.13517,\"Volume\":148602900,\"Adj_Ratio\":0.93185},{\"Date\":\"2012-02-10T00:00:00.000Z\",\"Open\":125.016954,\"High\":125.305824,\"Low\":124.718755,\"Close\":125.203321,\"Volume\":167907500,\"Adj_Ratio\":0.93185},{\"Date\":\"2012-02-13T00:00:00.000Z\",\"Open\":126.097902,\"High\":126.284269,\"Low\":125.557427,\"Close\":126.13517,\"Volume\":115841900,\"Adj_Ratio\":0.93185},{\"Date\":\"2012-02-14T00:00:00.000Z\",\"Open\":125.799705,\"High\":126.051308,\"Low\":125.100817,\"Close\":125.976758,\"Volume\":165329500,\"Adj_Ratio\":0.93185},{\"Date\":\"2012-02-15T00:00:00.000Z\",\"Open\":126.386774,\"High\":126.573141,\"Low\":125.138084,\"Close\":125.389688,\"Volume\":195195100,\"Adj_Ratio\":0.93185},{\"Date\":\"2012-02-16T00:00:00.000Z\",\"Open\":125.399015,\"High\":126.889966,\"Low\":125.175367,\"Close\":126.778149,\"Volume\":186567800,\"Adj_Ratio\":0.93185},{\"Date\":\"2012-02-17T00:00:00.000Z\",\"Open\":127.216118,\"High\":127.318623,\"Low\":126.694285,\"Close\":127.113615,\"Volume\":129869400,\"Adj_Ratio\":0.93185},{\"Date\":\"2012-02-21T00:00:00.000Z\",\"Open\":127.4118,\"High\":127.709999,\"Low\":126.778149,\"Close\":127.169524,\"Volume\":134042300,\"Adj_Ratio\":0.93185},{\"Date\":\"2012-02-22T00:00:00.000Z\",\"Open\":126.97383,\"High\":127.244074,\"Low\":126.535858,\"Close\":126.759508,\"Volume\":124455300,\"Adj_Ratio\":0.93185},{\"Date\":\"2012-02-23T00:00:00.000Z\",\"Open\":126.694286,\"High\":127.4118,\"Low\":126.265628,\"Close\":127.318623,\"Volume\":137704300,\"Adj_Ratio\":0.93185},{\"Date\":\"2012-02-24T00:00:00.000Z\",\"Open\":127.598167,\"High\":127.84977,\"Low\":127.318623,\"Close\":127.598167,\"Volume\":105539100,\"Adj_Ratio\":0.93185},{\"Date\":\"2012-02-27T00:00:00.000Z\",\"Open\":126.750194,\"High\":128.157283,\"Low\":126.545187,\"Close\":127.812503,\"Volume\":145728900,\"Adj_Ratio\":0.93185},{\"Date\":\"2012-02-28T00:00:00.000Z\",\"Open\":127.84977,\"High\":128.334336,\"Low\":127.598167,\"Close\":128.185237,\"Volume\":129355900,\"Adj_Ratio\":0.93185},{\"Date\":\"2012-02-29T00:00:00.000Z\",\"Open\":128.371604,\"High\":128.772306,\"Low\":127.234746,\"Close\":127.682044,\"Volume\":185934700,\"Adj_Ratio\":0.93185},{\"Date\":\"2012-03-01T00:00:00.000Z\",\"Open\":127.952274,\"High\":128.585938,\"Low\":127.598166,\"Close\":128.343649,\"Volume\":145023500,\"Adj_Ratio\":0.93185},{\"Date\":\"2012-03-02T00:00:00.000Z\",\"Open\":128.259785,\"High\":128.427526,\"Low\":127.663402,\"Close\":127.952274,\"Volume\":120638300,\"Adj_Ratio\":0.93185},{\"Date\":\"2012-03-05T00:00:00.000Z\",\"Open\":127.756594,\"High\":127.849771,\"Low\":126.992471,\"Close\":127.430441,\"Volume\":140765000,\"Adj_Ratio\":0.93185},{\"Date\":\"2012-03-06T00:00:00.000Z\",\"Open\":126.125856,\"High\":126.200392,\"Low\":125.203321,\"Close\":125.566741,\"Volume\":202129900,\"Adj_Ratio\":0.93185},{\"Date\":\"2012-03-07T00:00:00.000Z\",\"Open\":125.855613,\"High\":126.647691,\"Low\":125.734468,\"Close\":126.442682,\"Volume\":143692200,\"Adj_Ratio\":0.93185},{\"Date\":\"2012-03-08T00:00:00.000Z\",\"Open\":127.216119,\"High\":127.961602,\"Low\":126.955202,\"Close\":127.700671,\"Volume\":116968900,\"Adj_Ratio\":0.93185},{\"Date\":\"2012-03-09T00:00:00.000Z\",\"Open\":127.942961,\"High\":128.530017,\"Low\":127.784548,\"Close\":128.194564,\"Volume\":122836800,\"Adj_Ratio\":0.93185},{\"Date\":\"2012-03-12T00:00:00.000Z\",\"Open\":128.175923,\"High\":128.371604,\"Low\":127.747266,\"Close\":128.203878,\"Volume\":104003500,\"Adj_Ratio\":0.93185},{\"Date\":\"2012-03-13T00:00:00.000Z\",\"Open\":128.893451,\"High\":130.580097,\"Low\":128.679115,\"Close\":130.514861,\"Volume\":184090500,\"Adj_Ratio\":0.93185},{\"Date\":\"2012-03-14T00:00:00.000Z\",\"Open\":130.552142,\"High\":130.878281,\"Low\":129.974386,\"Close\":130.375089,\"Volume\":145163600,\"Adj_Ratio\":0.93185},{\"Date\":\"2012-03-15T00:00:00.000Z\",\"Open\":130.57077,\"High\":131.185794,\"Low\":130.235304,\"Close\":131.129885,\"Volume\":165118500,\"Adj_Ratio\":0.93185},{\"Date\":\"2012-03-16T00:00:00.000Z\",\"Open\":131.367606,\"High\":131.479913,\"Low\":131.030669,\"Close\":131.311452,\"Volume\":152893500,\"Adj_Ratio\":0.935933},{\"Date\":\"2012-03-19T00:00:00.000Z\",\"Open\":131.227222,\"High\":132.228663,\"Low\":131.133623,\"Close\":131.826218,\"Volume\":125291100,\"Adj_Ratio\":0.935933},{\"Date\":\"2012-03-20T00:00:00.000Z\",\"Open\":131.077469,\"High\":131.60159,\"Low\":130.693733,\"Close\":131.442482,\"Volume\":121729700,\"Adj_Ratio\":0.935933},{\"Date\":\"2012-03-21T00:00:00.000Z\",\"Open\":131.517358,\"High\":131.63902,\"Low\":130.955792,\"Close\":131.227221,\"Volume\":122388400,\"Adj_Ratio\":0.935933},{\"Date\":\"2012-03-22T00:00:00.000Z\",\"Open\":130.263198,\"High\":130.609502,\"Low\":129.851398,\"Close\":130.28192,\"Volume\":135216700,\"Adj_Ratio\":0.935933},{\"Date\":\"2012-03-23T00:00:00.000Z\",\"Open\":130.394241,\"High\":130.85284,\"Low\":129.673569,\"Close\":130.703087,\"Volume\":120521000,\"Adj_Ratio\":0.935933},{\"Date\":\"2012-03-26T00:00:00.000Z\",\"Open\":131.639019,\"High\":132.537522,\"Low\":131.592234,\"Close\":132.537522,\"Volume\":120164000,\"Adj_Ratio\":0.935933},{\"Date\":\"2012-03-27T00:00:00.000Z\",\"Open\":132.659199,\"High\":132.74343,\"Low\":132.04148,\"Close\":132.12571,\"Volume\":119868500,\"Adj_Ratio\":0.935933},{\"Date\":\"2012-03-28T00:00:00.000Z\",\"Open\":132.060202,\"High\":132.266108,\"Low\":130.693732,\"Close\":131.470559,\"Volume\":148562100,\"Adj_Ratio\":0.935933},{\"Date\":\"2012-03-29T00:00:00.000Z\",\"Open\":130.693732,\"High\":131.489281,\"Low\":130.178966,\"Close\":131.24593,\"Volume\":164963700,\"Adj_Ratio\":0.935933},{\"Date\":\"2012-03-30T00:00:00.000Z\",\"Open\":131.891726,\"High\":132.013402,\"Low\":131.077468,\"Close\":131.788773,\"Volume\":135486800,\"Adj_Ratio\":0.935933},{\"Date\":\"2012-04-02T00:00:00.000Z\",\"Open\":131.629666,\"High\":133.099089,\"Low\":131.367606,\"Close\":132.752783,\"Volume\":151741100,\"Adj_Ratio\":0.935933},{\"Date\":\"2012-04-03T00:00:00.000Z\",\"Open\":132.565598,\"High\":132.790228,\"Low\":131.433113,\"Close\":132.20994,\"Volume\":155806700,\"Adj_Ratio\":0.935933},{\"Date\":\"2012-04-04T00:00:00.000Z\",\"Open\":131.236575,\"High\":131.348882,\"Low\":130.412949,\"Close\":130.899639,\"Volume\":146896000,\"Adj_Ratio\":0.935933},{\"Date\":\"2012-04-05T00:00:00.000Z\",\"Open\":130.450396,\"High\":131.217853,\"Low\":130.338074,\"Close\":130.834117,\"Volume\":137439400,\"Adj_Ratio\":0.935933},{\"Date\":\"2012-04-09T00:00:00.000Z\",\"Open\":129.18688,\"High\":130.880916,\"Low\":129.00905,\"Close\":129.364709,\"Volume\":127555900,\"Adj_Ratio\":0.935933},{\"Date\":\"2012-04-10T00:00:00.000Z\",\"Open\":129.112003,\"High\":129.477016,\"Low\":127.062307,\"Close\":127.193337,\"Volume\":235360300,\"Adj_Ratio\":0.935933},{\"Date\":\"2012-04-11T00:00:00.000Z\",\"Open\":128.494283,\"High\":128.728266,\"Low\":127.988886,\"Close\":128.222869,\"Volume\":154133000,\"Adj_Ratio\":0.935933},{\"Date\":\"2012-04-12T00:00:00.000Z\",\"Open\":128.344546,\"High\":130.001138,\"Low\":128.250947,\"Close\":129.898184,\"Volume\":154321500,\"Adj_Ratio\":0.935933},{\"Date\":\"2012-04-13T00:00:00.000Z\",\"Open\":129.598692,\"High\":129.926275,\"Low\":128.232224,\"Close\":128.353899,\"Volume\":169246700,\"Adj_Ratio\":0.935933},{\"Date\":\"2012-04-16T00:00:00.000Z\",\"Open\":129.00905,\"High\":129.196234,\"Low\":127.829779,\"Close\":128.269669,\"Volume\":147825300,\"Adj_Ratio\":0.935933},{\"Date\":\"2012-04-17T00:00:00.000Z\",\"Open\":129.009049,\"High\":130.431672,\"Low\":128.878019,\"Close\":130.169612,\"Volume\":147877600,\"Adj_Ratio\":0.935933},{\"Date\":\"2012-04-18T00:00:00.000Z\",\"Open\":129.589338,\"High\":130.169612,\"Low\":129.514461,\"Close\":129.729722,\"Volume\":123884200,\"Adj_Ratio\":0.935933},{\"Date\":\"2012-04-19T00:00:00.000Z\",\"Open\":129.748445,\"High\":130.23512,\"Low\":128.288391,\"Close\":128.896742,\"Volume\":198666700,\"Adj_Ratio\":0.935933},{\"Date\":\"2012-04-20T00:00:00.000Z\",\"Open\":129.467662,\"High\":129.935629,\"Low\":129.037126,\"Close\":129.112003,\"Volume\":143199600,\"Adj_Ratio\":0.935933},{\"Date\":\"2012-04-23T00:00:00.000Z\",\"Open\":127.792334,\"High\":128.138639,\"Low\":127.230782,\"Close\":128.026317,\"Volume\":171844900,\"Adj_Ratio\":0.935933},{\"Date\":\"2012-04-24T00:00:00.000Z\",\"Open\":128.138638,\"High\":128.840588,\"Low\":128.035685,\"Close\":128.513006,\"Volume\":137484200,\"Adj_Ratio\":0.935933},{\"Date\":\"2012-04-25T00:00:00.000Z\",\"Open\":129.767154,\"High\":130.328719,\"Low\":129.654846,\"Close\":130.272565,\"Volume\":150252200,\"Adj_Ratio\":0.935933},{\"Date\":\"2012-04-26T00:00:00.000Z\",\"Open\":129.991782,\"High\":131.330174,\"Low\":129.916906,\"Close\":131.180422,\"Volume\":136291600,\"Adj_Ratio\":0.935933},{\"Date\":\"2012-04-27T00:00:00.000Z\",\"Open\":131.573513,\"High\":131.770051,\"Low\":130.843486,\"Close\":131.395683,\"Volume\":130725000,\"Adj_Ratio\":0.935933},{\"Date\":\"2012-04-30T00:00:00.000Z\",\"Open\":131.133623,\"High\":131.227222,\"Low\":130.553348,\"Close\":130.908993,\"Volume\":115092200,\"Adj_Ratio\":0.935933},{\"Date\":\"2012-05-01T00:00:00.000Z\",\"Open\":130.834117,\"High\":132.584323,\"Low\":130.684379,\"Close\":131.723265,\"Volume\":138832200,\"Adj_Ratio\":0.935933},{\"Date\":\"2012-05-02T00:00:00.000Z\",\"Open\":130.955793,\"High\":131.461206,\"Low\":130.525272,\"Close\":131.330175,\"Volume\":121081000,\"Adj_Ratio\":0.935933},{\"Date\":\"2012-05-03T00:00:00.000Z\",\"Open\":131.348883,\"High\":131.451836,\"Low\":130.085381,\"Close\":130.328719,\"Volume\":143759700,\"Adj_Ratio\":0.935933},{\"Date\":\"2012-05-04T00:00:00.000Z\",\"Open\":129.645491,\"High\":130.375519,\"Low\":128.147992,\"Close\":128.222869,\"Volume\":193927300,\"Adj_Ratio\":0.935933},{\"Date\":\"2012-05-07T00:00:00.000Z\",\"Open\":127.764257,\"High\":128.74699,\"Low\":127.717472,\"Close\":128.316468,\"Volume\":127765900,\"Adj_Ratio\":0.935933},{\"Date\":\"2012-05-08T00:00:00.000Z\",\"Open\":127.548996,\"High\":128.007608,\"Low\":126.276126,\"Close\":127.801702,\"Volume\":213377700,\"Adj_Ratio\":0.935933},{\"Date\":\"2012-05-09T00:00:00.000Z\",\"Open\":126.444602,\"High\":127.857856,\"Low\":125.873681,\"Close\":127.043598,\"Volume\":220752500,\"Adj_Ratio\":0.935933},{\"Date\":\"2012-05-10T00:00:00.000Z\",\"Open\":127.923364,\"High\":128.082485,\"Low\":127.015521,\"Close\":127.305658,\"Volume\":150600000,\"Adj_Ratio\":0.935933},{\"Date\":\"2012-05-11T00:00:00.000Z\",\"Open\":126.510109,\"High\":128.101192,\"Low\":126.453955,\"Close\":126.921922,\"Volume\":153032400,\"Adj_Ratio\":0.935933},{\"Date\":\"2012-05-14T00:00:00.000Z\",\"Open\":125.705206,\"High\":126.921922,\"Low\":125.330838,\"Close\":125.518022,\"Volume\":163910000,\"Adj_Ratio\":0.935933},{\"Date\":\"2012-05-15T00:00:00.000Z\",\"Open\":125.433792,\"High\":126.173174,\"Low\":124.600812,\"Close\":124.79735,\"Volume\":207629300,\"Adj_Ratio\":0.935933},{\"Date\":\"2012-05-16T00:00:00.000Z\",\"Open\":125.358915,\"High\":125.929835,\"Low\":124.291952,\"Close\":124.320029,\"Volume\":207265500,\"Adj_Ratio\":0.935933},{\"Date\":\"2012-05-17T00:00:00.000Z\",\"Open\":124.348106,\"High\":124.497858,\"Low\":122.410716,\"Close\":122.476239,\"Volume\":247992900,\"Adj_Ratio\":0.935933},{\"Date\":\"2012-05-18T00:00:00.000Z\",\"Open\":122.95356,\"High\":123.168835,\"Low\":121.250169,\"Close\":121.427998,\"Volume\":319615900,\"Adj_Ratio\":0.935933},{\"Date\":\"2012-05-21T00:00:00.000Z\",\"Open\":121.821089,\"High\":123.561925,\"Low\":121.624537,\"Close\":123.515126,\"Volume\":177861100,\"Adj_Ratio\":0.935933},{\"Date\":\"2012-05-22T00:00:00.000Z\",\"Open\":123.83334,\"High\":124.694396,\"Low\":122.925482,\"Close\":123.730386,\"Volume\":197531200,\"Adj_Ratio\":0.935933},{\"Date\":\"2012-05-23T00:00:00.000Z\",\"Open\":122.841252,\"High\":123.973738,\"Low\":121.661981,\"Close\":123.795908,\"Volume\":204958400,\"Adj_Ratio\":0.935933},{\"Date\":\"2012-05-24T00:00:00.000Z\",\"Open\":124.132845,\"High\":124.329383,\"Low\":123.000359,\"Close\":124.039246,\"Volume\":167357600,\"Adj_Ratio\":0.935933},{\"Date\":\"2012-05-25T00:00:00.000Z\",\"Open\":123.992446,\"High\":124.338751,\"Low\":123.337296,\"Close\":123.636801,\"Volume\":135465600,\"Adj_Ratio\":0.935933},{\"Date\":\"2012-05-29T00:00:00.000Z\",\"Open\":124.628889,\"High\":125.349547,\"Low\":122.766376,\"Close\":125.134286,\"Volume\":152883500,\"Adj_Ratio\":0.935933},{\"Date\":\"2012-05-30T00:00:00.000Z\",\"Open\":124.067322,\"High\":125.124931,\"Low\":123.06588,\"Close\":123.318573,\"Volume\":162370400,\"Adj_Ratio\":0.935933},{\"Date\":\"2012-05-31T00:00:00.000Z\",\"Open\":123.271789,\"High\":123.96437,\"Low\":121.98955,\"Close\":123.047159,\"Volume\":196186000,\"Adj_Ratio\":0.935933},{\"Date\":\"2012-06-01T00:00:00.000Z\",\"Open\":121.119139,\"High\":123.075236,\"Low\":119.949222,\"Close\":119.949222,\"Volume\":253240900,\"Adj_Ratio\":0.935933},{\"Date\":\"2012-06-04T00:00:00.000Z\",\"Open\":120.164482,\"High\":120.492064,\"Low\":118.994565,\"Close\":119.893068,\"Volume\":202545800,\"Adj_Ratio\":0.935933},{\"Date\":\"2012-06-05T00:00:00.000Z\",\"Open\":119.659078,\"High\":120.978741,\"Low\":119.593563,\"Close\":120.800925,\"Volume\":164149400,\"Adj_Ratio\":0.935933},{\"Date\":\"2012-06-06T00:00:00.000Z\",\"Open\":121.643259,\"High\":123.57128,\"Low\":121.605814,\"Close\":123.515126,\"Volume\":184202800,\"Adj_Ratio\":0.935933},{\"Date\":\"2012-06-07T00:00:00.000Z\",\"Open\":124.919025,\"High\":124.97518,\"Low\":123.337296,\"Close\":123.590002,\"Volume\":184772700,\"Adj_Ratio\":0.935933},{\"Date\":\"2012-06-08T00:00:00.000Z\",\"Open\":123.271789,\"High\":124.600812,\"Low\":122.878683,\"Close\":124.572735,\"Volume\":143915400,\"Adj_Ratio\":0.935933},{\"Date\":\"2012-06-11T00:00:00.000Z\",\"Open\":125.574175,\"High\":125.649052,\"Low\":122.869329,\"Close\":122.991005,\"Volume\":169756100,\"Adj_Ratio\":0.935933},{\"Date\":\"2012-06-12T00:00:00.000Z\",\"Open\":123.34665,\"High\":124.48849,\"Low\":122.757022,\"Close\":124.404259,\"Volume\":181931800,\"Adj_Ratio\":0.935933},{\"Date\":\"2012-06-13T00:00:00.000Z\",\"Open\":124.039247,\"High\":124.816073,\"Low\":123.187544,\"Close\":123.608725,\"Volume\":172223900,\"Adj_Ratio\":0.935933},{\"Date\":\"2012-06-14T00:00:00.000Z\",\"Open\":123.861417,\"High\":125.41507,\"Low\":123.524481,\"Close\":124.919026,\"Volume\":230615500,\"Adj_Ratio\":0.935933},{\"Date\":\"2012-06-15T00:00:00.000Z\",\"Open\":125.481621,\"High\":126.3095,\"Low\":125.218202,\"Close\":126.19661,\"Volume\":169444500,\"Adj_Ratio\":0.940783},{\"Date\":\"2012-06-18T00:00:00.000Z\",\"Open\":125.669775,\"High\":126.751669,\"Low\":125.387537,\"Close\":126.441209,\"Volume\":131360900,\"Adj_Ratio\":0.940783},{\"Date\":\"2012-06-19T00:00:00.000Z\",\"Open\":127.080948,\"High\":128.181662,\"Low\":126.412986,\"Close\":127.664229,\"Volume\":137382600,\"Adj_Ratio\":0.940783},{\"Date\":\"2012-06-20T00:00:00.000Z\",\"Open\":127.673646,\"High\":128.040551,\"Low\":126.318916,\"Close\":127.457256,\"Volume\":206451800,\"Adj_Ratio\":0.940783},{\"Date\":\"2012-06-21T00:00:00.000Z\",\"Open\":127.607784,\"High\":127.739494,\"Low\":124.493796,\"Close\":124.597282,\"Volume\":205272200,\"Adj_Ratio\":0.940783},{\"Date\":\"2012-06-22T00:00:00.000Z\",\"Open\":125.246425,\"High\":125.792081,\"Low\":124.766616,\"Close\":125.556885,\"Volume\":130029200,\"Adj_Ratio\":0.940783},{\"Date\":\"2012-06-25T00:00:00.000Z\",\"Open\":124.230378,\"High\":124.27742,\"Low\":123.101441,\"Close\":123.54361,\"Volume\":146375700,\"Adj_Ratio\":0.940783},{\"Date\":\"2012-06-26T00:00:00.000Z\",\"Open\":123.901098,\"High\":124.540838,\"Low\":123.176691,\"Close\":124.164516,\"Volume\":141634000,\"Adj_Ratio\":0.940783},{\"Date\":\"2012-06-27T00:00:00.000Z\",\"Open\":124.578463,\"High\":125.528649,\"Low\":124.155113,\"Close\":125.28405,\"Volume\":108088000,\"Adj_Ratio\":0.940783},{\"Date\":\"2012-06-28T00:00:00.000Z\",\"Open\":124.456157,\"High\":125.114716,\"Low\":123.505972,\"Close\":124.926548,\"Volume\":169242100,\"Adj_Ratio\":0.940783},{\"Date\":\"2012-06-29T00:00:00.000Z\",\"Open\":127.193838,\"High\":128.200482,\"Low\":126.864572,\"Close\":128.040551,\"Volume\":212250900,\"Adj_Ratio\":0.940783},{\"Date\":\"2012-07-02T00:00:00.000Z\",\"Open\":128.398038,\"High\":128.55797,\"Low\":127.494894,\"Close\":128.426261,\"Volume\":129524500,\"Adj_Ratio\":0.940783},{\"Date\":\"2012-07-03T00:00:00.000Z\",\"Open\":128.398038,\"High\":129.367044,\"Low\":128.266329,\"Close\":129.272974,\"Volume\":80450000,\"Adj_Ratio\":0.940783},{\"Date\":\"2012-07-05T00:00:00.000Z\",\"Open\":128.793166,\"High\":129.639879,\"Low\":128.219288,\"Close\":128.689679,\"Volume\":126177500,\"Adj_Ratio\":0.940783},{\"Date\":\"2012-07-06T00:00:00.000Z\",\"Open\":127.447854,\"High\":127.730091,\"Low\":126.864573,\"Close\":127.466673,\"Volume\":151192100,\"Adj_Ratio\":0.940783},{\"Date\":\"2012-07-09T00:00:00.000Z\",\"Open\":127.363186,\"High\":127.541937,\"Low\":126.723446,\"Close\":127.306741,\"Volume\":103780500,\"Adj_Ratio\":0.940783},{\"Date\":\"2012-07-10T00:00:00.000Z\",\"Open\":127.95587,\"High\":128.162843,\"Low\":125.763844,\"Close\":126.19661,\"Volume\":167884800,\"Adj_Ratio\":0.940783},{\"Date\":\"2012-07-11T00:00:00.000Z\",\"Open\":126.262472,\"High\":126.629376,\"Low\":125.48162,\"Close\":126.21543,\"Volume\":141733400,\"Adj_Ratio\":0.940783},{\"Date\":\"2012-07-12T00:00:00.000Z\",\"Open\":125.48162,\"High\":126.281277,\"Low\":124.74781,\"Close\":125.603912,\"Volume\":143583200,\"Adj_Ratio\":0.940783},{\"Date\":\"2012-07-13T00:00:00.000Z\",\"Open\":125.933192,\"High\":127.84298,\"Low\":125.914372,\"Close\":127.711271,\"Volume\":129642600,\"Adj_Ratio\":0.940783},{\"Date\":\"2012-07-16T00:00:00.000Z\",\"Open\":127.41963,\"High\":127.786536,\"Low\":126.9116,\"Close\":127.410214,\"Volume\":97525200,\"Adj_Ratio\":0.940783},{\"Date\":\"2012-07-17T00:00:00.000Z\",\"Open\":127.918244,\"High\":128.548566,\"Low\":126.582334,\"Close\":128.285149,\"Volume\":138860300,\"Adj_Ratio\":0.940783},{\"Date\":\"2012-07-18T00:00:00.000Z\",\"Open\":127.984092,\"High\":129.48935,\"Low\":127.908842,\"Close\":129.235335,\"Volume\":113349700,\"Adj_Ratio\":0.940783},{\"Date\":\"2012-07-19T00:00:00.000Z\",\"Open\":129.498752,\"High\":129.997366,\"Low\":129.08482,\"Close\":129.574017,\"Volume\":129847300,\"Adj_Ratio\":0.940783},{\"Date\":\"2012-07-20T00:00:00.000Z\",\"Open\":128.840208,\"High\":129.037779,\"Low\":128.247524,\"Close\":128.388636,\"Volume\":142904500,\"Adj_Ratio\":0.940783},{\"Date\":\"2012-07-23T00:00:00.000Z\",\"Open\":126.50707,\"High\":128.303969,\"Low\":125.914372,\"Close\":127.090351,\"Volume\":145210900,\"Adj_Ratio\":0.940783},{\"Date\":\"2012-07-24T00:00:00.000Z\",\"Open\":127.184435,\"High\":127.24088,\"Low\":125.152341,\"Close\":125.99904,\"Volume\":173301200,\"Adj_Ratio\":0.940783},{\"Date\":\"2012-07-25T00:00:00.000Z\",\"Open\":126.262472,\"High\":126.591737,\"Low\":125.359314,\"Close\":126.027276,\"Volume\":129122300,\"Adj_Ratio\":0.940783},{\"Date\":\"2012-07-26T00:00:00.000Z\",\"Open\":127.84298,\"High\":128.379233,\"Low\":127.250283,\"Close\":128.106398,\"Volume\":156526500,\"Adj_Ratio\":0.940783},{\"Date\":\"2012-07-27T00:00:00.000Z\",\"Open\":128.783762,\"High\":130.834676,\"Low\":128.078175,\"Close\":130.467758,\"Volume\":236768900,\"Adj_Ratio\":0.940783},{\"Date\":\"2012-07-30T00:00:00.000Z\",\"Open\":130.317243,\"High\":131.088677,\"Low\":130.082047,\"Close\":130.467758,\"Volume\":106782000,\"Adj_Ratio\":0.940783},{\"Date\":\"2012-07-31T00:00:00.000Z\",\"Open\":130.289021,\"High\":130.646509,\"Low\":129.555212,\"Close\":129.555212,\"Volume\":120575900,\"Adj_Ratio\":0.940783},{\"Date\":\"2012-08-01T00:00:00.000Z\",\"Open\":130.486578,\"High\":130.5148,\"Low\":129.263557,\"Close\":129.442308,\"Volume\":138293800,\"Adj_Ratio\":0.940783},{\"Date\":\"2012-08-02T00:00:00.000Z\",\"Open\":128.4639,\"High\":129.423503,\"Low\":127.55134,\"Close\":128.548567,\"Volume\":199556600,\"Adj_Ratio\":0.940783},{\"Date\":\"2012-08-03T00:00:00.000Z\",\"Open\":130.354869,\"High\":131.370915,\"Low\":128.586193,\"Close\":131.098095,\"Volume\":157825000,\"Adj_Ratio\":0.940783},{\"Date\":\"2012-08-06T00:00:00.000Z\",\"Open\":131.44618,\"High\":131.869529,\"Low\":131.295652,\"Close\":131.352096,\"Volume\":86326200,\"Adj_Ratio\":0.940783},{\"Date\":\"2012-08-07T00:00:00.000Z\",\"Open\":131.878933,\"High\":132.575117,\"Low\":131.737821,\"Close\":132.010656,\"Volume\":109545100,\"Adj_Ratio\":0.940783},{\"Date\":\"2012-08-08T00:00:00.000Z\",\"Open\":131.568487,\"High\":132.321102,\"Low\":131.530848,\"Close\":132.170587,\"Volume\":89754700,\"Adj_Ratio\":0.940783},{\"Date\":\"2012-08-09T00:00:00.000Z\",\"Open\":131.982418,\"High\":132.546893,\"Low\":131.850709,\"Close\":132.283476,\"Volume\":90291700,\"Adj_Ratio\":0.940783},{\"Date\":\"2012-08-10T00:00:00.000Z\",\"Open\":131.747223,\"High\":132.546894,\"Low\":131.530848,\"Close\":132.499852,\"Volume\":99792700,\"Adj_Ratio\":0.940783},{\"Date\":\"2012-08-13T00:00:00.000Z\",\"Open\":132.274074,\"High\":132.499852,\"Low\":131.747223,\"Close\":132.434005,\"Volume\":79426900,\"Adj_Ratio\":0.940783},{\"Date\":\"2012-08-14T00:00:00.000Z\",\"Open\":132.923201,\"High\":133.007883,\"Low\":132.057683,\"Close\":132.45281,\"Volume\":102379400,\"Adj_Ratio\":0.940783},{\"Date\":\"2012-08-15T00:00:00.000Z\",\"Open\":132.311698,\"High\":132.829132,\"Low\":132.227032,\"Close\":132.603339,\"Volume\":71085900,\"Adj_Ratio\":0.940783},{\"Date\":\"2012-08-16T00:00:00.000Z\",\"Open\":132.791493,\"High\":133.741693,\"Low\":132.462228,\"Close\":133.581761,\"Volume\":112014200,\"Adj_Ratio\":0.940783},{\"Date\":\"2012-08-17T00:00:00.000Z\",\"Open\":133.80754,\"High\":133.873401,\"Low\":133.459455,\"Close\":133.760498,\"Volume\":90813700,\"Adj_Ratio\":0.940783},{\"Date\":\"2012-08-20T00:00:00.000Z\",\"Open\":133.572345,\"High\":133.798138,\"Low\":133.20544,\"Close\":133.769915,\"Volume\":78255700,\"Adj_Ratio\":0.940783},{\"Date\":\"2012-08-21T00:00:00.000Z\",\"Open\":134.09918,\"High\":134.616613,\"Low\":133.07373,\"Close\":133.365371,\"Volume\":105581100,\"Adj_Ratio\":0.940783},{\"Date\":\"2012-08-22T00:00:00.000Z\",\"Open\":133.026689,\"High\":133.638206,\"Low\":132.716243,\"Close\":133.42183,\"Volume\":133243500,\"Adj_Ratio\":0.940783},{\"Date\":\"2012-08-23T00:00:00.000Z\",\"Open\":133.092549,\"High\":133.101952,\"Low\":132.123544,\"Close\":132.330518,\"Volume\":111466400,\"Adj_Ratio\":0.940783},{\"Date\":\"2012-08-24T00:00:00.000Z\",\"Open\":132.001238,\"High\":133.431232,\"Low\":131.916571,\"Close\":133.130175,\"Volume\":99481200,\"Adj_Ratio\":0.940783},{\"Date\":\"2012-08-27T00:00:00.000Z\",\"Open\":133.487678,\"High\":133.666429,\"Low\":132.970244,\"Close\":133.158398,\"Volume\":68785900,\"Adj_Ratio\":0.940783},{\"Date\":\"2012-08-28T00:00:00.000Z\",\"Open\":132.819716,\"High\":133.440635,\"Low\":132.622159,\"Close\":133.026689,\"Volume\":75689600,\"Adj_Ratio\":0.940783},{\"Date\":\"2012-08-29T00:00:00.000Z\",\"Open\":133.139591,\"High\":133.487676,\"Low\":132.76327,\"Close\":133.130175,\"Volume\":65421300,\"Adj_Ratio\":0.940783},{\"Date\":\"2012-08-30T00:00:00.000Z\",\"Open\":132.556298,\"High\":132.593936,\"Low\":131.888349,\"Close\":132.170587,\"Volume\":96589900,\"Adj_Ratio\":0.940783},{\"Date\":\"2012-08-31T00:00:00.000Z\",\"Open\":132.923201,\"High\":133.421829,\"Low\":132.048281,\"Close\":132.80091,\"Volume\":151970400,\"Adj_Ratio\":0.940783},{\"Date\":\"2012-09-04T00:00:00.000Z\",\"Open\":132.688005,\"High\":133.083147,\"Low\":131.831904,\"Close\":132.678603,\"Volume\":120226200,\"Adj_Ratio\":0.940783},{\"Date\":\"2012-09-05T00:00:00.000Z\",\"Open\":132.735047,\"High\":133.09255,\"Low\":132.302296,\"Close\":132.565714,\"Volume\":100660300,\"Adj_Ratio\":0.940783},{\"Date\":\"2012-09-06T00:00:00.000Z\",\"Open\":133.365372,\"High\":135.265757,\"Low\":133.355969,\"Close\":135.256354,\"Volume\":158272500,\"Adj_Ratio\":0.940783},{\"Date\":\"2012-09-07T00:00:00.000Z\",\"Open\":135.482133,\"High\":135.839634,\"Low\":135.359841,\"Close\":135.78319,\"Volume\":107272100,\"Adj_Ratio\":0.940783},{\"Date\":\"2012-09-10T00:00:00.000Z\",\"Open\":135.65148,\"High\":135.886676,\"Low\":134.964713,\"Close\":135.011741,\"Volume\":86458500,\"Adj_Ratio\":0.940783},{\"Date\":\"2012-09-11T00:00:00.000Z\",\"Open\":135.096422,\"High\":135.820815,\"Low\":135.058783,\"Close\":135.388063,\"Volume\":88760000,\"Adj_Ratio\":0.940783},{\"Date\":\"2012-09-12T00:00:00.000Z\",\"Open\":135.839634,\"High\":135.990163,\"Low\":135.378646,\"Close\":135.839634,\"Volume\":87640900,\"Adj_Ratio\":0.940783},{\"Date\":\"2012-09-13T00:00:00.000Z\",\"Open\":135.820815,\"High\":138.332703,\"Low\":135.463327,\"Close\":137.909354,\"Volume\":225470200,\"Adj_Ratio\":0.940783},{\"Date\":\"2012-09-14T00:00:00.000Z\",\"Open\":138.182189,\"High\":139.339348,\"Low\":138.069286,\"Close\":138.520871,\"Volume\":169777000,\"Adj_Ratio\":0.940783},{\"Date\":\"2012-09-17T00:00:00.000Z\",\"Open\":138.238634,\"High\":138.473829,\"Low\":137.702381,\"Close\":138.05048,\"Volume\":119427800,\"Adj_Ratio\":0.940783},{\"Date\":\"2012-09-18T00:00:00.000Z\",\"Open\":137.815284,\"High\":138.116328,\"Low\":137.589491,\"Close\":137.937576,\"Volume\":98326600,\"Adj_Ratio\":0.940783},{\"Date\":\"2012-09-19T00:00:00.000Z\",\"Open\":138.097507,\"High\":138.455009,\"Low\":137.74002,\"Close\":138.01284,\"Volume\":128318300,\"Adj_Ratio\":0.940783},{\"Date\":\"2012-09-20T00:00:00.000Z\",\"Open\":137.382518,\"High\":138.097507,\"Low\":137.006211,\"Close\":138.022258,\"Volume\":154009800,\"Adj_Ratio\":0.940783},{\"Date\":\"2012-09-21T00:00:00.000Z\",\"Open\":138.692829,\"High\":138.721202,\"Low\":137.90781,\"Close\":137.964555,\"Volume\":108737500,\"Adj_Ratio\":0.945805},{\"Date\":\"2012-09-24T00:00:00.000Z\",\"Open\":137.283575,\"High\":138.068595,\"Low\":137.179535,\"Close\":137.756477,\"Volume\":95682000,\"Adj_Ratio\":0.945805},{\"Date\":\"2012-09-25T00:00:00.000Z\",\"Open\":138.049689,\"High\":138.314513,\"Low\":136.252651,\"Close\":136.290491,\"Volume\":133165200,\"Adj_Ratio\":0.945805},{\"Date\":\"2012-09-26T00:00:00.000Z\",\"Open\":136.262118,\"High\":136.299945,\"Low\":135.202807,\"Close\":135.524377,\"Volume\":146502200,\"Adj_Ratio\":0.945805},{\"Date\":\"2012-09-27T00:00:00.000Z\",\"Open\":136.091865,\"High\":137.113337,\"Low\":135.732456,\"Close\":136.801219,\"Volume\":111830300,\"Adj_Ratio\":0.945805},{\"Date\":\"2012-09-28T00:00:00.000Z\",\"Open\":136.281024,\"High\":136.725554,\"Low\":135.685177,\"Close\":136.167532,\"Volume\":150696100,\"Adj_Ratio\":0.945805},{\"Date\":\"2012-10-01T00:00:00.000Z\",\"Open\":136.687727,\"High\":137.794317,\"Low\":136.205358,\"Close\":136.526942,\"Volume\":135911200,\"Adj_Ratio\":0.945805},{\"Date\":\"2012-10-02T00:00:00.000Z\",\"Open\":137.066043,\"High\":137.283575,\"Low\":136.03512,\"Close\":136.668807,\"Volume\":113422200,\"Adj_Ratio\":0.945805},{\"Date\":\"2012-10-03T00:00:00.000Z\",\"Open\":137.037671,\"High\":137.5484,\"Low\":136.318865,\"Close\":137.226829,\"Volume\":121283100,\"Adj_Ratio\":0.945805},{\"Date\":\"2012-10-04T00:00:00.000Z\",\"Open\":137.747024,\"High\":138.409085,\"Low\":137.557866,\"Close\":138.210474,\"Volume\":124311600,\"Adj_Ratio\":0.945805},{\"Date\":\"2012-10-05T00:00:00.000Z\",\"Open\":138.948202,\"High\":139.184653,\"Low\":137.803771,\"Close\":138.219927,\"Volume\":124842100,\"Adj_Ratio\":0.945805},{\"Date\":\"2012-10-08T00:00:00.000Z\",\"Open\":137.709198,\"High\":138.201007,\"Low\":137.434907,\"Close\":137.747024,\"Volume\":78415400,\"Adj_Ratio\":0.945805},{\"Date\":\"2012-10-09T00:00:00.000Z\",\"Open\":137.642985,\"High\":137.756477,\"Low\":136.33777,\"Close\":136.385063,\"Volume\":148872900,\"Adj_Ratio\":0.945805},{\"Date\":\"2012-10-10T00:00:00.000Z\",\"Open\":136.366143,\"High\":136.498569,\"Low\":135.335218,\"Close\":135.514924,\"Volume\":124247500,\"Adj_Ratio\":0.945805},{\"Date\":\"2012-10-11T00:00:00.000Z\",\"Open\":136.460729,\"High\":136.659353,\"Low\":135.562217,\"Close\":135.59059,\"Volume\":123601500,\"Adj_Ratio\":0.945805},{\"Date\":\"2012-10-12T00:00:00.000Z\",\"Open\":135.685177,\"High\":136.148612,\"Low\":134.852864,\"Close\":135.146061,\"Volume\":124181900,\"Adj_Ratio\":0.945805},{\"Date\":\"2012-10-15T00:00:00.000Z\",\"Open\":135.467631,\"High\":136.413436,\"Low\":135.032568,\"Close\":136.271571,\"Volume\":107689100,\"Adj_Ratio\":0.945805},{\"Date\":\"2012-10-16T00:00:00.000Z\",\"Open\":136.914712,\"High\":137.747024,\"Low\":136.82014,\"Close\":137.652438,\"Volume\":108815500,\"Adj_Ratio\":0.945805},{\"Date\":\"2012-10-17T00:00:00.000Z\",\"Open\":137.747024,\"High\":138.390179,\"Low\":137.538946,\"Close\":138.276673,\"Volume\":128834100,\"Adj_Ratio\":0.945805},{\"Date\":\"2012-10-18T00:00:00.000Z\",\"Open\":137.917277,\"High\":138.579338,\"Low\":137.453828,\"Close\":137.917277,\"Volume\":148108500,\"Adj_Ratio\":0.945805},{\"Date\":\"2012-10-19T00:00:00.000Z\",\"Open\":137.661905,\"High\":137.671359,\"Low\":135.297393,\"Close\":135.618963,\"Volume\":185645200,\"Adj_Ratio\":0.945805},{\"Date\":\"2012-10-22T00:00:00.000Z\",\"Open\":135.391964,\"High\":135.883787,\"Low\":134.569119,\"Close\":135.637883,\"Volume\":125578600,\"Adj_Ratio\":0.945805},{\"Date\":\"2012-10-23T00:00:00.000Z\",\"Open\":134.171883,\"High\":134.361041,\"Low\":133.197705,\"Close\":133.755726,\"Volume\":192056300,\"Adj_Ratio\":0.945805},{\"Date\":\"2012-10-24T00:00:00.000Z\",\"Open\":134.238082,\"High\":134.398881,\"Low\":133.169332,\"Close\":133.37741,\"Volume\":120179400,\"Adj_Ratio\":0.945805},{\"Date\":\"2012-10-25T00:00:00.000Z\",\"Open\":134.323214,\"High\":134.569119,\"Low\":132.9518,\"Close\":133.765179,\"Volume\":134457400,\"Adj_Ratio\":0.945805},{\"Date\":\"2012-10-26T00:00:00.000Z\",\"Open\":133.642235,\"High\":134.152963,\"Low\":132.781549,\"Close\":133.689528,\"Volume\":146023500,\"Adj_Ratio\":0.945805},{\"Date\":\"2012-10-31T00:00:00.000Z\",\"Open\":134.16243,\"High\":134.332669,\"Low\":133.055826,\"Close\":133.689528,\"Volume\":103438500,\"Adj_Ratio\":0.945805},{\"Date\":\"2012-11-01T00:00:00.000Z\",\"Open\":133.973258,\"High\":135.259553,\"Low\":133.850312,\"Close\":135.089315,\"Volume\":100995600,\"Adj_Ratio\":0.945805},{\"Date\":\"2012-11-02T00:00:00.000Z\",\"Open\":135.89324,\"High\":135.931079,\"Low\":133.746273,\"Close\":133.888138,\"Volume\":137702200,\"Adj_Ratio\":0.945805},{\"Date\":\"2012-11-05T00:00:00.000Z\",\"Open\":133.689528,\"High\":134.46508,\"Low\":133.292277,\"Close\":134.16243,\"Volume\":98378500,\"Adj_Ratio\":0.945805},{\"Date\":\"2012-11-06T00:00:00.000Z\",\"Open\":134.569119,\"High\":135.741922,\"Low\":134.427254,\"Close\":135.212274,\"Volume\":107068100,\"Adj_Ratio\":0.945805},{\"Date\":\"2012-11-07T00:00:00.000Z\",\"Open\":133.982725,\"High\":134.001631,\"Low\":131.523627,\"Close\":132.147861,\"Volume\":264304500,\"Adj_Ratio\":0.945805},{\"Date\":\"2012-11-08T00:00:00.000Z\",\"Open\":132.128941,\"High\":132.800469,\"Low\":130.454862,\"Close\":130.558901,\"Volume\":181517300,\"Adj_Ratio\":0.945805},{\"Date\":\"2012-11-09T00:00:00.000Z\",\"Open\":130.161665,\"High\":131.883036,\"Low\":130.095466,\"Close\":130.672408,\"Volume\":201055300,\"Adj_Ratio\":0.945805},{\"Date\":\"2012-11-12T00:00:00.000Z\",\"Open\":131.079097,\"High\":131.287176,\"Low\":130.48325,\"Close\":130.776447,\"Volume\":97677500,\"Adj_Ratio\":0.945805},{\"Date\":\"2012-11-13T00:00:00.000Z\",\"Open\":130.085999,\"High\":131.703332,\"Low\":129.915761,\"Close\":130.32245,\"Volume\":123018300,\"Adj_Ratio\":0.945805},{\"Date\":\"2012-11-14T00:00:00.000Z\",\"Open\":130.7197,\"High\":130.927764,\"Low\":128.270054,\"Close\":128.563252,\"Volume\":191505000,\"Adj_Ratio\":0.945805},{\"Date\":\"2012-11-15T00:00:00.000Z\",\"Open\":128.610545,\"High\":129.092914,\"Low\":127.853899,\"Close\":128.345721,\"Volume\":178128400,\"Adj_Ratio\":0.945805},{\"Date\":\"2012-11-16T00:00:00.000Z\",\"Open\":128.53488,\"High\":129.23478,\"Low\":127.399917,\"Close\":128.979409,\"Volume\":239483900,\"Adj_Ratio\":0.945805},{\"Date\":\"2012-11-19T00:00:00.000Z\",\"Open\":130.42649,\"High\":131.608746,\"Low\":129.01725,\"Close\":131.58984,\"Volume\":151495800,\"Adj_Ratio\":0.945805},{\"Date\":\"2012-11-20T00:00:00.000Z\",\"Open\":131.381763,\"High\":131.864117,\"Low\":130.596743,\"Close\":131.646586,\"Volume\":119807400,\"Adj_Ratio\":0.945805},{\"Date\":\"2012-11-21T00:00:00.000Z\",\"Open\":131.760078,\"High\":132.005996,\"Low\":131.495254,\"Close\":131.89249,\"Volume\":81710800,\"Adj_Ratio\":0.945805},{\"Date\":\"2012-11-23T00:00:00.000Z\",\"Open\":132.535645,\"High\":133.736807,\"Low\":132.450511,\"Close\":133.689528,\"Volume\":65409200,\"Adj_Ratio\":0.945805},{\"Date\":\"2012-11-26T00:00:00.000Z\",\"Open\":133.027453,\"High\":133.698981,\"Low\":132.59239,\"Close\":133.405783,\"Volume\":100124400,\"Adj_Ratio\":0.945805},{\"Date\":\"2012-11-27T00:00:00.000Z\",\"Open\":133.273372,\"High\":133.727353,\"Low\":132.639683,\"Close\":132.724803,\"Volume\":128646200,\"Adj_Ratio\":0.945805},{\"Date\":\"2012-11-28T00:00:00.000Z\",\"Open\":132.185687,\"High\":133.869218,\"Low\":131.46688,\"Close\":133.793567,\"Volume\":177086500,\"Adj_Ratio\":0.945805},{\"Date\":\"2012-11-29T00:00:00.000Z\",\"Open\":134.294842,\"High\":134.786651,\"Low\":133.708433,\"Close\":134.417787,\"Volume\":151085900,\"Adj_Ratio\":0.945805},{\"Date\":\"2012-11-30T00:00:00.000Z\",\"Open\":134.436707,\"High\":134.701531,\"Low\":133.982725,\"Close\":134.44616,\"Volume\":136568300,\"Adj_Ratio\":0.945805},{\"Date\":\"2012-12-03T00:00:00.000Z\",\"Open\":135.060941,\"High\":135.174433,\"Low\":133.68006,\"Close\":133.784099,\"Volume\":124656300,\"Adj_Ratio\":0.945805},{\"Date\":\"2012-12-04T00:00:00.000Z\",\"Open\":133.774646,\"High\":134.181335,\"Low\":133.23553,\"Close\":133.594941,\"Volume\":127512200,\"Adj_Ratio\":0.945805},{\"Date\":\"2012-12-05T00:00:00.000Z\",\"Open\":133.708433,\"High\":134.455627,\"Low\":132.762628,\"Close\":133.831392,\"Volume\":147300500,\"Adj_Ratio\":0.945805},{\"Date\":\"2012-12-06T00:00:00.000Z\",\"Open\":133.708433,\"High\":134.34212,\"Low\":133.509823,\"Close\":134.285375,\"Volume\":103220600,\"Adj_Ratio\":0.945805},{\"Date\":\"2012-12-07T00:00:00.000Z\",\"Open\":134.80557,\"High\":134.956901,\"Low\":133.992177,\"Close\":134.692078,\"Volume\":108726400,\"Adj_Ratio\":0.945805},{\"Date\":\"2012-12-10T00:00:00.000Z\",\"Open\":134.50292,\"High\":135.070395,\"Low\":134.44616,\"Close\":134.748824,\"Volume\":98840700,\"Adj_Ratio\":0.945805},{\"Date\":\"2012-12-11T00:00:00.000Z\",\"Open\":135.306846,\"High\":136.299944,\"Low\":135.240647,\"Close\":135.666256,\"Volume\":152570400,\"Adj_Ratio\":0.945805},{\"Date\":\"2012-12-12T00:00:00.000Z\",\"Open\":136.195904,\"High\":136.7161,\"Low\":135.543297,\"Close\":135.732455,\"Volume\":145880100,\"Adj_Ratio\":0.945805},{\"Date\":\"2012-12-13T00:00:00.000Z\",\"Open\":135.647336,\"High\":136.03512,\"Low\":134.559666,\"Close\":134.900157,\"Volume\":135715000,\"Adj_Ratio\":0.945805},{\"Date\":\"2012-12-14T00:00:00.000Z\",\"Open\":134.606959,\"High\":134.852864,\"Low\":134.190803,\"Close\":134.398881,\"Volume\":137701700,\"Adj_Ratio\":0.945805},{\"Date\":\"2012-12-17T00:00:00.000Z\",\"Open\":134.748825,\"High\":136.05404,\"Low\":134.710985,\"Close\":135.978374,\"Volume\":143238200,\"Adj_Ratio\":0.945805},{\"Date\":\"2012-12-18T00:00:00.000Z\",\"Open\":136.195905,\"High\":137.614612,\"Low\":135.997279,\"Close\":137.491653,\"Volume\":177762800,\"Adj_Ratio\":0.945805},{\"Date\":\"2012-12-19T00:00:00.000Z\",\"Open\":137.642986,\"High\":137.690279,\"Low\":136.422903,\"Close\":136.470182,\"Volume\":150895400,\"Adj_Ratio\":0.945805},{\"Date\":\"2012-12-20T00:00:00.000Z\",\"Open\":136.555316,\"High\":137.274122,\"Low\":136.176985,\"Close\":137.255202,\"Volume\":168487000,\"Adj_Ratio\":0.945805},{\"Date\":\"2012-12-21T00:00:00.000Z\",\"Open\":135.418752,\"High\":137.247575,\"Low\":135.199678,\"Close\":136.009305,\"Volume\":245883800,\"Adj_Ratio\":0.952513},{\"Date\":\"2012-12-24T00:00:00.000Z\",\"Open\":135.714028,\"High\":135.790231,\"Low\":135.437805,\"Close\":135.590211,\"Volume\":53874600,\"Adj_Ratio\":0.952513},{\"Date\":\"2012-12-26T00:00:00.000Z\",\"Open\":135.866433,\"High\":135.933117,\"Low\":134.637699,\"Close\":135.018698,\"Volume\":106947700,\"Adj_Ratio\":0.952513},{\"Date\":\"2012-12-27T00:00:00.000Z\",\"Open\":135.056791,\"High\":135.333028,\"Low\":133.275597,\"Close\":134.837718,\"Volume\":167920600,\"Adj_Ratio\":0.952513},{\"Date\":\"2012-12-28T00:00:00.000Z\",\"Open\":133.961408,\"High\":134.704367,\"Low\":133.227969,\"Close\":133.380375,\"Volume\":148806700,\"Adj_Ratio\":0.952513},{\"Date\":\"2012-12-31T00:00:00.000Z\",\"Open\":133.02795,\"High\":135.790231,\"Low\":132.913638,\"Close\":135.64736,\"Volume\":243935200,\"Adj_Ratio\":0.952513},{\"Date\":\"2013-01-02T00:00:00.000Z\",\"Open\":138.219142,\"High\":139.209748,\"Low\":137.857182,\"Close\":139.124026,\"Volume\":192059000,\"Adj_Ratio\":0.952513},{\"Date\":\"2013-01-03T00:00:00.000Z\",\"Open\":139.057357,\"High\":139.419302,\"Low\":138.438215,\"Close\":138.809695,\"Volume\":144761800,\"Adj_Ratio\":0.952513},{\"Date\":\"2013-01-04T00:00:00.000Z\",\"Open\":139.038304,\"High\":139.647912,\"Low\":138.752547,\"Close\":139.419303,\"Volume\":116817700,\"Adj_Ratio\":0.952513},{\"Date\":\"2013-01-07T00:00:00.000Z\",\"Open\":138.924006,\"High\":139.171655,\"Low\":138.523938,\"Close\":139.038303,\"Volume\":110002500,\"Adj_Ratio\":0.952513},{\"Date\":\"2013-01-08T00:00:00.000Z\",\"Open\":138.790656,\"High\":138.981156,\"Low\":138.095311,\"Close\":138.63825,\"Volume\":121265100,\"Adj_Ratio\":0.952513},{\"Date\":\"2013-01-09T00:00:00.000Z\",\"Open\":138.943046,\"High\":139.371689,\"Low\":138.723972,\"Close\":138.990675,\"Volume\":90745600,\"Adj_Ratio\":0.952513},{\"Date\":\"2013-01-10T00:00:00.000Z\",\"Open\":139.762208,\"High\":140.105112,\"Low\":139.038303,\"Close\":140.095593,\"Volume\":130735400,\"Adj_Ratio\":0.952513},{\"Date\":\"2013-01-11T00:00:00.000Z\",\"Open\":140.057484,\"High\":140.162262,\"Low\":139.647911,\"Close\":140.086073,\"Volume\":113917300,\"Adj_Ratio\":0.952513},{\"Date\":\"2013-01-14T00:00:00.000Z\",\"Open\":139.914613,\"High\":140.086073,\"Low\":139.476451,\"Close\":139.990816,\"Volume\":89567200,\"Adj_Ratio\":0.952513},{\"Date\":\"2013-01-15T00:00:00.000Z\",\"Open\":139.3431,\"High\":140.219425,\"Low\":139.257377,\"Close\":140.086073,\"Volume\":93172600,\"Adj_Ratio\":0.952513},{\"Date\":\"2013-01-16T00:00:00.000Z\",\"Open\":139.800316,\"High\":140.286093,\"Low\":139.647911,\"Close\":140.067019,\"Volume\":104849500,\"Adj_Ratio\":0.952513},{\"Date\":\"2013-01-17T00:00:00.000Z\",\"Open\":140.686146,\"High\":141.371956,\"Low\":140.162261,\"Close\":140.971903,\"Volume\":133833500,\"Adj_Ratio\":0.952513},{\"Date\":\"2013-01-18T00:00:00.000Z\",\"Open\":140.943328,\"High\":141.438639,\"Low\":140.428964,\"Close\":141.286234,\"Volume\":169906000,\"Adj_Ratio\":0.952513},{\"Date\":\"2013-01-22T00:00:00.000Z\",\"Open\":141.286235,\"High\":142.048248,\"Low\":140.95285,\"Close\":142.048248,\"Volume\":111797300,\"Adj_Ratio\":0.952513},{\"Date\":\"2013-01-23T00:00:00.000Z\",\"Open\":142.048247,\"High\":142.400672,\"Low\":141.791065,\"Close\":142.276841,\"Volume\":104596100,\"Adj_Ratio\":0.952513},{\"Date\":\"2013-01-24T00:00:00.000Z\",\"Open\":142.067287,\"High\":143.01028,\"Low\":141.933936,\"Close\":142.31495,\"Volume\":146426400,\"Adj_Ratio\":0.952513},{\"Date\":\"2013-01-25T00:00:00.000Z\",\"Open\":142.762632,\"High\":143.115057,\"Low\":142.276841,\"Close\":143.115057,\"Volume\":147211600,\"Adj_Ratio\":0.952513},{\"Date\":\"2013-01-28T00:00:00.000Z\",\"Open\":143.153151,\"High\":143.191261,\"Low\":142.410193,\"Close\":142.943612,\"Volume\":113357700,\"Adj_Ratio\":0.952513},{\"Date\":\"2013-01-29T00:00:00.000Z\",\"Open\":142.657855,\"High\":143.68657,\"Low\":142.562598,\"Close\":143.505591,\"Volume\":105694400,\"Adj_Ratio\":0.952513},{\"Date\":\"2013-01-30T00:00:00.000Z\",\"Open\":143.486537,\"High\":143.772293,\"Low\":142.810247,\"Close\":142.943612,\"Volume\":137447700,\"Adj_Ratio\":0.952513},{\"Date\":\"2013-01-31T00:00:00.000Z\",\"Open\":142.772151,\"High\":143.238888,\"Low\":142.495929,\"Close\":142.591172,\"Volume\":108975800,\"Adj_Ratio\":0.952513},{\"Date\":\"2013-02-01T00:00:00.000Z\",\"Open\":143.496057,\"High\":144.229496,\"Low\":143.248408,\"Close\":144.05805,\"Volume\":131173000,\"Adj_Ratio\":0.952513},{\"Date\":\"2013-02-04T00:00:00.000Z\",\"Open\":143.18174,\"High\":144.086625,\"Low\":142.333991,\"Close\":142.438767,\"Volume\":159073600,\"Adj_Ratio\":0.952513},{\"Date\":\"2013-02-05T00:00:00.000Z\",\"Open\":143.210314,\"High\":144.286644,\"Low\":143.153151,\"Close\":143.87707,\"Volume\":113912400,\"Adj_Ratio\":0.952513},{\"Date\":\"2013-02-06T00:00:00.000Z\",\"Open\":143.372239,\"High\":144.07709,\"Low\":143.267462,\"Close\":143.981847,\"Volume\":138762800,\"Adj_Ratio\":0.952513},{\"Date\":\"2013-02-07T00:00:00.000Z\",\"Open\":144.029476,\"High\":144.162827,\"Low\":142.743578,\"Close\":143.791348,\"Volume\":162490000,\"Adj_Ratio\":0.952513},{\"Date\":\"2013-02-08T00:00:00.000Z\",\"Open\":144.038996,\"High\":144.677177,\"Low\":144.038996,\"Close\":144.591455,\"Volume\":103133700,\"Adj_Ratio\":0.952513},{\"Date\":\"2013-02-11T00:00:00.000Z\",\"Open\":144.534307,\"High\":144.686698,\"Low\":144.200921,\"Close\":144.562881,\"Volume\":73775000,\"Adj_Ratio\":0.952513},{\"Date\":\"2013-02-12T00:00:00.000Z\",\"Open\":144.572401,\"High\":145.067712,\"Low\":144.410476,\"Close\":144.801009,\"Volume\":65392700,\"Adj_Ratio\":0.952513},{\"Date\":\"2013-02-13T00:00:00.000Z\",\"Open\":145.096286,\"High\":145.362989,\"Low\":144.515252,\"Close\":144.924826,\"Volume\":82322600,\"Adj_Ratio\":0.952513},{\"Date\":\"2013-02-14T00:00:00.000Z\",\"Open\":144.486678,\"High\":145.229637,\"Low\":144.324753,\"Close\":145.058177,\"Volume\":80834300,\"Adj_Ratio\":0.952513},{\"Date\":\"2013-02-15T00:00:00.000Z\",\"Open\":145.191528,\"High\":145.343933,\"Low\":144.353327,\"Close\":144.886732,\"Volume\":215226500,\"Adj_Ratio\":0.952513},{\"Date\":\"2013-02-19T00:00:00.000Z\",\"Open\":145.13438,\"High\":146.00117,\"Low\":144.934361,\"Close\":145.972596,\"Volume\":95105400,\"Adj_Ratio\":0.952513},{\"Date\":\"2013-02-20T00:00:00.000Z\",\"Open\":145.867819,\"High\":145.915448,\"Low\":144.077091,\"Close\":144.153293,\"Volume\":160574800,\"Adj_Ratio\":0.952513},{\"Date\":\"2013-02-21T00:00:00.000Z\",\"Open\":143.791349,\"High\":144.229496,\"Low\":142.819781,\"Close\":143.276983,\"Volume\":183257000,\"Adj_Ratio\":0.952513},{\"Date\":\"2013-02-22T00:00:00.000Z\",\"Open\":143.972314,\"High\":144.677178,\"Low\":143.343666,\"Close\":144.677178,\"Volume\":106356600,\"Adj_Ratio\":0.952513},{\"Date\":\"2013-02-25T00:00:00.000Z\",\"Open\":145.382042,\"High\":145.601117,\"Low\":141.924416,\"Close\":141.924416,\"Volume\":245824800,\"Adj_Ratio\":0.952513},{\"Date\":\"2013-02-26T00:00:00.000Z\",\"Open\":142.610226,\"High\":143.067429,\"Low\":141.667234,\"Close\":142.895983,\"Volume\":186596200,\"Adj_Ratio\":0.952513},{\"Date\":\"2013-02-27T00:00:00.000Z\",\"Open\":142.772151,\"High\":145.096285,\"Low\":142.648321,\"Close\":144.696232,\"Volume\":150781900,\"Adj_Ratio\":0.952513},{\"Date\":\"2013-02-28T00:00:00.000Z\",\"Open\":144.686697,\"High\":145.610635,\"Low\":144.219975,\"Close\":144.410475,\"Volume\":126866000,\"Adj_Ratio\":0.952513},{\"Date\":\"2013-03-01T00:00:00.000Z\",\"Open\":143.915164,\"High\":145.105805,\"Low\":143.267463,\"Close\":144.886732,\"Volume\":170634800,\"Adj_Ratio\":0.952513},{\"Date\":\"2013-03-04T00:00:00.000Z\",\"Open\":144.553347,\"High\":145.658265,\"Low\":144.324753,\"Close\":145.658265,\"Volume\":99010200,\"Adj_Ratio\":0.952513},{\"Date\":\"2013-03-05T00:00:00.000Z\",\"Open\":146.36313,\"High\":147.353737,\"Low\":146.344075,\"Close\":146.963203,\"Volume\":121431900,\"Adj_Ratio\":0.952513},{\"Date\":\"2013-03-06T00:00:00.000Z\",\"Open\":147.487088,\"High\":147.56329,\"Low\":146.839386,\"Close\":147.163237,\"Volume\":94469900,\"Adj_Ratio\":0.952513},{\"Date\":\"2013-03-07T00:00:00.000Z\",\"Open\":147.353736,\"High\":147.620439,\"Low\":147.18229,\"Close\":147.429939,\"Volume\":86101400,\"Adj_Ratio\":0.952513},{\"Date\":\"2013-03-08T00:00:00.000Z\",\"Open\":148.077656,\"High\":148.258621,\"Low\":147.315643,\"Close\":148.058601,\"Volume\":123477800,\"Adj_Ratio\":0.952513},{\"Date\":\"2013-03-11T00:00:00.000Z\",\"Open\":147.944303,\"High\":148.630099,\"Low\":147.763324,\"Close\":148.62058,\"Volume\":83746800,\"Adj_Ratio\":0.952513},{\"Date\":\"2013-03-12T00:00:00.000Z\",\"Open\":148.515803,\"High\":148.687263,\"Low\":147.839527,\"Close\":148.287195,\"Volume\":105755800,\"Adj_Ratio\":0.952513},{\"Date\":\"2013-03-13T00:00:00.000Z\",\"Open\":148.363398,\"High\":148.706303,\"Low\":147.858567,\"Close\":148.496749,\"Volume\":92550900,\"Adj_Ratio\":0.952513},{\"Date\":\"2013-03-14T00:00:00.000Z\",\"Open\":148.887284,\"High\":149.35402,\"Low\":148.506284,\"Close\":149.287337,\"Volume\":126329900,\"Adj_Ratio\":0.952513},{\"Date\":\"2013-03-15T00:00:00.000Z\",\"Open\":149.109397,\"High\":149.291167,\"Low\":148.592744,\"Close\":149.090258,\"Volume\":138601100,\"Adj_Ratio\":0.956749},{\"Date\":\"2013-03-18T00:00:00.000Z\",\"Open\":147.664696,\"High\":148.908473,\"Low\":147.530752,\"Close\":148.267453,\"Volume\":126704300,\"Adj_Ratio\":0.956749},{\"Date\":\"2013-03-19T00:00:00.000Z\",\"Open\":148.583181,\"High\":148.784091,\"Low\":146.947133,\"Close\":147.923022,\"Volume\":167567300,\"Adj_Ratio\":0.956749},{\"Date\":\"2013-03-20T00:00:00.000Z\",\"Open\":148.793668,\"High\":149.205063,\"Low\":148.544904,\"Close\":148.956313,\"Volume\":113759300,\"Adj_Ratio\":0.956749},{\"Date\":\"2013-03-21T00:00:00.000Z\",\"Open\":148.066529,\"High\":148.908472,\"Low\":147.435085,\"Close\":147.683835,\"Volume\":128605000,\"Adj_Ratio\":0.956749},{\"Date\":\"2013-03-22T00:00:00.000Z\",\"Open\":148.152647,\"High\":148.870209,\"Low\":148.037827,\"Close\":148.870209,\"Volume\":111163600,\"Adj_Ratio\":0.956749},{\"Date\":\"2013-03-25T00:00:00.000Z\",\"Open\":149.262465,\"High\":149.511229,\"Low\":147.674272,\"Close\":148.248313,\"Volume\":151322300,\"Adj_Ratio\":0.956749},{\"Date\":\"2013-03-26T00:00:00.000Z\",\"Open\":148.860633,\"High\":149.472952,\"Low\":148.697987,\"Close\":149.434688,\"Volume\":86856600,\"Adj_Ratio\":0.956749},{\"Date\":\"2013-03-27T00:00:00.000Z\",\"Open\":148.544904,\"High\":149.482528,\"Low\":148.296154,\"Close\":149.434688,\"Volume\":99950600,\"Adj_Ratio\":0.956749},{\"Date\":\"2013-03-28T00:00:00.000Z\",\"Open\":149.339007,\"High\":150.066147,\"Low\":149.013716,\"Close\":149.893924,\"Volume\":102932800,\"Adj_Ratio\":0.956749},{\"Date\":\"2013-04-01T00:00:00.000Z\",\"Open\":149.817382,\"High\":150.123549,\"Low\":148.937174,\"Close\":149.300744,\"Volume\":99194100,\"Adj_Ratio\":0.956749},{\"Date\":\"2013-04-02T00:00:00.000Z\",\"Open\":149.836522,\"High\":150.410577,\"Low\":149.606896,\"Close\":150.037445,\"Volume\":101504300,\"Adj_Ratio\":0.956749},{\"Date\":\"2013-04-03T00:00:00.000Z\",\"Open\":150.123549,\"High\":150.238354,\"Low\":148.123945,\"Close\":148.516202,\"Volume\":154167400,\"Adj_Ratio\":0.956749},{\"Date\":\"2013-04-04T00:00:00.000Z\",\"Open\":148.707549,\"High\":149.415548,\"Low\":148.382257,\"Close\":149.118959,\"Volume\":131885000,\"Adj_Ratio\":0.956749},{\"Date\":\"2013-04-05T00:00:00.000Z\",\"Open\":147.291564,\"High\":148.631021,\"Low\":147.119355,\"Close\":148.449237,\"Volume\":159666000,\"Adj_Ratio\":0.956749},{\"Date\":\"2013-04-08T00:00:00.000Z\",\"Open\":148.55448,\"High\":149.463389,\"Low\":148.056966,\"Close\":149.453827,\"Volume\":86571200,\"Adj_Ratio\":0.956749},{\"Date\":\"2013-04-09T00:00:00.000Z\",\"Open\":149.731278,\"High\":150.515819,\"Low\":149.233764,\"Close\":149.970465,\"Volume\":101922200,\"Adj_Ratio\":0.956749},{\"Date\":\"2013-04-10T00:00:00.000Z\",\"Open\":150.372298,\"High\":151.998769,\"Low\":150.334035,\"Close\":151.807422,\"Volume\":135711100,\"Adj_Ratio\":0.956749},{\"Date\":\"2013-04-11T00:00:00.000Z\",\"Open\":151.836124,\"High\":152.80245,\"Low\":151.68304,\"Close\":152.304936,\"Volume\":110142500,\"Adj_Ratio\":0.956749},{\"Date\":\"2013-04-12T00:00:00.000Z\",\"Open\":151.816985,\"High\":152.161414,\"Low\":151.08986,\"Close\":151.931804,\"Volume\":116359900,\"Adj_Ratio\":0.956749},{\"Date\":\"2013-04-15T00:00:00.000Z\",\"Open\":151.166402,\"High\":151.290784,\"Low\":148.391835,\"Close\":148.410959,\"Volume\":217259000,\"Adj_Ratio\":0.956749},{\"Date\":\"2013-04-16T00:00:00.000Z\",\"Open\":149.530353,\"High\":150.678464,\"Low\":149.166799,\"Close\":150.601923,\"Volume\":147507800,\"Adj_Ratio\":0.956749},{\"Date\":\"2013-04-17T00:00:00.000Z\",\"Open\":149.530354,\"High\":149.559069,\"Low\":147.607293,\"Close\":148.401397,\"Volume\":226834800,\"Adj_Ratio\":0.956749},{\"Date\":\"2013-04-18T00:00:00.000Z\",\"Open\":148.650147,\"High\":148.688426,\"Low\":146.908871,\"Close\":147.473349,\"Volume\":167583200,\"Adj_Ratio\":0.956749},{\"Date\":\"2013-04-19T00:00:00.000Z\",\"Open\":147.817778,\"High\":148.822368,\"Low\":147.454209,\"Close\":148.755389,\"Volume\":149687600,\"Adj_Ratio\":0.956749},{\"Date\":\"2013-04-22T00:00:00.000Z\",\"Open\":149.042418,\"High\":149.769541,\"Low\":148.056967,\"Close\":149.415549,\"Volume\":106553500,\"Adj_Ratio\":0.956749},{\"Date\":\"2013-04-23T00:00:00.000Z\",\"Open\":150.161812,\"High\":151.099423,\"Low\":149.415549,\"Close\":150.955916,\"Volume\":166141300,\"Adj_Ratio\":0.956749},{\"Date\":\"2013-04-24T00:00:00.000Z\",\"Open\":151.003757,\"High\":151.45343,\"Low\":150.726291,\"Close\":151.051597,\"Volume\":96781200,\"Adj_Ratio\":0.956749},{\"Date\":\"2013-04-25T00:00:00.000Z\",\"Open\":151.491693,\"High\":152.381478,\"Low\":151.262083,\"Close\":151.663916,\"Volume\":131060600,\"Adj_Ratio\":0.956749},{\"Date\":\"2013-04-26T00:00:00.000Z\",\"Open\":151.482132,\"High\":151.740458,\"Low\":150.908076,\"Close\":151.396027,\"Volume\":95918800,\"Adj_Ratio\":0.956749},{\"Date\":\"2013-04-29T00:00:00.000Z\",\"Open\":151.807422,\"High\":152.745033,\"Low\":151.568235,\"Close\":152.410179,\"Volume\":88572800,\"Adj_Ratio\":0.956749},{\"Date\":\"2013-04-30T00:00:00.000Z\",\"Open\":152.381477,\"High\":152.812012,\"Low\":151.75002,\"Close\":152.773734,\"Volume\":116010700,\"Adj_Ratio\":0.956749},{\"Date\":\"2013-05-01T00:00:00.000Z\",\"Open\":152.438881,\"High\":152.515423,\"Low\":151.262083,\"Close\":151.434291,\"Volume\":138874200,\"Adj_Ratio\":0.956749},{\"Date\":\"2013-05-02T00:00:00.000Z\",\"Open\":151.816984,\"High\":152.974657,\"Low\":151.673478,\"Close\":152.840713,\"Volume\":96407600,\"Adj_Ratio\":0.956749},{\"Date\":\"2013-05-03T00:00:00.000Z\",\"Open\":154.170594,\"High\":154.878595,\"Low\":152.869415,\"Close\":154.390643,\"Volume\":144202300,\"Adj_Ratio\":0.956749},{\"Date\":\"2013-05-06T00:00:00.000Z\",\"Open\":154.505461,\"High\":155.002962,\"Low\":154.438482,\"Close\":154.782913,\"Volume\":66882100,\"Adj_Ratio\":0.956749},{\"Date\":\"2013-05-07T00:00:00.000Z\",\"Open\":155.117782,\"High\":155.615281,\"Low\":154.67767,\"Close\":155.567455,\"Volume\":90359200,\"Adj_Ratio\":0.956749},{\"Date\":\"2013-05-08T00:00:00.000Z\",\"Open\":155.395232,\"High\":156.32328,\"Low\":155.309129,\"Close\":156.27544,\"Volume\":97419200,\"Adj_Ratio\":0.956749},{\"Date\":\"2013-05-09T00:00:00.000Z\",\"Open\":156.208475,\"High\":156.619871,\"Low\":155.443073,\"Close\":155.835344,\"Volume\":106738600,\"Adj_Ratio\":0.956749},{\"Date\":\"2013-05-10T00:00:00.000Z\",\"Open\":155.940586,\"High\":156.476364,\"Low\":155.481337,\"Close\":156.34242,\"Volume\":103203000,\"Adj_Ratio\":0.956749},{\"Date\":\"2013-05-13T00:00:00.000Z\",\"Open\":156.141496,\"High\":156.725114,\"Low\":155.777941,\"Close\":156.466787,\"Volume\":81843200,\"Adj_Ratio\":0.956749},{\"Date\":\"2013-05-14T00:00:00.000Z\",\"Open\":156.591169,\"High\":158.198515,\"Low\":156.591169,\"Close\":158.083696,\"Volume\":119000900,\"Adj_Ratio\":0.956749},{\"Date\":\"2013-05-15T00:00:00.000Z\",\"Open\":157.825384,\"High\":159.250931,\"Low\":157.777544,\"Close\":158.935202,\"Volume\":120718500,\"Adj_Ratio\":0.956749},{\"Date\":\"2013-05-16T00:00:00.000Z\",\"Open\":158.609912,\"High\":159.164828,\"Low\":157.949752,\"Close\":158.188939,\"Volume\":109913600,\"Adj_Ratio\":0.956749},{\"Date\":\"2013-05-17T00:00:00.000Z\",\"Open\":158.772557,\"High\":159.81541,\"Low\":158.562072,\"Close\":159.719744,\"Volume\":129801000,\"Adj_Ratio\":0.956749},{\"Date\":\"2013-05-20T00:00:00.000Z\",\"Open\":159.56666,\"High\":160.332063,\"Low\":159.404015,\"Close\":159.710167,\"Volume\":85071200,\"Adj_Ratio\":0.956749},{\"Date\":\"2013-05-21T00:00:00.000Z\",\"Open\":159.853688,\"High\":160.542549,\"Low\":159.298772,\"Close\":159.939792,\"Volume\":95804200,\"Adj_Ratio\":0.956749},{\"Date\":\"2013-05-22T00:00:00.000Z\",\"Open\":160.102437,\"High\":161.757624,\"Low\":158.026293,\"Close\":158.753418,\"Volume\":244031800,\"Adj_Ratio\":0.956749},{\"Date\":\"2013-05-23T00:00:00.000Z\",\"Open\":157.059982,\"High\":158.734293,\"Low\":156.849495,\"Close\":158.294182,\"Volume\":211064400,\"Adj_Ratio\":0.956749},{\"Date\":\"2013-05-24T00:00:00.000Z\",\"Open\":157.356571,\"High\":158.227217,\"Low\":156.887759,\"Close\":158.160238,\"Volume\":151573900,\"Adj_Ratio\":0.956749},{\"Date\":\"2013-05-28T00:00:00.000Z\",\"Open\":159.81541,\"High\":160.52341,\"Low\":158.638613,\"Close\":159.107425,\"Volume\":143679800,\"Adj_Ratio\":0.956749},{\"Date\":\"2013-05-29T00:00:00.000Z\",\"Open\":158.265481,\"High\":158.629051,\"Low\":157.23219,\"Close\":158.074134,\"Volume\":160363400,\"Adj_Ratio\":0.956749},{\"Date\":\"2013-05-30T00:00:00.000Z\",\"Open\":158.198515,\"High\":159.384875,\"Low\":158.074133,\"Close\":158.657751,\"Volume\":107793800,\"Adj_Ratio\":0.956749},{\"Date\":\"2013-05-31T00:00:00.000Z\",\"Open\":158.21764,\"High\":159.116987,\"Low\":156.074531,\"Close\":156.380683,\"Volume\":176850100,\"Adj_Ratio\":0.956749},{\"Date\":\"2013-06-03T00:00:00.000Z\",\"Open\":156.744252,\"High\":157.347009,\"Low\":155.624858,\"Close\":157.241766,\"Volume\":168390700,\"Adj_Ratio\":0.956749},{\"Date\":\"2013-06-04T00:00:00.000Z\",\"Open\":157.327869,\"High\":157.959328,\"Low\":155.691822,\"Close\":156.485926,\"Volume\":157631500,\"Adj_Ratio\":0.956749},{\"Date\":\"2013-06-05T00:00:00.000Z\",\"Open\":156.036253,\"High\":156.351982,\"Low\":154.161033,\"Close\":154.294977,\"Volume\":211737800,\"Adj_Ratio\":0.956749},{\"Date\":\"2013-06-06T00:00:00.000Z\",\"Open\":154.227996,\"High\":155.701398,\"Low\":153.319087,\"Close\":155.691822,\"Volume\":200225500,\"Adj_Ratio\":0.956749},{\"Date\":\"2013-06-07T00:00:00.000Z\",\"Open\":156.763392,\"High\":157.815808,\"Low\":156.084093,\"Close\":157.672301,\"Volume\":188337800,\"Adj_Ratio\":0.956749},{\"Date\":\"2013-06-10T00:00:00.000Z\",\"Open\":158.160238,\"High\":158.246342,\"Low\":157.260891,\"Close\":157.672301,\"Volume\":105667100,\"Adj_Ratio\":0.956749},{\"Date\":\"2013-06-11T00:00:00.000Z\",\"Open\":156.237177,\"High\":157.423537,\"Low\":155.701399,\"Close\":156.04583,\"Volume\":159505400,\"Adj_Ratio\":0.956749},{\"Date\":\"2013-06-12T00:00:00.000Z\",\"Open\":157.117384,\"High\":157.280029,\"Low\":154.610705,\"Close\":154.754212,\"Volume\":177361500,\"Adj_Ratio\":0.956749},{\"Date\":\"2013-06-13T00:00:00.000Z\",\"Open\":154.668108,\"High\":157.385273,\"Low\":154.323677,\"Close\":157.107822,\"Volume\":163587800,\"Adj_Ratio\":0.956749},{\"Date\":\"2013-06-14T00:00:00.000Z\",\"Open\":156.9356,\"High\":157.547918,\"Low\":155.864045,\"Close\":156.122357,\"Volume\":141197500,\"Adj_Ratio\":0.956749},{\"Date\":\"2013-06-17T00:00:00.000Z\",\"Open\":157.184349,\"High\":158.074134,\"Low\":156.160635,\"Close\":157.32787,\"Volume\":136295600,\"Adj_Ratio\":0.956749},{\"Date\":\"2013-06-18T00:00:00.000Z\",\"Open\":157.413975,\"High\":158.810834,\"Low\":157.404412,\"Close\":158.571647,\"Volume\":114695600,\"Adj_Ratio\":0.956749},{\"Date\":\"2013-06-19T00:00:00.000Z\",\"Open\":158.437703,\"High\":158.715153,\"Low\":156.313718,\"Close\":156.380683,\"Volume\":206149500,\"Adj_Ratio\":0.956749},{\"Date\":\"2013-06-20T00:00:00.000Z\",\"Open\":154.859455,\"High\":156.399822,\"Low\":152.104012,\"Close\":152.505845,\"Volume\":321255900,\"Adj_Ratio\":0.956749},{\"Date\":\"2013-06-21T00:00:00.000Z\",\"Open\":153.543642,\"High\":153.659056,\"Low\":151.456512,\"Close\":152.995417,\"Volume\":271956800,\"Adj_Ratio\":0.961812},{\"Date\":\"2013-06-24T00:00:00.000Z\",\"Open\":151.398805,\"High\":152.379842,\"Low\":149.782953,\"Close\":151.062165,\"Volume\":222329000,\"Adj_Ratio\":0.961812},{\"Date\":\"2013-06-25T00:00:00.000Z\",\"Open\":152.427937,\"High\":153.986082,\"Low\":151.408419,\"Close\":152.514511,\"Volume\":162262200,\"Adj_Ratio\":0.961812},{\"Date\":\"2013-06-26T00:00:00.000Z\",\"Open\":153.764855,\"High\":154.370801,\"Low\":153.168536,\"Close\":154.024548,\"Volume\":134848000,\"Adj_Ratio\":0.961812},{\"Date\":\"2013-06-27T00:00:00.000Z\",\"Open\":154.947893,\"High\":155.640399,\"Low\":154.803613,\"Close\":154.928653,\"Volume\":129483700,\"Adj_Ratio\":0.961812},{\"Date\":\"2013-06-28T00:00:00.000Z\",\"Open\":154.495841,\"High\":155.236426,\"Low\":153.755242,\"Close\":154.293854,\"Volume\":160402900,\"Adj_Ratio\":0.961812},{\"Date\":\"2013-07-01T00:00:00.000Z\",\"Open\":155.101772,\"High\":156.275183,\"Low\":154.928653,\"Close\":155.197959,\"Volume\":131954800,\"Adj_Ratio\":0.961812},{\"Date\":\"2013-07-02T00:00:00.000Z\",\"Open\":154.967118,\"High\":156.102064,\"Low\":154.3708,\"Close\":155.053693,\"Volume\":154863700,\"Adj_Ratio\":0.961812},{\"Date\":\"2013-07-03T00:00:00.000Z\",\"Open\":154.35156,\"High\":155.592305,\"Low\":154.101493,\"Close\":155.121012,\"Volume\":75216400,\"Adj_Ratio\":0.961812},{\"Date\":\"2013-07-05T00:00:00.000Z\",\"Open\":156.265571,\"High\":156.852277,\"Low\":155.140253,\"Close\":156.79457,\"Volume\":122416900,\"Adj_Ratio\":0.961812},{\"Date\":\"2013-07-08T00:00:00.000Z\",\"Open\":157.602489,\"High\":158.112247,\"Low\":156.852277,\"Close\":157.689048,\"Volume\":108092500,\"Adj_Ratio\":0.961812},{\"Date\":\"2013-07-09T00:00:00.000Z\",\"Open\":158.679714,\"High\":159.016353,\"Low\":157.996835,\"Close\":158.823994,\"Volume\":119298000,\"Adj_Ratio\":0.961812},{\"Date\":\"2013-07-10T00:00:00.000Z\",\"Open\":158.6701,\"High\":159.420313,\"Low\":158.343088,\"Close\":158.8817,\"Volume\":121410100,\"Adj_Ratio\":0.961812},{\"Date\":\"2013-07-11T00:00:00.000Z\",\"Open\":160.728378,\"High\":161.209284,\"Low\":158.872074,\"Close\":161.045777,\"Volume\":135592200,\"Adj_Ratio\":0.961812},{\"Date\":\"2013-07-12T00:00:00.000Z\",\"Open\":160.997682,\"High\":161.517055,\"Low\":160.747617,\"Close\":161.113096,\"Volume\":104212700,\"Adj_Ratio\":0.961812},{\"Date\":\"2013-07-15T00:00:00.000Z\",\"Open\":161.555536,\"High\":161.959495,\"Low\":161.276602,\"Close\":161.728655,\"Volume\":69450600,\"Adj_Ratio\":0.961812},{\"Date\":\"2013-07-16T00:00:00.000Z\",\"Open\":161.834456,\"High\":161.930643,\"Low\":160.689912,\"Close\":161.122724,\"Volume\":88702100,\"Adj_Ratio\":0.961812},{\"Date\":\"2013-07-17T00:00:00.000Z\",\"Open\":161.738283,\"High\":162.046055,\"Low\":161.324696,\"Close\":161.536296,\"Volume\":92873900,\"Adj_Ratio\":0.961812},{\"Date\":\"2013-07-18T00:00:00.000Z\",\"Open\":161.882549,\"High\":162.805894,\"Low\":161.776749,\"Close\":162.421161,\"Volume\":103620100,\"Adj_Ratio\":0.961812},{\"Date\":\"2013-07-19T00:00:00.000Z\",\"Open\":162.084535,\"High\":162.767414,\"Low\":161.882549,\"Close\":162.709707,\"Volume\":103831700,\"Adj_Ratio\":0.961812},{\"Date\":\"2013-07-22T00:00:00.000Z\",\"Open\":162.940548,\"High\":163.257947,\"Low\":162.555814,\"Close\":163.027107,\"Volume\":79428600,\"Adj_Ratio\":0.961812},{\"Date\":\"2013-07-23T00:00:00.000Z\",\"Open\":163.315654,\"High\":163.344507,\"Low\":162.594295,\"Close\":162.680854,\"Volume\":80829700,\"Adj_Ratio\":0.961812},{\"Date\":\"2013-07-24T00:00:00.000Z\",\"Open\":163.306025,\"High\":163.37336,\"Low\":161.757508,\"Close\":162.084535,\"Volume\":112914000,\"Adj_Ratio\":0.961812},{\"Date\":\"2013-07-25T00:00:00.000Z\",\"Open\":161.795988,\"High\":162.623147,\"Low\":161.526682,\"Close\":162.478867,\"Volume\":111088600,\"Adj_Ratio\":0.961812},{\"Date\":\"2013-07-26T00:00:00.000Z\",\"Open\":161.795988,\"High\":162.700094,\"Low\":161.122723,\"Close\":162.652001,\"Volume\":107814600,\"Adj_Ratio\":0.961812},{\"Date\":\"2013-07-29T00:00:00.000Z\",\"Open\":162.238415,\"High\":162.603908,\"Low\":161.69019,\"Close\":162.151855,\"Volume\":79695000,\"Adj_Ratio\":0.961812},{\"Date\":\"2013-07-30T00:00:00.000Z\",\"Open\":162.642389,\"High\":162.815508,\"Low\":161.767136,\"Close\":162.151855,\"Volume\":85209600,\"Adj_Ratio\":0.961812},{\"Date\":\"2013-07-31T00:00:00.000Z\",\"Open\":162.488494,\"High\":163.363747,\"Low\":162.055681,\"Close\":162.267282,\"Volume\":142388700,\"Adj_Ratio\":0.961812},{\"Date\":\"2013-08-01T00:00:00.000Z\",\"Open\":163.498399,\"High\":164.287078,\"Low\":163.411825,\"Close\":164.142812,\"Volume\":110438400,\"Adj_Ratio\":0.961812},{\"Date\":\"2013-08-02T00:00:00.000Z\",\"Open\":163.777319,\"High\":164.440971,\"Low\":163.556106,\"Close\":164.421731,\"Volume\":91116700,\"Adj_Ratio\":0.961812},{\"Date\":\"2013-08-05T00:00:00.000Z\",\"Open\":164.056252,\"High\":164.431359,\"Low\":163.844653,\"Close\":164.181278,\"Volume\":54072700,\"Adj_Ratio\":0.961812},{\"Date\":\"2013-08-06T00:00:00.000Z\",\"Open\":163.863879,\"High\":164.219759,\"Low\":162.882841,\"Close\":163.24832,\"Volume\":87495000,\"Adj_Ratio\":0.961812},{\"Date\":\"2013-08-07T00:00:00.000Z\",\"Open\":162.728947,\"High\":162.959773,\"Low\":162.113388,\"Close\":162.71932,\"Volume\":84854700,\"Adj_Ratio\":0.961812},{\"Date\":\"2013-08-08T00:00:00.000Z\",\"Open\":163.488772,\"High\":163.681132,\"Low\":162.478867,\"Close\":163.315653,\"Volume\":102181300,\"Adj_Ratio\":0.961812},{\"Date\":\"2013-08-09T00:00:00.000Z\",\"Open\":163.104053,\"High\":163.604199,\"Low\":162.276894,\"Close\":162.84436,\"Volume\":91757700,\"Adj_Ratio\":0.961812},{\"Date\":\"2013-08-12T00:00:00.000Z\",\"Open\":162.026829,\"High\":162.84436,\"Low\":161.949882,\"Close\":162.652001,\"Volume\":68593300,\"Adj_Ratio\":0.961812},{\"Date\":\"2013-08-13T00:00:00.000Z\",\"Open\":162.940548,\"High\":163.411826,\"Low\":161.978736,\"Close\":163.132907,\"Volume\":80806000,\"Adj_Ratio\":0.961812},{\"Date\":\"2013-08-14T00:00:00.000Z\",\"Open\":163.055961,\"High\":163.315654,\"Low\":162.257655,\"Close\":162.296135,\"Volume\":79829200,\"Adj_Ratio\":0.961812},{\"Date\":\"2013-08-15T00:00:00.000Z\",\"Open\":161.016924,\"High\":161.03615,\"Low\":159.747325,\"Close\":160.026259,\"Volume\":152931800,\"Adj_Ratio\":0.961812},{\"Date\":\"2013-08-16T00:00:00.000Z\",\"Open\":159.718472,\"High\":160.266711,\"Low\":159.179859,\"Close\":159.497259,\"Volume\":130868200,\"Adj_Ratio\":0.961812},{\"Date\":\"2013-08-19T00:00:00.000Z\",\"Open\":159.314512,\"High\":159.862753,\"Low\":158.468114,\"Close\":158.477741,\"Volume\":96437600,\"Adj_Ratio\":0.961812},{\"Date\":\"2013-08-20T00:00:00.000Z\",\"Open\":158.737419,\"High\":159.853125,\"Low\":158.564301,\"Close\":159.256806,\"Volume\":89294400,\"Adj_Ratio\":0.961812},{\"Date\":\"2013-08-21T00:00:00.000Z\",\"Open\":158.814366,\"High\":159.689618,\"Low\":157.919887,\"Close\":158.275754,\"Volume\":159530500,\"Adj_Ratio\":0.961812},{\"Date\":\"2013-08-22T00:00:00.000Z\",\"Open\":158.602766,\"High\":159.949312,\"Low\":158.593153,\"Close\":159.718472,\"Volume\":101471400,\"Adj_Ratio\":0.961812},{\"Date\":\"2013-08-23T00:00:00.000Z\",\"Open\":160.189765,\"High\":160.459071,\"Low\":159.439553,\"Close\":160.257084,\"Volume\":90888900,\"Adj_Ratio\":0.961812},{\"Date\":\"2013-08-26T00:00:00.000Z\",\"Open\":160.420591,\"High\":160.911124,\"Low\":159.554966,\"Close\":159.660766,\"Volume\":89702100,\"Adj_Ratio\":0.961812},{\"Date\":\"2013-08-27T00:00:00.000Z\",\"Open\":158.083395,\"High\":159.660766,\"Low\":156.977317,\"Close\":157.09273,\"Volume\":158619400,\"Adj_Ratio\":0.961812},{\"Date\":\"2013-08-28T00:00:00.000Z\",\"Open\":157.025396,\"High\":158.208434,\"Low\":156.823423,\"Close\":157.650582,\"Volume\":108113000,\"Adj_Ratio\":0.961812},{\"Date\":\"2013-08-29T00:00:00.000Z\",\"Open\":157.304329,\"High\":158.737419,\"Low\":157.160049,\"Close\":157.900648,\"Volume\":119200500,\"Adj_Ratio\":0.961812},{\"Date\":\"2013-08-30T00:00:00.000Z\",\"Open\":158.227661,\"High\":158.246901,\"Low\":156.938836,\"Close\":157.400502,\"Volume\":134928900,\"Adj_Ratio\":0.961812},{\"Date\":\"2013-09-03T00:00:00.000Z\",\"Open\":158.920167,\"High\":159.256807,\"Low\":157.448596,\"Close\":158.112248,\"Volume\":142375100,\"Adj_Ratio\":0.961812},{\"Date\":\"2013-09-04T00:00:00.000Z\",\"Open\":158.150715,\"High\":159.689619,\"Low\":157.862183,\"Close\":159.420313,\"Volume\":97389400,\"Adj_Ratio\":0.961812},{\"Date\":\"2013-09-05T00:00:00.000Z\",\"Open\":159.5165,\"High\":160.045485,\"Low\":159.401073,\"Close\":159.6223,\"Volume\":63090500,\"Adj_Ratio\":0.961812},{\"Date\":\"2013-09-06T00:00:00.000Z\",\"Open\":160.151285,\"High\":160.603338,\"Low\":158.198808,\"Close\":159.699232,\"Volume\":159756500,\"Adj_Ratio\":0.961812},{\"Date\":\"2013-09-09T00:00:00.000Z\",\"Open\":160.093578,\"High\":161.324697,\"Low\":160.093578,\"Close\":161.228524,\"Volume\":87559300,\"Adj_Ratio\":0.961812},{\"Date\":\"2013-09-10T00:00:00.000Z\",\"Open\":162.199948,\"High\":162.450014,\"Low\":161.834456,\"Close\":162.421161,\"Volume\":105847200,\"Adj_Ratio\":0.961812},{\"Date\":\"2013-09-11T00:00:00.000Z\",\"Open\":162.199948,\"High\":162.93092,\"Low\":161.921029,\"Close\":162.93092,\"Volume\":94545900,\"Adj_Ratio\":0.961812},{\"Date\":\"2013-09-12T00:00:00.000Z\",\"Open\":162.873214,\"High\":163.084814,\"Low\":162.276895,\"Close\":162.498108,\"Volume\":83209000,\"Adj_Ratio\":0.961812},{\"Date\":\"2013-09-13T00:00:00.000Z\",\"Open\":162.671242,\"High\":162.988641,\"Low\":162.296135,\"Close\":162.863601,\"Volume\":72727800,\"Adj_Ratio\":0.961812},{\"Date\":\"2013-09-16T00:00:00.000Z\",\"Open\":164.623718,\"High\":164.700664,\"Low\":163.546478,\"Close\":163.806172,\"Volume\":106299200,\"Adj_Ratio\":0.961812},{\"Date\":\"2013-09-17T00:00:00.000Z\",\"Open\":163.950454,\"High\":164.575626,\"Low\":163.950454,\"Close\":164.537159,\"Volume\":82523300,\"Adj_Ratio\":0.961812},{\"Date\":\"2013-09-18T00:00:00.000Z\",\"Open\":164.479438,\"High\":166.893595,\"Low\":164.065866,\"Close\":166.441542,\"Volume\":203460600,\"Adj_Ratio\":0.961812},{\"Date\":\"2013-09-19T00:00:00.000Z\",\"Open\":166.893594,\"High\":166.970541,\"Low\":165.999101,\"Close\":166.162608,\"Volume\":146616900,\"Adj_Ratio\":0.961812},{\"Date\":\"2013-09-20T00:00:00.000Z\",\"Open\":166.556955,\"High\":166.556955,\"Low\":164.86558,\"Close\":165.000889,\"Volume\":132867100,\"Adj_Ratio\":0.9665},{\"Date\":\"2013-09-23T00:00:00.000Z\",\"Open\":164.778597,\"High\":164.933226,\"Low\":163.715441,\"Close\":164.237345,\"Volume\":104616500,\"Adj_Ratio\":0.9665},{\"Date\":\"2013-09-24T00:00:00.000Z\",\"Open\":164.208351,\"High\":164.817251,\"Low\":163.541479,\"Close\":163.850751,\"Volume\":106333100,\"Adj_Ratio\":0.9665},{\"Date\":\"2013-09-25T00:00:00.000Z\",\"Open\":163.957067,\"High\":164.285674,\"Low\":163.232192,\"Close\":163.377161,\"Volume\":117306500,\"Adj_Ratio\":0.9665},{\"Date\":\"2013-09-26T00:00:00.000Z\",\"Open\":163.647795,\"High\":164.469311,\"Low\":163.386836,\"Close\":164.005395,\"Volume\":77146900,\"Adj_Ratio\":0.9665},{\"Date\":\"2013-09-27T00:00:00.000Z\",\"Open\":163.183863,\"High\":163.473816,\"Low\":162.826263,\"Close\":163.251526,\"Volume\":99141800,\"Adj_Ratio\":0.9665},{\"Date\":\"2013-09-30T00:00:00.000Z\",\"Open\":161.869423,\"High\":162.89391,\"Low\":161.550476,\"Close\":162.381667,\"Volume\":143937000,\"Adj_Ratio\":0.9665},{\"Date\":\"2013-10-01T00:00:00.000Z\",\"Open\":162.507317,\"High\":163.821758,\"Low\":162.343014,\"Close\":163.667114,\"Volume\":127160000,\"Adj_Ratio\":0.9665},{\"Date\":\"2013-10-02T00:00:00.000Z\",\"Open\":162.710288,\"High\":163.667113,\"Low\":162.207704,\"Close\":163.51247,\"Volume\":113350000,\"Adj_Ratio\":0.9665},{\"Date\":\"2013-10-03T00:00:00.000Z\",\"Open\":163.135536,\"High\":163.28052,\"Low\":161.250864,\"Close\":162.004733,\"Volume\":176698000,\"Adj_Ratio\":0.9665},{\"Date\":\"2013-10-04T00:00:00.000Z\",\"Open\":162.130383,\"High\":163.396496,\"Low\":161.917752,\"Close\":163.232192,\"Volume\":96878000,\"Adj_Ratio\":0.9665},{\"Date\":\"2013-10-07T00:00:00.000Z\",\"Open\":161.811435,\"High\":162.806929,\"Low\":161.647132,\"Close\":161.821095,\"Volume\":96295000,\"Adj_Ratio\":0.9665},{\"Date\":\"2013-10-08T00:00:00.000Z\",\"Open\":161.792101,\"High\":162.004732,\"Low\":159.820448,\"Close\":159.936423,\"Volume\":178015000,\"Adj_Ratio\":0.9665},{\"Date\":\"2013-10-09T00:00:00.000Z\",\"Open\":160.24571,\"High\":160.632304,\"Low\":159.018251,\"Close\":160.052413,\"Volume\":168973000,\"Adj_Ratio\":0.9665},{\"Date\":\"2013-10-10T00:00:00.000Z\",\"Open\":161.685786,\"High\":163.589793,\"Low\":161.627799,\"Close\":163.502811,\"Volume\":195955000,\"Adj_Ratio\":0.9665},{\"Date\":\"2013-10-11T00:00:00.000Z\",\"Open\":163.251526,\"High\":164.614294,\"Low\":163.116216,\"Close\":164.556292,\"Volume\":105040000,\"Adj_Ratio\":0.9665},{\"Date\":\"2013-10-14T00:00:00.000Z\",\"Open\":163.54148,\"High\":165.34883,\"Low\":163.41583,\"Close\":165.21352,\"Volume\":112106000,\"Adj_Ratio\":0.9665},{\"Date\":\"2013-10-15T00:00:00.000Z\",\"Open\":164.797917,\"High\":165.416476,\"Low\":163.792763,\"Close\":164.015054,\"Volume\":155485000,\"Adj_Ratio\":0.9665},{\"Date\":\"2013-10-16T00:00:00.000Z\",\"Open\":165.000889,\"High\":166.392652,\"Low\":164.923567,\"Close\":166.30567,\"Volume\":161676000,\"Adj_Ratio\":0.9665},{\"Date\":\"2013-10-17T00:00:00.000Z\",\"Open\":165.629108,\"High\":167.513795,\"Low\":165.600114,\"Close\":167.417139,\"Volume\":129389000,\"Adj_Ratio\":0.9665},{\"Date\":\"2013-10-18T00:00:00.000Z\",\"Open\":168.035699,\"High\":168.663918,\"Low\":167.697418,\"Close\":168.547942,\"Volume\":138316000,\"Adj_Ratio\":0.9665},{\"Date\":\"2013-10-21T00:00:00.000Z\",\"Open\":168.60593,\"High\":168.895883,\"Low\":168.180668,\"Close\":168.557602,\"Volume\":104104000,\"Adj_Ratio\":0.9665},{\"Date\":\"2013-10-22T00:00:00.000Z\",\"Open\":169.050526,\"High\":170.036345,\"Low\":168.586595,\"Close\":169.533776,\"Volume\":126663000,\"Adj_Ratio\":0.9665},{\"Date\":\"2013-10-23T00:00:00.000Z\",\"Open\":168.953871,\"High\":169.031192,\"Low\":168.132355,\"Close\":168.72192,\"Volume\":105484000,\"Adj_Ratio\":0.9665},{\"Date\":\"2013-10-24T00:00:00.000Z\",\"Open\":169.060186,\"High\":169.495108,\"Low\":168.663918,\"Close\":169.282477,\"Volume\":70350000,\"Adj_Ratio\":0.9665},{\"Date\":\"2013-10-25T00:00:00.000Z\",\"Open\":169.630418,\"High\":170.104008,\"Low\":169.301811,\"Close\":170.05568,\"Volume\":93625000,\"Adj_Ratio\":0.9665},{\"Date\":\"2013-10-28T00:00:00.000Z\",\"Open\":169.997692,\"High\":170.558264,\"Low\":169.814055,\"Close\":170.326299,\"Volume\":84979000,\"Adj_Ratio\":0.9665},{\"Date\":\"2013-10-29T00:00:00.000Z\",\"Open\":170.712908,\"High\":171.302473,\"Low\":170.471283,\"Close\":171.234811,\"Volume\":87401000,\"Adj_Ratio\":0.9665},{\"Date\":\"2013-10-30T00:00:00.000Z\",\"Open\":171.437783,\"High\":171.563418,\"Low\":169.775402,\"Close\":170.384286,\"Volume\":140002000,\"Adj_Ratio\":0.9665},{\"Date\":\"2013-10-31T00:00:00.000Z\",\"Open\":170.248977,\"High\":170.964192,\"Low\":169.649752,\"Close\":169.901036,\"Volume\":133795000,\"Adj_Ratio\":0.9665},{\"Date\":\"2013-11-01T00:00:00.000Z\",\"Open\":170.123341,\"High\":170.693573,\"Low\":169.350138,\"Close\":170.306979,\"Volume\":142805000,\"Adj_Ratio\":0.9665},{\"Date\":\"2013-11-04T00:00:00.000Z\",\"Open\":170.770895,\"High\":170.973852,\"Low\":170.084674,\"Close\":170.906205,\"Volume\":85677000,\"Adj_Ratio\":0.9665},{\"Date\":\"2013-11-05T00:00:00.000Z\",\"Open\":170.239317,\"High\":170.828883,\"Low\":169.68842,\"Close\":170.364967,\"Volume\":85825000,\"Adj_Ratio\":0.9665},{\"Date\":\"2013-11-06T00:00:00.000Z\",\"Open\":171.099502,\"High\":171.553758,\"Low\":170.625911,\"Close\":171.234811,\"Volume\":87348000,\"Adj_Ratio\":0.9665},{\"Date\":\"2013-11-07T00:00:00.000Z\",\"Open\":171.553758,\"High\":171.689067,\"Low\":168.905543,\"Close\":169.069846,\"Volume\":157000000,\"Adj_Ratio\":0.9665},{\"Date\":\"2013-11-08T00:00:00.000Z\",\"Open\":169.011858,\"High\":171.370121,\"Low\":168.992538,\"Close\":171.350786,\"Volume\":136713000,\"Adj_Ratio\":0.9665},{\"Date\":\"2013-11-11T00:00:00.000Z\",\"Open\":171.186483,\"High\":171.582752,\"Low\":170.983527,\"Close\":171.379795,\"Volume\":62614000,\"Adj_Ratio\":0.9665},{\"Date\":\"2013-11-12T00:00:00.000Z\",\"Open\":171.012519,\"High\":171.418448,\"Low\":170.461607,\"Close\":171.031854,\"Volume\":83990000,\"Adj_Ratio\":0.9665},{\"Date\":\"2013-11-13T00:00:00.000Z\",\"Open\":170.190989,\"High\":172.452596,\"Low\":170.190989,\"Close\":172.404283,\"Volume\":103844000,\"Adj_Ratio\":0.9665},{\"Date\":\"2013-11-14T00:00:00.000Z\",\"Open\":172.558911,\"High\":173.409436,\"Low\":172.278633,\"Close\":173.264467,\"Volume\":103435000,\"Adj_Ratio\":0.9665},{\"Date\":\"2013-11-15T00:00:00.000Z\",\"Open\":173.544746,\"High\":174.085983,\"Low\":173.322455,\"Close\":174.018336,\"Volume\":102818000,\"Adj_Ratio\":0.9665},{\"Date\":\"2013-11-18T00:00:00.000Z\",\"Open\":174.308289,\"High\":174.453258,\"Low\":173.022842,\"Close\":173.409436,\"Volume\":104796000,\"Adj_Ratio\":0.9665},{\"Date\":\"2013-11-19T00:00:00.000Z\",\"Open\":173.322455,\"High\":173.844358,\"Low\":172.732889,\"Close\":173.032502,\"Volume\":93891000,\"Adj_Ratio\":0.9665},{\"Date\":\"2013-11-20T00:00:00.000Z\",\"Open\":173.380442,\"High\":173.902346,\"Low\":172.017674,\"Close\":172.491264,\"Volume\":124909000,\"Adj_Ratio\":0.9665},{\"Date\":\"2013-11-21T00:00:00.000Z\",\"Open\":172.974513,\"High\":174.018335,\"Low\":172.868198,\"Close\":173.883026,\"Volume\":92841000,\"Adj_Ratio\":0.9665},{\"Date\":\"2013-11-22T00:00:00.000Z\",\"Open\":173.950674,\"High\":174.772205,\"Low\":173.747717,\"Close\":174.752871,\"Volume\":81296000,\"Adj_Ratio\":0.9665},{\"Date\":\"2013-11-25T00:00:00.000Z\",\"Open\":175.062158,\"High\":175.100811,\"Low\":174.327608,\"Close\":174.578908,\"Volume\":79486000,\"Adj_Ratio\":0.9665},{\"Date\":\"2013-11-26T00:00:00.000Z\",\"Open\":174.665889,\"High\":175.149139,\"Low\":174.366277,\"Close\":174.627221,\"Volume\":86994000,\"Adj_Ratio\":0.9665},{\"Date\":\"2013-11-27T00:00:00.000Z\",\"Open\":174.810858,\"High\":175.168473,\"Low\":174.598227,\"Close\":175.052483,\"Volume\":58800000,\"Adj_Ratio\":0.9665},{\"Date\":\"2013-11-29T00:00:00.000Z\",\"Open\":175.245795,\"High\":175.661383,\"Low\":174.743211,\"Close\":174.936508,\"Volume\":55870900,\"Adj_Ratio\":0.9665},{\"Date\":\"2013-12-02T00:00:00.000Z\",\"Open\":175.023489,\"High\":175.352096,\"Low\":174.211633,\"Close\":174.482252,\"Volume\":99726000,\"Adj_Ratio\":0.9665},{\"Date\":\"2013-12-03T00:00:00.000Z\",\"Open\":173.91202,\"High\":174.346942,\"Low\":173.167811,\"Close\":173.728383,\"Volume\":116563000,\"Adj_Ratio\":0.9665},{\"Date\":\"2013-12-04T00:00:00.000Z\",\"Open\":173.100164,\"High\":174.433924,\"Low\":172.375289,\"Close\":173.709049,\"Volume\":123033000,\"Adj_Ratio\":0.9665},{\"Date\":\"2013-12-05T00:00:00.000Z\",\"Open\":173.399777,\"High\":173.718723,\"Low\":172.781217,\"Close\":172.94552,\"Volume\":106934000,\"Adj_Ratio\":0.9665},{\"Date\":\"2013-12-06T00:00:00.000Z\",\"Open\":174.617561,\"High\":175.042824,\"Low\":174.114977,\"Close\":174.87852,\"Volume\":127728000,\"Adj_Ratio\":0.9665},{\"Date\":\"2013-12-09T00:00:00.000Z\",\"Open\":175.390764,\"High\":175.584061,\"Low\":175.091152,\"Close\":175.323102,\"Volume\":70124000,\"Adj_Ratio\":0.9665},{\"Date\":\"2013-12-10T00:00:00.000Z\",\"Open\":174.917174,\"High\":175.284449,\"Low\":174.588567,\"Close\":174.694883,\"Volume\":80976000,\"Adj_Ratio\":0.9665},{\"Date\":\"2013-12-11T00:00:00.000Z\",\"Open\":174.762545,\"High\":174.791539,\"Low\":172.520258,\"Close\":172.732889,\"Volume\":130591000,\"Adj_Ratio\":0.9665},{\"Date\":\"2013-12-12T00:00:00.000Z\",\"Open\":172.655567,\"High\":172.868199,\"Low\":171.805043,\"Close\":172.162658,\"Volume\":115565000,\"Adj_Ratio\":0.9665},{\"Date\":\"2013-12-13T00:00:00.000Z\",\"Open\":172.520257,\"High\":172.674901,\"Low\":171.814716,\"Close\":172.143323,\"Volume\":107808000,\"Adj_Ratio\":0.9665},{\"Date\":\"2013-12-16T00:00:00.000Z\",\"Open\":172.95518,\"High\":173.786371,\"Low\":172.906852,\"Close\":173.216139,\"Volume\":96195000,\"Adj_Ratio\":0.9665},{\"Date\":\"2013-12-17T00:00:00.000Z\",\"Open\":173.370783,\"High\":173.399777,\"Low\":172.278633,\"Close\":172.665227,\"Volume\":89886000,\"Adj_Ratio\":0.9665},{\"Date\":\"2013-12-18T00:00:00.000Z\",\"Open\":172.926186,\"High\":175.642049,\"Low\":171.379794,\"Close\":175.613055,\"Volume\":234906000,\"Adj_Ratio\":0.9665},{\"Date\":\"2013-12-19T00:00:00.000Z\",\"Open\":175.110471,\"High\":175.613055,\"Low\":174.65623,\"Close\":175.410098,\"Volume\":136531200,\"Adj_Ratio\":0.9665},{\"Date\":\"2013-12-20T00:00:00.000Z\",\"Open\":175.585007,\"High\":176.848281,\"Low\":175.468402,\"Close\":176.430423,\"Volume\":197087000,\"Adj_Ratio\":0.971747},{\"Date\":\"2013-12-23T00:00:00.000Z\",\"Open\":177.295277,\"High\":177.479911,\"Low\":176.926023,\"Close\":177.373019,\"Volume\":85598000,\"Adj_Ratio\":0.971747},{\"Date\":\"2013-12-24T00:00:00.000Z\",\"Open\":177.382731,\"High\":177.839454,\"Low\":177.373019,\"Close\":177.761712,\"Volume\":45368800,\"Adj_Ratio\":0.971747},{\"Date\":\"2013-12-26T00:00:00.000Z\",\"Open\":178.160131,\"High\":178.762625,\"Low\":178.140706,\"Close\":178.665444,\"Volume\":63365000,\"Adj_Ratio\":0.971747},{\"Date\":\"2013-12-27T00:00:00.000Z\",\"Open\":178.898669,\"High\":178.976396,\"Low\":178.471098,\"Close\":178.655732,\"Volume\":61814000,\"Adj_Ratio\":0.971747},{\"Date\":\"2013-12-30T00:00:00.000Z\",\"Open\":178.675157,\"High\":178.820928,\"Low\":178.393357,\"Close\":178.626581,\"Volume\":56857000,\"Adj_Ratio\":0.971747},{\"Date\":\"2013-12-31T00:00:00.000Z\",\"Open\":178.869518,\"High\":179.471996,\"Low\":178.733459,\"Close\":179.471996,\"Volume\":86119900,\"Adj_Ratio\":0.971747}], [{\"type\": \"Datetime\", \"field\": \"Date\"}, {\"type\": \"Float\", \"field\": \"Open\"}, {\"type\": \"Float\", \"field\": \"High\"}, {\"type\": \"Float\", \"field\": \"Low\"}, {\"type\": \"Float\", \"field\": \"Close\"}, {\"type\": \"Integer\", \"field\": \"Volume\"}, {\"type\": \"Float\", \"field\": \"Adj_Ratio\"}]);\n",
       "            grid.initialize_slick_grid({\"rowHeight\": 28, \"enableCellNavigation\": true, \"syncColumnCellResize\": true, \"enableTextSelectionOnCells\": true, \"fullWidthRows\": true, \"forceFitColumns\": true, \"enableColumnReorder\": false});\n",
       "        });\n",
       "    });\n",
       "});\n"
      ]
     },
     "metadata": {},
     "output_type": "display_data"
    }
   ],
   "source": [
    "qgrid.show_grid(spy, remote_js=False)"
   ]
  },
  {
   "cell_type": "markdown",
   "metadata": {},
   "source": [
    "## Demo 2 - Rendering a sample DataFrame that includes a MultiIndex\n",
    "##### Now let's create another DataFrame, but let's give it a MultiIndex this time:"
   ]
  },
  {
   "cell_type": "code",
   "execution_count": 6,
   "metadata": {
    "collapsed": false
   },
   "outputs": [],
   "source": [
    "tuples = zip(*[['bar', 'bar', 'baz', 'baz', 'foo', 'foo', 'qux', 'qux'],\n",
    "          ['one', 'two', 'one', 'two', 'one', 'two', 'one', 'two']])\n",
    "\n",
    "\n",
    "index = pd.MultiIndex.from_tuples(tuples, names=['first', 'second'])\n",
    "multi_index_df = pd.DataFrame(randn(8, 2), index=index, columns=['A', 'B'])"
   ]
  },
  {
   "cell_type": "markdown",
   "metadata": {},
   "source": [
    "##### BEFORE - Here's IPython's default representation of our 'multi_index_df' DataFrame:"
   ]
  },
  {
   "cell_type": "code",
   "execution_count": 7,
   "metadata": {
    "collapsed": false
   },
   "outputs": [
    {
     "data": {
      "text/html": [
       "<div style=\"max-height:1000px;max-width:1500px;overflow:auto;\">\n",
       "<table border=\"1\" class=\"dataframe\">\n",
       "  <thead>\n",
       "    <tr style=\"text-align: right;\">\n",
       "      <th></th>\n",
       "      <th></th>\n",
       "      <th>A</th>\n",
       "      <th>B</th>\n",
       "    </tr>\n",
       "    <tr>\n",
       "      <th>first</th>\n",
       "      <th>second</th>\n",
       "      <th></th>\n",
       "      <th></th>\n",
       "    </tr>\n",
       "  </thead>\n",
       "  <tbody>\n",
       "    <tr>\n",
       "      <th rowspan=\"2\" valign=\"top\">bar</th>\n",
       "      <th>one</th>\n",
       "      <td> 1.502425</td>\n",
       "      <td> 0.530116</td>\n",
       "    </tr>\n",
       "    <tr>\n",
       "      <th>two</th>\n",
       "      <td>-0.749106</td>\n",
       "      <td>-0.585371</td>\n",
       "    </tr>\n",
       "    <tr>\n",
       "      <th rowspan=\"2\" valign=\"top\">baz</th>\n",
       "      <th>one</th>\n",
       "      <td>-0.787861</td>\n",
       "      <td>-0.333152</td>\n",
       "    </tr>\n",
       "    <tr>\n",
       "      <th>two</th>\n",
       "      <td> 1.821110</td>\n",
       "      <td> 0.892432</td>\n",
       "    </tr>\n",
       "    <tr>\n",
       "      <th rowspan=\"2\" valign=\"top\">foo</th>\n",
       "      <th>one</th>\n",
       "      <td>-1.154201</td>\n",
       "      <td>-0.073072</td>\n",
       "    </tr>\n",
       "    <tr>\n",
       "      <th>two</th>\n",
       "      <td> 0.348630</td>\n",
       "      <td>-0.174053</td>\n",
       "    </tr>\n",
       "    <tr>\n",
       "      <th rowspan=\"2\" valign=\"top\">qux</th>\n",
       "      <th>one</th>\n",
       "      <td>-0.914489</td>\n",
       "      <td>-1.485095</td>\n",
       "    </tr>\n",
       "    <tr>\n",
       "      <th>two</th>\n",
       "      <td>-0.629482</td>\n",
       "      <td>-1.601456</td>\n",
       "    </tr>\n",
       "  </tbody>\n",
       "</table>\n",
       "</div>"
      ],
      "text/plain": [
       "                     A         B\n",
       "first second                    \n",
       "bar   one     1.502425  0.530116\n",
       "      two    -0.749106 -0.585371\n",
       "baz   one    -0.787861 -0.333152\n",
       "      two     1.821110  0.892432\n",
       "foo   one    -1.154201 -0.073072\n",
       "      two     0.348630 -0.174053\n",
       "qux   one    -0.914489 -1.485095\n",
       "      two    -0.629482 -1.601456"
      ]
     },
     "execution_count": 7,
     "metadata": {},
     "output_type": "execute_result"
    }
   ],
   "source": [
    "multi_index_df"
   ]
  },
  {
   "cell_type": "markdown",
   "metadata": {},
   "source": [
    "##### AFTER - Here's the same 'multi_index_df' DataFrame being rendered as a qgrid:"
   ]
  },
  {
   "cell_type": "code",
   "execution_count": 8,
   "metadata": {
    "collapsed": false
   },
   "outputs": [
    {
     "data": {
      "text/html": [
       "<script type=\"text/javascript\">\n",
       "if ($(\"#dg-css\").length == 0){\n",
       "    $(\"head\").append([\n",
       "        \"<link href='https://cdn.rawgit.com/quantopian/qgrid/ddf33c0efb813cd574f3838f6cf1fd584b733621/qgrid/qgridjs//lib/slick.grid.css' rel='stylesheet'>\",\n",
       "        \"<link href='https://cdn.rawgit.com/quantopian/qgrid/ddf33c0efb813cd574f3838f6cf1fd584b733621/qgrid/qgridjs//lib/slick-default-theme.css' rel='stylesheet'>\",\n",
       "        \"<link href='http://cdnjs.cloudflare.com/ajax/libs/jqueryui/1.10.4/css/jquery-ui.min.css' rel='stylesheet'>\",\n",
       "        \"<link id='dg-css' href='https://cdn.rawgit.com/quantopian/qgrid/ddf33c0efb813cd574f3838f6cf1fd584b733621/qgrid/qgridjs//qgrid.css' rel='stylesheet'>\"\n",
       "    ]);\n",
       "}\n",
       "</script>\n",
       "<div class='q-grid-container'>\n",
       "<div id='7070ecb9-42f3-43d8-8326-95932dc481c5' class='q-grid'></div>\n",
       "</div>"
      ]
     },
     "metadata": {},
     "output_type": "display_data"
    },
    {
     "data": {
      "application/javascript": [
       "var path_dictionary = {\n",
       "    jquery_drag: \"https://cdn.rawgit.com/quantopian/qgrid/ddf33c0efb813cd574f3838f6cf1fd584b733621/qgrid/qgridjs//lib/jquery.event.drag-2.2\",\n",
       "    slick_core: \"https://cdn.rawgit.com/quantopian/qgrid/ddf33c0efb813cd574f3838f6cf1fd584b733621/qgrid/qgridjs//lib/slick.core.2.2\",\n",
       "    slick_data_view: \"https://cdn.rawgit.com/quantopian/qgrid/ddf33c0efb813cd574f3838f6cf1fd584b733621/qgrid/qgridjs//lib/slick.dataview.2.2\",\n",
       "    slick_check_box_column: \"https://cdn.rawgit.com/quantopian/qgrid/ddf33c0efb813cd574f3838f6cf1fd584b733621/qgrid/qgridjs//lib/slick.checkboxselectcolumn\",\n",
       "    slick_row_selection_model: \"https://cdn.rawgit.com/quantopian/qgrid/ddf33c0efb813cd574f3838f6cf1fd584b733621/qgrid/qgridjs//lib/slick.rowselectionmodel\",\n",
       "    slick_grid: \"https://cdn.rawgit.com/quantopian/qgrid/ddf33c0efb813cd574f3838f6cf1fd584b733621/qgrid/qgridjs//lib/slick.grid.2.2\",\n",
       "    data_grid: \"https://cdn.rawgit.com/quantopian/qgrid/ddf33c0efb813cd574f3838f6cf1fd584b733621/qgrid/qgridjs//qgrid\",\n",
       "    date_filter: \"https://cdn.rawgit.com/quantopian/qgrid/ddf33c0efb813cd574f3838f6cf1fd584b733621/qgrid/qgridjs//qgrid.datefilter\",\n",
       "    slider_filter: \"https://cdn.rawgit.com/quantopian/qgrid/ddf33c0efb813cd574f3838f6cf1fd584b733621/qgrid/qgridjs//qgrid.sliderfilter\",\n",
       "    text_filter: \"https://cdn.rawgit.com/quantopian/qgrid/ddf33c0efb813cd574f3838f6cf1fd584b733621/qgrid/qgridjs//qgrid.textfilter\",\n",
       "    filter_base:  \"https://cdn.rawgit.com/quantopian/qgrid/ddf33c0efb813cd574f3838f6cf1fd584b733621/qgrid/qgridjs//qgrid.filterbase\",\n",
       "    handlebars: \"https://cdnjs.cloudflare.com/ajax/libs/handlebars.js/2.0.0/handlebars.min\"\n",
       "};\n",
       "\n",
       "var existing_config = require.s.contexts._.config;\n",
       "if (!existing_config.paths['underscore']){\n",
       "    path_dictionary['underscore'] = \"https://cdnjs.cloudflare.com/ajax/libs/underscore.js/1.7.0/underscore-min\";\n",
       "}\n",
       "\n",
       "if (!existing_config.paths['moment']){\n",
       "    path_dictionary['moment'] = \"https://cdnjs.cloudflare.com/ajax/libs/moment.js/2.8.3/moment.min\";\n",
       "}\n",
       "\n",
       "if (!existing_config.paths['jqueryui']){\n",
       "    path_dictionary['jqueryui'] = \"https://ajax.googleapis.com/ajax/libs/jqueryui/1.11.1/jquery-ui.min\";\n",
       "}\n",
       "\n",
       "require.config({\n",
       "    paths: path_dictionary\n",
       "});\n",
       "\n",
       "if (typeof jQuery === 'function') {\n",
       "    define('jquery', function() { return jQuery; });\n",
       "}\n",
       "\n",
       "require([\n",
       "    'jquery',\n",
       "    'jquery_drag',\n",
       "    'slick_core',\n",
       "    'slick_data_view'\n",
       "],\n",
       "function($){\n",
       "    $('#7070ecb9-42f3-43d8-8326-95932dc481c5').closest('.rendered_html').removeClass('rendered_html');\n",
       "    require([\n",
       "      'slick_check_box_column',\n",
       "      'slick_row_selection_model',\n",
       "      'slick_grid'\n",
       "    ], function(){\n",
       "        require([\"data_grid\"], function(dgrid){\n",
       "            var grid = new dgrid.QGrid('#7070ecb9-42f3-43d8-8326-95932dc481c5', [{\"first\":\"bar\",\"second\":\"one\",\"A\":1.502425,\"B\":0.530116},{\"first\":\"bar\",\"second\":\"two\",\"A\":-0.749106,\"B\":-0.585371},{\"first\":\"baz\",\"second\":\"one\",\"A\":-0.787861,\"B\":-0.333152},{\"first\":\"baz\",\"second\":\"two\",\"A\":1.82111,\"B\":0.892432},{\"first\":\"foo\",\"second\":\"one\",\"A\":-1.154201,\"B\":-0.073072},{\"first\":\"foo\",\"second\":\"two\",\"A\":0.34863,\"B\":-0.174053},{\"first\":\"qux\",\"second\":\"one\",\"A\":-0.914489,\"B\":-1.485095},{\"first\":\"qux\",\"second\":\"two\",\"A\":-0.629482,\"B\":-1.601456}], [{\"field\": \"first\"}, {\"field\": \"second\"}, {\"field\": \"A\", \"type\": \"Float\"}, {\"field\": \"B\", \"type\": \"Float\"}]);\n",
       "            grid.initialize_slick_grid();\n",
       "        });\n",
       "    });\n",
       "});\n"
      ]
     },
     "metadata": {},
     "output_type": "display_data"
    }
   ],
   "source": [
    "qgrid.show_grid(multi_index_df, remote_js=True)"
   ]
  },
  {
   "cell_type": "markdown",
   "metadata": {},
   "source": [
    "## API & Usage\n",
    "### qgrid.show_grid (data_frame, remote_js=False)\n",
    "This is the most interesting function provided by the qgrid module.  When run within an IPython notebook, it takes a pandas DataFrame and outputs a SlickGrid.\n",
    "\n",
    "##### Parameters:\n",
    "  1. **data_frame** - The pandas.DataFrame object to render as a SlickGrid.\n",
    "  2. **remote_js** - A boolean value indicating whether should load javascript from the local '/nbextensions' folder or directly from a CDN.  Defaults to False.\n",
    "    * The ability to load javascript dependencies from remote sources is what allows qgrids to be fully functional when viewing notebooks using nbviewer.  In order for a particular qgrid to render properly in nbviewer, it must be generated while remote_js is set to true.\n",
    "    * When there are multiple calls to show_grid in a notebook, **ONLY the first call to show_grid has any effect on the value of remote_js for the lifetime of the page**.  This is because once the dependencies are loaded into the browser, they aren't unloaded until the user navigates away or refreshes the page.\n",
    "\n",
    "### qgrid.nbinstall (overwrite=False)\n",
    "This function is used during installation to prepare qgrid's non-python dependencies.  The qgrid module contains a 'qgridjs' folder that holds a bunch of javascript/css files, and this function creates a copy of 'qgridjs' in the \"/nbextensions\" folder for your IPython installation.\n",
    "##### Parameters:\n",
    "1. **overwrite** - A boolean value indicating whether installation should continue when the 'qgridjs' folder already exists in '/nbextensions'.  Defaults to True."
   ]
  },
  {
   "cell_type": "markdown",
   "metadata": {},
   "source": [
    "## Running from source using 'git clone'\n",
    "##### Use git to clone the qgrid repository to your hard drive\n",
    "`git clone git@github.com:quantopian/qgrid.git`\n",
    "##### Set the root folder of your qgrid repository to be the working directory for your IPython notebook server\n",
    "This is an easy way to get qgrid to run directly from the source code.  IPython notebook will look in it's working directory for modules to load, so qgrid will immediately become available for importing.\n",
    "\n",
    "`ipython notebook --notebook-dir=~/path/to/qgrid/repo`\n",
    "\n",
    "It's not always convenient to use the qgrid repository as your working directory for IPython noteboook, so I often create symbolic-links from qgrid's source code into the \"/nbextensions\" and \"/extensions\" folders under my IPython directory.\n",
    "\n",
    "\n",
    "##### Import it into your namespace like you would for any other python module:"
   ]
  },
  {
   "cell_type": "code",
   "execution_count": null,
   "metadata": {
    "collapsed": false
   },
   "outputs": [],
   "source": [
    "import qgrid"
   ]
  },
  {
   "cell_type": "markdown",
   "metadata": {},
   "source": [
    "##### Prepare non-python dependencies by calling 'nbinstall':"
   ]
  },
  {
   "cell_type": "code",
   "execution_count": null,
   "metadata": {
    "collapsed": false
   },
   "outputs": [],
   "source": [
    "qgrid.nbinstall(overwrite=True)  # use overwrite=True to keep your /nbextensions folder up to date during development"
   ]
  },
  {
   "cell_type": "code",
   "execution_count": null,
   "metadata": {
    "collapsed": false
   },
   "outputs": [],
   "source": []
  }
 ],
 "metadata": {
  "kernelspec": {
   "display_name": "Python 3",
   "language": "python",
   "name": "python3"
  },
  "language_info": {
   "codemirror_mode": {
    "name": "ipython",
    "version": 3
   },
   "file_extension": ".py",
   "mimetype": "text/x-python",
   "name": "python",
   "nbconvert_exporter": "python",
   "pygments_lexer": "ipython3",
   "version": "3.4.1"
  }
 },
 "nbformat": 4,
 "nbformat_minor": 0
}
