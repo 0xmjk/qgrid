{
 "cells": [
  {
   "cell_type": "code",
   "execution_count": 1,
   "metadata": {
    "scrolled": true
   },
   "outputs": [
    {
     "data": {
      "text/html": [
       "<div>\n",
       "<style>\n",
       "    .dataframe thead tr:only-child th {\n",
       "        text-align: right;\n",
       "    }\n",
       "\n",
       "    .dataframe thead th {\n",
       "        text-align: left;\n",
       "    }\n",
       "\n",
       "    .dataframe tbody tr th {\n",
       "        vertical-align: top;\n",
       "    }\n",
       "</style>\n",
       "<table border=\"1\" class=\"dataframe\">\n",
       "  <thead>\n",
       "    <tr style=\"text-align: right;\">\n",
       "      <th></th>\n",
       "      <th></th>\n",
       "      <th>GDP per capita (constant 2005 US$)</th>\n",
       "    </tr>\n",
       "    <tr>\n",
       "      <th>country</th>\n",
       "      <th>year</th>\n",
       "      <th></th>\n",
       "    </tr>\n",
       "  </thead>\n",
       "  <tbody>\n",
       "    <tr>\n",
       "      <th rowspan=\"4\" valign=\"top\">Arab World</th>\n",
       "      <th>2008</th>\n",
       "      <td>5898.516152</td>\n",
       "    </tr>\n",
       "    <tr>\n",
       "      <th>2007</th>\n",
       "      <td>5711.663247</td>\n",
       "    </tr>\n",
       "    <tr>\n",
       "      <th>2006</th>\n",
       "      <td>5594.898519</td>\n",
       "    </tr>\n",
       "    <tr>\n",
       "      <th>2005</th>\n",
       "      <td>5378.379169</td>\n",
       "    </tr>\n",
       "    <tr>\n",
       "      <th rowspan=\"4\" valign=\"top\">Caribbean small states</th>\n",
       "      <th>2008</th>\n",
       "      <td>9007.290662</td>\n",
       "    </tr>\n",
       "    <tr>\n",
       "      <th>2007</th>\n",
       "      <td>8938.276087</td>\n",
       "    </tr>\n",
       "    <tr>\n",
       "      <th>2006</th>\n",
       "      <td>8715.446097</td>\n",
       "    </tr>\n",
       "    <tr>\n",
       "      <th>2005</th>\n",
       "      <td>8210.932496</td>\n",
       "    </tr>\n",
       "    <tr>\n",
       "      <th rowspan=\"4\" valign=\"top\">Central Europe and the Baltics</th>\n",
       "      <th>2008</th>\n",
       "      <td>12720.215011</td>\n",
       "    </tr>\n",
       "    <tr>\n",
       "      <th>2007</th>\n",
       "      <td>12212.955838</td>\n",
       "    </tr>\n",
       "    <tr>\n",
       "      <th>2006</th>\n",
       "      <td>11435.871982</td>\n",
       "    </tr>\n",
       "    <tr>\n",
       "      <th>2005</th>\n",
       "      <td>10703.620850</td>\n",
       "    </tr>\n",
       "    <tr>\n",
       "      <th rowspan=\"4\" valign=\"top\">Early-demographic dividend</th>\n",
       "      <th>2008</th>\n",
       "      <td>2801.923940</td>\n",
       "    </tr>\n",
       "    <tr>\n",
       "      <th>2007</th>\n",
       "      <td>2744.578123</td>\n",
       "    </tr>\n",
       "    <tr>\n",
       "      <th>2006</th>\n",
       "      <td>2620.119100</td>\n",
       "    </tr>\n",
       "    <tr>\n",
       "      <th>2005</th>\n",
       "      <td>2500.834773</td>\n",
       "    </tr>\n",
       "    <tr>\n",
       "      <th rowspan=\"4\" valign=\"top\">East Asia &amp; Pacific</th>\n",
       "      <th>2008</th>\n",
       "      <td>7172.877579</td>\n",
       "    </tr>\n",
       "    <tr>\n",
       "      <th>2007</th>\n",
       "      <td>6979.228960</td>\n",
       "    </tr>\n",
       "    <tr>\n",
       "      <th>2006</th>\n",
       "      <td>6599.877511</td>\n",
       "    </tr>\n",
       "    <tr>\n",
       "      <th>2005</th>\n",
       "      <td>6299.476097</td>\n",
       "    </tr>\n",
       "    <tr>\n",
       "      <th rowspan=\"4\" valign=\"top\">East Asia &amp; Pacific (excluding high income)</th>\n",
       "      <th>2008</th>\n",
       "      <td>3440.505855</td>\n",
       "    </tr>\n",
       "    <tr>\n",
       "      <th>2007</th>\n",
       "      <td>3197.589510</td>\n",
       "    </tr>\n",
       "    <tr>\n",
       "      <th>2006</th>\n",
       "      <td>2868.968984</td>\n",
       "    </tr>\n",
       "    <tr>\n",
       "      <th>2005</th>\n",
       "      <td>2610.445627</td>\n",
       "    </tr>\n",
       "    <tr>\n",
       "      <th rowspan=\"4\" valign=\"top\">East Asia &amp; Pacific (IDA &amp; IBRD countries)</th>\n",
       "      <th>2008</th>\n",
       "      <td>3477.541272</td>\n",
       "    </tr>\n",
       "    <tr>\n",
       "      <th>2007</th>\n",
       "      <td>3232.070890</td>\n",
       "    </tr>\n",
       "    <tr>\n",
       "      <th>2006</th>\n",
       "      <td>2899.948621</td>\n",
       "    </tr>\n",
       "    <tr>\n",
       "      <th>2005</th>\n",
       "      <td>2638.645640</td>\n",
       "    </tr>\n",
       "    <tr>\n",
       "      <th rowspan=\"2\" valign=\"top\">Euro area</th>\n",
       "      <th>2008</th>\n",
       "      <td>38800.519930</td>\n",
       "    </tr>\n",
       "    <tr>\n",
       "      <th>2007</th>\n",
       "      <td>38822.529747</td>\n",
       "    </tr>\n",
       "    <tr>\n",
       "      <th>...</th>\n",
       "      <th>...</th>\n",
       "      <td>...</td>\n",
       "    </tr>\n",
       "    <tr>\n",
       "      <th rowspan=\"2\" valign=\"top\">Vanuatu</th>\n",
       "      <th>2006</th>\n",
       "      <td>2777.665956</td>\n",
       "    </tr>\n",
       "    <tr>\n",
       "      <th>2005</th>\n",
       "      <td>2625.269068</td>\n",
       "    </tr>\n",
       "    <tr>\n",
       "      <th rowspan=\"4\" valign=\"top\">Venezuela, RB</th>\n",
       "      <th>2008</th>\n",
       "      <td>14652.178425</td>\n",
       "    </tr>\n",
       "    <tr>\n",
       "      <th>2007</th>\n",
       "      <td>14143.657950</td>\n",
       "    </tr>\n",
       "    <tr>\n",
       "      <th>2006</th>\n",
       "      <td>13221.420660</td>\n",
       "    </tr>\n",
       "    <tr>\n",
       "      <th>2005</th>\n",
       "      <td>12237.882953</td>\n",
       "    </tr>\n",
       "    <tr>\n",
       "      <th rowspan=\"4\" valign=\"top\">Vietnam</th>\n",
       "      <th>2008</th>\n",
       "      <td>1214.252458</td>\n",
       "    </tr>\n",
       "    <tr>\n",
       "      <th>2007</th>\n",
       "      <td>1161.471573</td>\n",
       "    </tr>\n",
       "    <tr>\n",
       "      <th>2006</th>\n",
       "      <td>1095.982452</td>\n",
       "    </tr>\n",
       "    <tr>\n",
       "      <th>2005</th>\n",
       "      <td>1035.922170</td>\n",
       "    </tr>\n",
       "    <tr>\n",
       "      <th rowspan=\"4\" valign=\"top\">Virgin Islands (U.S.)</th>\n",
       "      <th>2008</th>\n",
       "      <td>43010.440884</td>\n",
       "    </tr>\n",
       "    <tr>\n",
       "      <th>2007</th>\n",
       "      <td>42477.501084</td>\n",
       "    </tr>\n",
       "    <tr>\n",
       "      <th>2006</th>\n",
       "      <td>40724.818541</td>\n",
       "    </tr>\n",
       "    <tr>\n",
       "      <th>2005</th>\n",
       "      <td>39240.488334</td>\n",
       "    </tr>\n",
       "    <tr>\n",
       "      <th rowspan=\"4\" valign=\"top\">West Bank and Gaza</th>\n",
       "      <th>2008</th>\n",
       "      <td>2109.716726</td>\n",
       "    </tr>\n",
       "    <tr>\n",
       "      <th>2007</th>\n",
       "      <td>2046.971265</td>\n",
       "    </tr>\n",
       "    <tr>\n",
       "      <th>2006</th>\n",
       "      <td>1970.108677</td>\n",
       "    </tr>\n",
       "    <tr>\n",
       "      <th>2005</th>\n",
       "      <td>2103.133531</td>\n",
       "    </tr>\n",
       "    <tr>\n",
       "      <th rowspan=\"4\" valign=\"top\">Yemen, Rep.</th>\n",
       "      <th>2008</th>\n",
       "      <td>1235.811589</td>\n",
       "    </tr>\n",
       "    <tr>\n",
       "      <th>2007</th>\n",
       "      <td>1225.472386</td>\n",
       "    </tr>\n",
       "    <tr>\n",
       "      <th>2006</th>\n",
       "      <td>1219.007461</td>\n",
       "    </tr>\n",
       "    <tr>\n",
       "      <th>2005</th>\n",
       "      <td>1214.704666</td>\n",
       "    </tr>\n",
       "    <tr>\n",
       "      <th rowspan=\"4\" valign=\"top\">Zambia</th>\n",
       "      <th>2008</th>\n",
       "      <td>1285.864528</td>\n",
       "    </tr>\n",
       "    <tr>\n",
       "      <th>2007</th>\n",
       "      <td>1226.540548</td>\n",
       "    </tr>\n",
       "    <tr>\n",
       "      <th>2006</th>\n",
       "      <td>1163.302727</td>\n",
       "    </tr>\n",
       "    <tr>\n",
       "      <th>2005</th>\n",
       "      <td>1107.728175</td>\n",
       "    </tr>\n",
       "    <tr>\n",
       "      <th rowspan=\"4\" valign=\"top\">Zimbabwe</th>\n",
       "      <th>2008</th>\n",
       "      <td>590.738407</td>\n",
       "    </tr>\n",
       "    <tr>\n",
       "      <th>2007</th>\n",
       "      <td>729.818727</td>\n",
       "    </tr>\n",
       "    <tr>\n",
       "      <th>2006</th>\n",
       "      <td>769.361427</td>\n",
       "    </tr>\n",
       "    <tr>\n",
       "      <th>2005</th>\n",
       "      <td>808.294356</td>\n",
       "    </tr>\n",
       "  </tbody>\n",
       "</table>\n",
       "<p>1056 rows × 1 columns</p>\n",
       "</div>"
      ],
      "text/plain": [
       "                                                  GDP per capita (constant 2005 US$)\n",
       "country                                     year                                    \n",
       "Arab World                                  2008                         5898.516152\n",
       "                                            2007                         5711.663247\n",
       "                                            2006                         5594.898519\n",
       "                                            2005                         5378.379169\n",
       "Caribbean small states                      2008                         9007.290662\n",
       "                                            2007                         8938.276087\n",
       "                                            2006                         8715.446097\n",
       "                                            2005                         8210.932496\n",
       "Central Europe and the Baltics              2008                        12720.215011\n",
       "                                            2007                        12212.955838\n",
       "                                            2006                        11435.871982\n",
       "                                            2005                        10703.620850\n",
       "Early-demographic dividend                  2008                         2801.923940\n",
       "                                            2007                         2744.578123\n",
       "                                            2006                         2620.119100\n",
       "                                            2005                         2500.834773\n",
       "East Asia & Pacific                         2008                         7172.877579\n",
       "                                            2007                         6979.228960\n",
       "                                            2006                         6599.877511\n",
       "                                            2005                         6299.476097\n",
       "East Asia & Pacific (excluding high income) 2008                         3440.505855\n",
       "                                            2007                         3197.589510\n",
       "                                            2006                         2868.968984\n",
       "                                            2005                         2610.445627\n",
       "East Asia & Pacific (IDA & IBRD countries)  2008                         3477.541272\n",
       "                                            2007                         3232.070890\n",
       "                                            2006                         2899.948621\n",
       "                                            2005                         2638.645640\n",
       "Euro area                                   2008                        38800.519930\n",
       "                                            2007                        38822.529747\n",
       "...                                                                              ...\n",
       "Vanuatu                                     2006                         2777.665956\n",
       "                                            2005                         2625.269068\n",
       "Venezuela, RB                               2008                        14652.178425\n",
       "                                            2007                        14143.657950\n",
       "                                            2006                        13221.420660\n",
       "                                            2005                        12237.882953\n",
       "Vietnam                                     2008                         1214.252458\n",
       "                                            2007                         1161.471573\n",
       "                                            2006                         1095.982452\n",
       "                                            2005                         1035.922170\n",
       "Virgin Islands (U.S.)                       2008                        43010.440884\n",
       "                                            2007                        42477.501084\n",
       "                                            2006                        40724.818541\n",
       "                                            2005                        39240.488334\n",
       "West Bank and Gaza                          2008                         2109.716726\n",
       "                                            2007                         2046.971265\n",
       "                                            2006                         1970.108677\n",
       "                                            2005                         2103.133531\n",
       "Yemen, Rep.                                 2008                         1235.811589\n",
       "                                            2007                         1225.472386\n",
       "                                            2006                         1219.007461\n",
       "                                            2005                         1214.704666\n",
       "Zambia                                      2008                         1285.864528\n",
       "                                            2007                         1226.540548\n",
       "                                            2006                         1163.302727\n",
       "                                            2005                         1107.728175\n",
       "Zimbabwe                                    2008                          590.738407\n",
       "                                            2007                          729.818727\n",
       "                                            2006                          769.361427\n",
       "                                            2005                          808.294356\n",
       "\n",
       "[1056 rows x 1 columns]"
      ]
     },
     "execution_count": 1,
     "metadata": {},
     "output_type": "execute_result"
    }
   ],
   "source": [
    "%config Application.log_level=\"INFO\"\n",
    "from pandas_datareader import wb\n",
    "df2 = wb.download(indicator='NY.GDP.PCAP.KD', country=['all'], start=2005, end=2008)\n",
    "df2.columns = ['GDP per capita (constant 2005 US$)']\n",
    "df2"
   ]
  },
  {
   "cell_type": "code",
   "execution_count": 2,
   "metadata": {},
   "outputs": [
    {
     "data": {
      "application/vnd.jupyter.widget-view+json": {
       "model_id": "fece1f9c547040f8a4fe2bda5c3c1b15",
       "version_major": "2",
       "version_minor": "0"
      },
      "text/plain": [
       "A Jupyter Widget"
      ]
     },
     "metadata": {},
     "output_type": "display_data"
    }
   ],
   "source": [
    "import qgrid\n",
    "q = qgrid.QgridWidget(df=df2)\n",
    "q"
   ]
  },
  {
   "cell_type": "code",
   "execution_count": 3,
   "metadata": {
    "collapsed": true
   },
   "outputs": [],
   "source": [
    "import pandas as pd\n",
    "import numpy as np\n",
    "\n",
    "df3 = pd.DataFrame(np.random.randn(1000000, 4), columns=list('ABCD'))"
   ]
  },
  {
   "cell_type": "code",
   "execution_count": 4,
   "metadata": {
    "collapsed": true
   },
   "outputs": [],
   "source": [
    "df3['B'] = df3['B'].apply(lambda x: str(x))"
   ]
  },
  {
   "cell_type": "code",
   "execution_count": 5,
   "metadata": {},
   "outputs": [
    {
     "data": {
      "application/vnd.jupyter.widget-view+json": {
       "model_id": "8d5f8728ab23464cb48bc973e250590d",
       "version_major": "2",
       "version_minor": "0"
      },
      "text/plain": [
       "A Jupyter Widget"
      ]
     },
     "metadata": {},
     "output_type": "display_data"
    }
   ],
   "source": [
    "%config Application.log_level=\"INFO\"\n",
    "import qgrid\n",
    "q = qgrid.QgridWidget(df=df3)\n",
    "q"
   ]
  },
  {
   "cell_type": "markdown",
   "metadata": {},
   "source": [
    "### 2. Render the DataFrame again, this time using qgrid"
   ]
  },
  {
   "cell_type": "code",
   "execution_count": null,
   "metadata": {
    "collapsed": true,
    "scrolled": false
   },
   "outputs": [],
   "source": [
    "vbox_exported = qgrid.show_grid(df2, remote_js=True)\n",
    "vbox_exported"
   ]
  },
  {
   "cell_type": "code",
   "execution_count": null,
   "metadata": {
    "collapsed": true
   },
   "outputs": [],
   "source": [
    "vbox.children[1]"
   ]
  },
  {
   "cell_type": "markdown",
   "metadata": {},
   "source": [
    "## Example 3 - Rendering a grid by creating a QGridWidget"
   ]
  },
  {
   "cell_type": "code",
   "execution_count": null,
   "metadata": {
    "collapsed": true
   },
   "outputs": [],
   "source": [
    "df3.dtypes"
   ]
  },
  {
   "cell_type": "markdown",
   "metadata": {},
   "source": [
    "### 1. Create a new sample DataFrame and render it without using qgrid"
   ]
  },
  {
   "cell_type": "code",
   "execution_count": null,
   "metadata": {
    "collapsed": true,
    "scrolled": true
   },
   "outputs": [],
   "source": [
    "import numpy as np\n",
    "import pandas as pd\n",
    "pd.set_option('display.html.table_schema', False)\n",
    "\n",
    "td = np.cumsum(np.random.randint(1, 15*60, 1000))\n",
    "start = pd.Timestamp('2017-04-17')\n",
    "df = pd.DataFrame(\n",
    "    [(start + pd.Timedelta(seconds=d)) for d in td],\n",
    "    columns=['time'])\n",
    "\n",
    "freq = '15Min'\n",
    "start = df['time'].min().floor(freq)\n",
    "end = df['time'].max().ceil(freq)\n",
    "bins = pd.date_range(start, end, freq=freq)\n",
    "\n",
    "df['time_bin'] = pd.cut(df['time'], bins)\n",
    "df"
   ]
  },
  {
   "cell_type": "code",
   "execution_count": null,
   "metadata": {
    "collapsed": true
   },
   "outputs": [],
   "source": [
    "df[df.index.isin([2,3])]"
   ]
  },
  {
   "cell_type": "code",
   "execution_count": null,
   "metadata": {
    "collapsed": true,
    "scrolled": true
   },
   "outputs": [],
   "source": [
    "[1].first()"
   ]
  },
  {
   "cell_type": "code",
   "execution_count": 3,
   "metadata": {
    "scrolled": true
   },
   "outputs": [
    {
     "data": {
      "text/html": [
       "<div>\n",
       "<style>\n",
       "    .dataframe thead tr:only-child th {\n",
       "        text-align: right;\n",
       "    }\n",
       "\n",
       "    .dataframe thead th {\n",
       "        text-align: left;\n",
       "    }\n",
       "\n",
       "    .dataframe tbody tr th {\n",
       "        vertical-align: top;\n",
       "    }\n",
       "</style>\n",
       "<table border=\"1\" class=\"dataframe\">\n",
       "  <thead>\n",
       "    <tr style=\"text-align: right;\">\n",
       "      <th></th>\n",
       "      <th>A</th>\n",
       "      <th>B</th>\n",
       "      <th>C</th>\n",
       "      <th>D</th>\n",
       "      <th>E</th>\n",
       "      <th>F</th>\n",
       "    </tr>\n",
       "  </thead>\n",
       "  <tbody>\n",
       "    <tr>\n",
       "      <th>0</th>\n",
       "      <td>1.0</td>\n",
       "      <td>2013-01-02</td>\n",
       "      <td>-1.265327</td>\n",
       "      <td>3</td>\n",
       "      <td>washington</td>\n",
       "      <td>foo</td>\n",
       "    </tr>\n",
       "    <tr>\n",
       "      <th>1</th>\n",
       "      <td>1.0</td>\n",
       "      <td>2013-01-02</td>\n",
       "      <td>0.776191</td>\n",
       "      <td>3</td>\n",
       "      <td>adams</td>\n",
       "      <td>foo</td>\n",
       "    </tr>\n",
       "    <tr>\n",
       "      <th>2</th>\n",
       "      <td>1.0</td>\n",
       "      <td>2013-01-02</td>\n",
       "      <td>-0.123946</td>\n",
       "      <td>3</td>\n",
       "      <td>adams</td>\n",
       "      <td>foo</td>\n",
       "    </tr>\n",
       "    <tr>\n",
       "      <th>3</th>\n",
       "      <td>1.0</td>\n",
       "      <td>2013-01-02</td>\n",
       "      <td>-0.795014</td>\n",
       "      <td>3</td>\n",
       "      <td>lincoln</td>\n",
       "      <td>foo</td>\n",
       "    </tr>\n",
       "    <tr>\n",
       "      <th>4</th>\n",
       "      <td>1.0</td>\n",
       "      <td>2013-01-02</td>\n",
       "      <td>1.437033</td>\n",
       "      <td>3</td>\n",
       "      <td>jefferson</td>\n",
       "      <td>foo</td>\n",
       "    </tr>\n",
       "    <tr>\n",
       "      <th>5</th>\n",
       "      <td>1.0</td>\n",
       "      <td>2013-01-02</td>\n",
       "      <td>0.129964</td>\n",
       "      <td>3</td>\n",
       "      <td>hamilton</td>\n",
       "      <td>foo</td>\n",
       "    </tr>\n",
       "    <tr>\n",
       "      <th>6</th>\n",
       "      <td>1.0</td>\n",
       "      <td>2013-01-02</td>\n",
       "      <td>-0.294109</td>\n",
       "      <td>3</td>\n",
       "      <td>roosevelt</td>\n",
       "      <td>foo</td>\n",
       "    </tr>\n",
       "    <tr>\n",
       "      <th>7</th>\n",
       "      <td>1.0</td>\n",
       "      <td>2013-01-02</td>\n",
       "      <td>-0.640640</td>\n",
       "      <td>3</td>\n",
       "      <td>kennedy</td>\n",
       "      <td>foo</td>\n",
       "    </tr>\n",
       "  </tbody>\n",
       "</table>\n",
       "</div>"
      ],
      "text/plain": [
       "     A          B         C  D           E    F\n",
       "0  1.0 2013-01-02 -1.265327  3  washington  foo\n",
       "1  1.0 2013-01-02  0.776191  3       adams  foo\n",
       "2  1.0 2013-01-02 -0.123946  3       adams  foo\n",
       "3  1.0 2013-01-02 -0.795014  3     lincoln  foo\n",
       "4  1.0 2013-01-02  1.437033  3   jefferson  foo\n",
       "5  1.0 2013-01-02  0.129964  3    hamilton  foo\n",
       "6  1.0 2013-01-02 -0.294109  3   roosevelt  foo\n",
       "7  1.0 2013-01-02 -0.640640  3     kennedy  foo"
      ]
     },
     "execution_count": 3,
     "metadata": {},
     "output_type": "execute_result"
    }
   ],
   "source": [
    "import pandas as pd\n",
    "import numpy as np\n",
    "\n",
    "df3 = pd.DataFrame({\n",
    "    'A' : 1.,\n",
    "    'B' : pd.Timestamp('20130102'),\n",
    "    'C' : pd.Series(np.random.randn(8),index=list(range(8)),dtype='float64'),\n",
    "    'D' : np.array([3] * 8,dtype='int32'),\n",
    "    'E' : pd.Categorical([\"washington\", \"adams\", \"adams\", \"lincoln\",\"jefferson\", \"hamilton\", \"roosevelt\", \"kennedy\"]),\n",
    "    'F' : 'foo' })\n",
    "df3"
   ]
  },
  {
   "cell_type": "code",
   "execution_count": 4,
   "metadata": {
    "scrolled": true
   },
   "outputs": [
    {
     "data": {
      "application/vnd.jupyter.widget-view+json": {
       "model_id": "817cbd0a24c1420b8e9b6786fd829ad4",
       "version_major": "2",
       "version_minor": "0"
      },
      "text/plain": [
       "A Jupyter Widget"
      ]
     },
     "metadata": {},
     "output_type": "display_data"
    }
   ],
   "source": [
    "import qgrid\n",
    "q = qgrid.QgridWidget(df=df3)\n",
    "q"
   ]
  },
  {
   "cell_type": "code",
   "execution_count": null,
   "metadata": {
    "collapsed": true
   },
   "outputs": [],
   "source": [
    "from operator import le, ge\n",
    "condition1 = df3.index.isin([1,2,3])\n",
    "condition2 = df3['E'].isin(['adams'])\n",
    "condition3 = df3.index.isin([2])\n",
    "conditions = [condition1, condition2, condition3]\n",
    "# def match(df):\n",
    "#     combined_condition = (conditions[0])\n",
    "#     for c in conditions[1:]:\n",
    "#         combined_condition = combined_condition) & (c(df))\n",
    "#     return combined_condition\n",
    "\n",
    "# def b(x, col, op, n): \n",
    "#     return op(x[col],n)\n",
    "\n",
    "# def f(x, *b):\n",
    "#     return x[(np.logical_and(*b))]\n",
    "\n",
    "# b1 = b(df, 'col1', ge, 1)\n",
    "# b2 = b(df, 'col1', le, 1)\n",
    "combined_condition = conditions[0]\n",
    "for c in conditions[1:]:\n",
    "    combined_condition = combined_condition & c\n",
    "print(combined_condition)\n",
    "df3[combined_condition]\n",
    "# df3[eval('conditions[0] & conditions[1]')]"
   ]
  },
  {
   "cell_type": "code",
   "execution_count": null,
   "metadata": {
    "collapsed": true
   },
   "outputs": [],
   "source": [
    "isin"
   ]
  },
  {
   "cell_type": "code",
   "execution_count": null,
   "metadata": {
    "collapsed": true
   },
   "outputs": [],
   "source": [
    "df3.query('(E == \"adams\" )')"
   ]
  },
  {
   "cell_type": "code",
   "execution_count": null,
   "metadata": {
    "collapsed": true
   },
   "outputs": [],
   "source": [
    "df3.copy()"
   ]
  },
  {
   "cell_type": "code",
   "execution_count": null,
   "metadata": {
    "collapsed": true
   },
   "outputs": [],
   "source": [
    "x = 123\n",
    "x > -0.23"
   ]
  },
  {
   "cell_type": "markdown",
   "metadata": {},
   "source": [
    "### 2. Render the DataFrame again, this time using the QGridWidget class directly\n",
    "The ``show_grid`` function is just a convenience function which internally constructs an instance of QGridWidget and renders it with jupyter notebook's ``display`` function.  The following code shows how to construct a QGridWidget directly, so that you can retrieve or update the DataFrame it uses internally."
   ]
  },
  {
   "cell_type": "code",
   "execution_count": null,
   "metadata": {
    "collapsed": true
   },
   "outputs": [],
   "source": [
    "import qgrid\n",
    "pd.options.mode.chained_assignment = None\n",
    "grid = qgrid.QgridWidget(df=df3)\n",
    "grid"
   ]
  },
  {
   "cell_type": "code",
   "execution_count": null,
   "metadata": {
    "collapsed": true
   },
   "outputs": [],
   "source": [
    "df3.loc[:, 'D']"
   ]
  },
  {
   "cell_type": "markdown",
   "metadata": {},
   "source": [
    "### 3. Get the DataFrame back from the QGridWidget and render it without qgrid\n",
    "If you make edits to the data using the grid above, they will be reflected in the DataFrame that is returned by ``grid.df``."
   ]
  },
  {
   "cell_type": "code",
   "execution_count": null,
   "metadata": {
    "collapsed": true
   },
   "outputs": [],
   "source": [
    "grid.df"
   ]
  }
 ],
 "metadata": {
  "kernelspec": {
   "display_name": "Python 3",
   "language": "python",
   "name": "python3"
  },
  "language_info": {
   "codemirror_mode": {
    "name": "ipython",
    "version": 3
   },
   "file_extension": ".py",
   "mimetype": "text/x-python",
   "name": "python",
   "nbconvert_exporter": "python",
   "pygments_lexer": "ipython3",
   "version": "3.6.1"
  },
  "widgets": {
   "application/vnd.jupyter.widget-state+json": {
    "state": {
     "afd98581533845c78ddfd6a23b4c5c56": {
      "model_module": "qgrid",
      "model_module_version": "^2.0.0-alpha.0",
      "model_name": "QgridModel",
      "state": {
       "_columns": {
        "A": {
         "name": "A",
         "type": "number"
        },
        "B": {
         "name": "B",
         "type": "number"
        },
        "C": {
         "name": "C",
         "type": "number"
        },
        "D": {
         "name": "D",
         "type": "number"
        },
        "index": {
         "name": "index",
         "type": "integer"
        }
       },
       "_df_json": "{\"schema\": {\"fields\":[{\"name\":\"index\",\"type\":\"integer\"},{\"name\":\"A\",\"type\":\"number\"},{\"name\":\"B\",\"type\":\"number\"},{\"name\":\"C\",\"type\":\"number\"},{\"name\":\"D\",\"type\":\"number\"}],\"primaryKey\":[\"index\"],\"pandas_version\":\"0.20.0\"}, \"data\": [{\"index\":0,\"A\":-0.37193,\"B\":-1.39882,\"C\":0.67821,\"D\":-0.47018},{\"index\":1,\"A\":-0.59085,\"B\":0.44768,\"C\":1.4707,\"D\":-0.52832},{\"index\":2,\"A\":0.11942,\"B\":-0.33539,\"C\":0.72739,\"D\":0.91239},{\"index\":3,\"A\":2.83609,\"B\":0.90519,\"C\":-2.15217,\"D\":-1.24878},{\"index\":4,\"A\":0.92755,\"B\":0.33698,\"C\":-0.28134,\"D\":0.18},{\"index\":5,\"A\":-0.13092,\"B\":0.91779,\"C\":-1.89552,\"D\":0.04817},{\"index\":6,\"A\":-1.31194,\"B\":0.06943,\"C\":-0.27057,\"D\":1.12997},{\"index\":7,\"A\":-0.1465,\"B\":-0.73768,\"C\":-2.74722,\"D\":-2.87889},{\"index\":8,\"A\":0.83051,\"B\":-0.02087,\"C\":1.14983,\"D\":-1.45125},{\"index\":9,\"A\":0.34718,\"B\":0.67664,\"C\":1.86981,\"D\":1.2379},{\"index\":10,\"A\":-0.22115,\"B\":-0.95372,\"C\":1.4695,\"D\":1.01292},{\"index\":11,\"A\":0.82098,\"B\":-0.23519,\"C\":0.0091,\"D\":1.66307},{\"index\":12,\"A\":-0.10679,\"B\":-0.40626,\"C\":-1.08747,\"D\":0.44119},{\"index\":13,\"A\":-0.18035,\"B\":-0.39528,\"C\":0.83228,\"D\":0.21235},{\"index\":14,\"A\":-0.47746,\"B\":0.7483,\"C\":2.6174,\"D\":-0.26269},{\"index\":15,\"A\":-0.89755,\"B\":-1.69713,\"C\":-0.36224,\"D\":-0.88536},{\"index\":16,\"A\":-2.256,\"B\":-1.5241,\"C\":0.30322,\"D\":-1.51506},{\"index\":17,\"A\":-1.31816,\"B\":-0.02334,\"C\":1.1608,\"D\":0.99634},{\"index\":18,\"A\":-0.30545,\"B\":-0.40575,\"C\":2.12305,\"D\":1.20088},{\"index\":19,\"A\":-1.07012,\"B\":-1.74393,\"C\":-0.29669,\"D\":-0.88113},{\"index\":20,\"A\":1.17443,\"B\":1.65658,\"C\":0.38295,\"D\":0.76189},{\"index\":21,\"A\":0.70201,\"B\":1.45079,\"C\":-0.87622,\"D\":0.76004},{\"index\":22,\"A\":-1.55903,\"B\":0.84768,\"C\":-0.22682,\"D\":-1.49079},{\"index\":23,\"A\":1.62871,\"B\":1.21904,\"C\":0.71792,\"D\":0.08891},{\"index\":24,\"A\":-2.41093,\"B\":-0.00842,\"C\":-1.50322,\"D\":-0.10174},{\"index\":25,\"A\":0.34029,\"B\":-0.14992,\"C\":-0.10991,\"D\":-0.37702},{\"index\":26,\"A\":-0.26852,\"B\":0.78828,\"C\":-1.21917,\"D\":0.11491},{\"index\":27,\"A\":-0.65124,\"B\":-0.02495,\"C\":0.29639,\"D\":-1.29763},{\"index\":28,\"A\":-0.67018,\"B\":-0.43291,\"C\":-1.1191,\"D\":-0.77963},{\"index\":29,\"A\":0.93952,\"B\":-0.79236,\"C\":0.11697,\"D\":0.09284},{\"index\":30,\"A\":-1.99006,\"B\":0.60377,\"C\":0.96082,\"D\":1.48521},{\"index\":31,\"A\":-0.02449,\"B\":-1.48484,\"C\":1.31286,\"D\":-1.04964},{\"index\":32,\"A\":0.52915,\"B\":1.01188,\"C\":-0.55779,\"D\":0.30218},{\"index\":33,\"A\":-0.37342,\"B\":1.13341,\"C\":0.76274,\"D\":-3.09315},{\"index\":34,\"A\":-0.83849,\"B\":0.89822,\"C\":-1.50379,\"D\":0.63066},{\"index\":35,\"A\":1.08828,\"B\":1.3888,\"C\":-1.50988,\"D\":0.7127},{\"index\":36,\"A\":0.44274,\"B\":-0.21846,\"C\":-0.42901,\"D\":-0.02304},{\"index\":37,\"A\":2.42875,\"B\":-0.63121,\"C\":0.4377,\"D\":-0.83976},{\"index\":38,\"A\":-1.20146,\"B\":-1.42994,\"C\":1.11714,\"D\":-0.18392},{\"index\":39,\"A\":0.82563,\"B\":-0.44484,\"C\":1.44604,\"D\":-0.54378},{\"index\":40,\"A\":-0.19502,\"B\":-0.72613,\"C\":0.9678,\"D\":2.60993},{\"index\":41,\"A\":0.01077,\"B\":-0.91377,\"C\":-1.18466,\"D\":-0.03055},{\"index\":42,\"A\":1.09323,\"B\":0.26736,\"C\":-0.44888,\"D\":0.24413},{\"index\":43,\"A\":-3.07239,\"B\":-0.82053,\"C\":0.16569,\"D\":-1.11331},{\"index\":44,\"A\":-1.00976,\"B\":-2.02031,\"C\":2.61083,\"D\":0.12289},{\"index\":45,\"A\":-0.60819,\"B\":-0.89936,\"C\":-1.28689,\"D\":0.26012},{\"index\":46,\"A\":-0.76772,\"B\":-0.39665,\"C\":-1.3849,\"D\":2.27163},{\"index\":47,\"A\":0.33883,\"B\":-0.02996,\"C\":0.98631,\"D\":0.45072},{\"index\":48,\"A\":-0.8299,\"B\":0.93093,\"C\":-1.24394,\"D\":0.47743},{\"index\":49,\"A\":-0.36803,\"B\":0.86761,\"C\":0.26523,\"D\":-0.05263},{\"index\":50,\"A\":-0.13722,\"B\":-0.79045,\"C\":-0.52868,\"D\":-1.59382},{\"index\":51,\"A\":-1.19499,\"B\":-0.99481,\"C\":0.80836,\"D\":0.01201},{\"index\":52,\"A\":1.50322,\"B\":0.22288,\"C\":1.50975,\"D\":-0.15768},{\"index\":53,\"A\":-0.17566,\"B\":0.58033,\"C\":0.78235,\"D\":-0.07637},{\"index\":54,\"A\":-0.49306,\"B\":0.97767,\"C\":1.6676,\"D\":0.01304},{\"index\":55,\"A\":0.21756,\"B\":-1.92493,\"C\":-0.53479,\"D\":-0.23141},{\"index\":56,\"A\":-0.91844,\"B\":-0.29512,\"C\":-1.11668,\"D\":-1.11949},{\"index\":57,\"A\":-0.73905,\"B\":-1.31533,\"C\":-0.94236,\"D\":-0.04612},{\"index\":58,\"A\":1.29449,\"B\":-0.10241,\"C\":-1.46891,\"D\":-0.07292},{\"index\":59,\"A\":-0.09532,\"B\":1.3995,\"C\":1.45174,\"D\":-0.91933},{\"index\":60,\"A\":-0.25892,\"B\":0.328,\"C\":-2.36928,\"D\":2.53856},{\"index\":61,\"A\":0.16343,\"B\":-1.81768,\"C\":0.46707,\"D\":0.08726},{\"index\":62,\"A\":-0.45175,\"B\":0.78049,\"C\":0.94816,\"D\":1.37426},{\"index\":63,\"A\":-0.44855,\"B\":-0.82317,\"C\":1.04983,\"D\":-0.10248},{\"index\":64,\"A\":-0.43711,\"B\":0.22277,\"C\":-0.25658,\"D\":-0.29292},{\"index\":65,\"A\":0.71568,\"B\":0.6979,\"C\":-0.70817,\"D\":-0.37147},{\"index\":66,\"A\":0.78979,\"B\":0.32526,\"C\":1.48534,\"D\":-0.1778},{\"index\":67,\"A\":-0.25176,\"B\":-0.57628,\"C\":0.0059,\"D\":-1.04923},{\"index\":68,\"A\":-0.11609,\"B\":-1.60434,\"C\":0.24385,\"D\":2.71133},{\"index\":69,\"A\":0.40505,\"B\":0.07054,\"C\":0.29546,\"D\":-0.15377},{\"index\":70,\"A\":-0.09169,\"B\":2.06751,\"C\":0.34984,\"D\":0.07812},{\"index\":71,\"A\":0.76639,\"B\":-0.14202,\"C\":-0.11063,\"D\":-1.30113},{\"index\":72,\"A\":-0.01924,\"B\":-0.61118,\"C\":0.61139,\"D\":1.95128},{\"index\":73,\"A\":-0.29298,\"B\":-0.00101,\"C\":-0.36301,\"D\":0.24026},{\"index\":74,\"A\":-1.03474,\"B\":-0.57144,\"C\":-0.6197,\"D\":1.04679},{\"index\":75,\"A\":-1.57207,\"B\":0.30556,\"C\":1.25361,\"D\":0.64393},{\"index\":76,\"A\":0.30411,\"B\":0.19114,\"C\":0.26901,\"D\":-1.82406},{\"index\":77,\"A\":-2.51653,\"B\":-0.69047,\"C\":0.54855,\"D\":1.06592},{\"index\":78,\"A\":-0.862,\"B\":-1.6443,\"C\":-0.42199,\"D\":2.14882},{\"index\":79,\"A\":2.1412,\"B\":-0.07818,\"C\":1.33991,\"D\":0.67849},{\"index\":80,\"A\":-1.26787,\"B\":-2.5949,\"C\":-0.11416,\"D\":0.7033},{\"index\":81,\"A\":-0.54595,\"B\":0.35625,\"C\":0.5738,\"D\":-0.54556},{\"index\":82,\"A\":0.73024,\"B\":-0.07384,\"C\":0.56317,\"D\":0.13886},{\"index\":83,\"A\":0.01932,\"B\":-1.07995,\"C\":-0.67445,\"D\":-0.81591},{\"index\":84,\"A\":-1.09543,\"B\":0.22298,\"C\":-0.4386,\"D\":-0.15636},{\"index\":85,\"A\":-0.61106,\"B\":-1.21905,\"C\":1.47497,\"D\":0.60578},{\"index\":86,\"A\":1.00748,\"B\":0.08362,\"C\":-1.2188,\"D\":-0.18081},{\"index\":87,\"A\":0.66945,\"B\":0.2082,\"C\":-0.20557,\"D\":-2.26328},{\"index\":88,\"A\":-0.30933,\"B\":-0.18865,\"C\":-1.02068,\"D\":0.56948},{\"index\":89,\"A\":0.2708,\"B\":0.18666,\"C\":-1.16678,\"D\":-1.05514},{\"index\":90,\"A\":-0.28838,\"B\":1.23321,\"C\":0.42185,\"D\":0.25711},{\"index\":91,\"A\":0.69839,\"B\":1.04495,\"C\":-0.16145,\"D\":-0.67093},{\"index\":92,\"A\":0.40522,\"B\":0.35443,\"C\":-2.21388,\"D\":0.47828},{\"index\":93,\"A\":-1.63506,\"B\":-0.44794,\"C\":0.82787,\"D\":-0.69538},{\"index\":94,\"A\":-1.29599,\"B\":0.47597,\"C\":1.42664,\"D\":0.75361},{\"index\":95,\"A\":0.91581,\"B\":-1.57484,\"C\":1.13675,\"D\":-1.02306},{\"index\":96,\"A\":1.46752,\"B\":-0.94124,\"C\":-0.11627,\"D\":0.59166},{\"index\":97,\"A\":0.5012,\"B\":-1.39166,\"C\":-0.0081,\"D\":-0.12217},{\"index\":98,\"A\":1.87174,\"B\":-0.16141,\"C\":-0.09273,\"D\":0.67639},{\"index\":99,\"A\":-0.38333,\"B\":0.1775,\"C\":1.94511,\"D\":1.45483}]}",
       "_df_range": [
        0,
        100
       ],
       "_dom_classes": [],
       "_filter_query": "",
       "_model_module_version": "^2.0.0-alpha.0",
       "_row_count": 10000,
       "_sort_ascending": true,
       "_sort_field": "",
       "_view_module_version": "^2.0.0-alpha.0",
       "grid_options": {
        "autoEdit": false,
        "defaultColumnWidth": 150,
        "editable": true,
        "enableColumnReorder": false,
        "enableTextSelectionOnCells": true,
        "explicitInitialization": true,
        "forceFitColumns": true,
        "fullWidthRows": true,
        "rowHeight": 28,
        "syncColumnCellResize": true
       },
       "layout": "IPY_MODEL_e23dd8814668487a8988c19771828c9c",
       "msg_throttle": 1,
       "precision": 5,
       "value": "Hello World!"
      }
     },
     "e23dd8814668487a8988c19771828c9c": {
      "model_module": "jupyter-js-widgets",
      "model_module_version": "~2.1.4",
      "model_name": "LayoutModel",
      "state": {
       "_model_module_version": "~2.1.4",
       "_view_module_version": "~2.1.4"
      }
     }
    },
    "version_major": 1,
    "version_minor": 0
   }
  }
 },
 "nbformat": 4,
 "nbformat_minor": 2
}
