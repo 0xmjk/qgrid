{
 "cells": [
  {
   "cell_type": "markdown",
   "metadata": {},
   "source": [
    "#qgrid - SlickGrid in IPython notebook\n",
    "---"
   ]
  },
  {
   "cell_type": "markdown",
   "metadata": {},
   "source": [
    "Qgrid is an IPython extension which uses a javascript library called SlickGrid to render pandas DataFrames within an IPython notebook.  It's being developed for use in [Quantopian's hosted research environment]( https://www.quantopian.com/research?utm_source=github&utm_medium=web&utm_campaign=qgrid-nbviewer), and this notebook demonstrates the current state of the project."
   ]
  },
  {
   "cell_type": "markdown",
   "metadata": {},
   "source": [
    "## Overview\n",
    "* [SlickGrid](https://github.com/mleibman/SlickGrid) is an an advanced javascript grid which allows users to scroll, sort, \n",
    "and filter hundreds of thousands of rows with extreme responsiveness.  \n",
    "* [Pandas](https://github.com/pydata/pandas) is a powerful data analysis / manipulation library for Python, and DataFrames are the primary way of storing and manipulating two-dimensional data in pandas.\n",
    "\n",
    "[Qgrid](https://github.com/quantopian/qgrid) renders pandas DataFrames as SlickGrids, which enables users to explore the entire contents of a DataFrame using intuitive sorting and filtering controls.  It's designed to be used within IPython notebook, and it's also fully functional when rendered in [nbviewer](http://nbviewer.ipython\n",
    ".org/github/quantopian/qgrid/blob/master/qgrid_demo.ipynb)."
   ]
  },
  {
   "cell_type": "markdown",
   "metadata": {},
   "source": [
    "## Installation using 'pip install'\n",
    "##### Qgrid is a python module so you can install it using pip:\n",
    "\n",
    "```pip install git+https://github.com/quantopian/qgrid```\n",
    "\n",
    "##### Import it into your namespace like you would for any other python module:"
   ]
  },
  {
   "cell_type": "code",
   "execution_count": 1,
   "metadata": {
    "collapsed": false
   },
   "outputs": [
    {
     "name": "stderr",
     "output_type": "stream",
     "text": [
      ":0: FutureWarning: IPython widgets are experimental and may change in the future.\n"
     ]
    }
   ],
   "source": [
    "import qgrid"
   ]
  },
  {
   "cell_type": "markdown",
   "metadata": {},
   "source": [
    "##### Prepare non-python dependencies by calling \"`nbinstall`\":"
   ]
  },
  {
   "cell_type": "code",
   "execution_count": 2,
   "metadata": {
    "collapsed": false
   },
   "outputs": [],
   "source": [
    "qgrid.nbinstall(overwrite=True)  # copies javascript dependencies to your /nbextensions folder "
   ]
  },
  {
   "cell_type": "markdown",
   "metadata": {},
   "source": [
    "##### Set default options by calling \"set_defaults\" (optional):"
   ]
  },
  {
   "cell_type": "code",
   "execution_count": 3,
   "metadata": {
    "collapsed": false
   },
   "outputs": [],
   "source": [
    "qgrid.set_defaults(remote_js=False, precision=4)"
   ]
  },
  {
   "cell_type": "markdown",
   "metadata": {},
   "source": [
    "## Demo 1 - Rendering a DataFrame returned by Yahoo Finance\n",
    "##### First, lets create a sample DataFrame using pandas 'get_data_yahoo' function:"
   ]
  },
  {
   "cell_type": "code",
   "execution_count": 4,
   "metadata": {
    "collapsed": false
   },
   "outputs": [],
   "source": [
    "import pandas as pd\n",
    "import numpy as np\n",
    "randn = np.random.randn\n",
    "\n",
    "pd.set_option('display.max_rows', 8)\n",
    "\n",
    "from pandas.io.data import get_data_yahoo\n",
    "spy = get_data_yahoo(\n",
    "    symbols='SPY',\n",
    "    start=pd.Timestamp('2011-01-01'),\n",
    "    end=pd.Timestamp('2014-01-01'),\n",
    "    adjust_price=True,\n",
    ")"
   ]
  },
  {
   "cell_type": "markdown",
   "metadata": {},
   "source": [
    "##### BEFORE - Here's IPython's default representation of our 'spy' DataFrame:"
   ]
  },
  {
   "cell_type": "code",
   "execution_count": 5,
   "metadata": {
    "collapsed": false
   },
   "outputs": [
    {
     "data": {
      "text/html": [
       "<div>\n",
       "<table border=\"1\" class=\"dataframe\">\n",
       "  <thead>\n",
       "    <tr style=\"text-align: right;\">\n",
       "      <th></th>\n",
       "      <th>Open</th>\n",
       "      <th>High</th>\n",
       "      <th>Low</th>\n",
       "      <th>Close</th>\n",
       "      <th>Volume</th>\n",
       "      <th>Adj_Ratio</th>\n",
       "    </tr>\n",
       "    <tr>\n",
       "      <th>Date</th>\n",
       "      <th></th>\n",
       "      <th></th>\n",
       "      <th></th>\n",
       "      <th></th>\n",
       "      <th></th>\n",
       "      <th></th>\n",
       "    </tr>\n",
       "  </thead>\n",
       "  <tbody>\n",
       "    <tr>\n",
       "      <th>2011-01-03</th>\n",
       "      <td>115.050178</td>\n",
       "      <td>115.858280</td>\n",
       "      <td>114.133116</td>\n",
       "      <td>115.358895</td>\n",
       "      <td>138725200</td>\n",
       "      <td>0.907980</td>\n",
       "    </tr>\n",
       "    <tr>\n",
       "      <th>2011-01-04</th>\n",
       "      <td>115.613129</td>\n",
       "      <td>115.649449</td>\n",
       "      <td>114.578032</td>\n",
       "      <td>115.295337</td>\n",
       "      <td>137409700</td>\n",
       "      <td>0.907980</td>\n",
       "    </tr>\n",
       "    <tr>\n",
       "      <th>2011-01-05</th>\n",
       "      <td>114.932144</td>\n",
       "      <td>115.967240</td>\n",
       "      <td>114.823183</td>\n",
       "      <td>115.894600</td>\n",
       "      <td>133975300</td>\n",
       "      <td>0.907980</td>\n",
       "    </tr>\n",
       "    <tr>\n",
       "      <th>2011-01-06</th>\n",
       "      <td>115.940002</td>\n",
       "      <td>116.067119</td>\n",
       "      <td>115.322575</td>\n",
       "      <td>115.667605</td>\n",
       "      <td>122519000</td>\n",
       "      <td>0.907980</td>\n",
       "    </tr>\n",
       "    <tr>\n",
       "      <th>...</th>\n",
       "      <td>...</td>\n",
       "      <td>...</td>\n",
       "      <td>...</td>\n",
       "      <td>...</td>\n",
       "      <td>...</td>\n",
       "      <td>...</td>\n",
       "    </tr>\n",
       "    <tr>\n",
       "      <th>2013-12-26</th>\n",
       "      <td>177.238547</td>\n",
       "      <td>177.837925</td>\n",
       "      <td>177.219224</td>\n",
       "      <td>177.741247</td>\n",
       "      <td>63365000</td>\n",
       "      <td>0.966721</td>\n",
       "    </tr>\n",
       "    <tr>\n",
       "      <th>2013-12-27</th>\n",
       "      <td>177.973265</td>\n",
       "      <td>178.050590</td>\n",
       "      <td>177.547906</td>\n",
       "      <td>177.731585</td>\n",
       "      <td>61814000</td>\n",
       "      <td>0.966721</td>\n",
       "    </tr>\n",
       "    <tr>\n",
       "      <th>2013-12-30</th>\n",
       "      <td>177.750908</td>\n",
       "      <td>177.895925</td>\n",
       "      <td>177.470566</td>\n",
       "      <td>177.702584</td>\n",
       "      <td>56857000</td>\n",
       "      <td>0.966721</td>\n",
       "    </tr>\n",
       "    <tr>\n",
       "      <th>2013-12-31</th>\n",
       "      <td>177.944264</td>\n",
       "      <td>178.543626</td>\n",
       "      <td>177.808910</td>\n",
       "      <td>178.543626</td>\n",
       "      <td>86119900</td>\n",
       "      <td>0.966721</td>\n",
       "    </tr>\n",
       "  </tbody>\n",
       "</table>\n",
       "<p>754 rows × 6 columns</p>\n",
       "</div>"
      ],
      "text/plain": [
       "                  Open        High         Low       Close     Volume  \\\n",
       "Date                                                                    \n",
       "2011-01-03  115.050178  115.858280  114.133116  115.358895  138725200   \n",
       "2011-01-04  115.613129  115.649449  114.578032  115.295337  137409700   \n",
       "2011-01-05  114.932144  115.967240  114.823183  115.894600  133975300   \n",
       "2011-01-06  115.940002  116.067119  115.322575  115.667605  122519000   \n",
       "...                ...         ...         ...         ...        ...   \n",
       "2013-12-26  177.238547  177.837925  177.219224  177.741247   63365000   \n",
       "2013-12-27  177.973265  178.050590  177.547906  177.731585   61814000   \n",
       "2013-12-30  177.750908  177.895925  177.470566  177.702584   56857000   \n",
       "2013-12-31  177.944264  178.543626  177.808910  178.543626   86119900   \n",
       "\n",
       "            Adj_Ratio  \n",
       "Date                   \n",
       "2011-01-03   0.907980  \n",
       "2011-01-04   0.907980  \n",
       "2011-01-05   0.907980  \n",
       "2011-01-06   0.907980  \n",
       "...               ...  \n",
       "2013-12-26   0.966721  \n",
       "2013-12-27   0.966721  \n",
       "2013-12-30   0.966721  \n",
       "2013-12-31   0.966721  \n",
       "\n",
       "[754 rows x 6 columns]"
      ]
     },
     "execution_count": 5,
     "metadata": {},
     "output_type": "execute_result"
    }
   ],
   "source": [
    "spy"
   ]
  },
  {
   "cell_type": "markdown",
   "metadata": {},
   "source": [
    "##### AFTER - Here's the same 'spy' DataFrame being rendered as a qgrid:"
   ]
  },
  {
   "cell_type": "code",
   "execution_count": 6,
   "metadata": {
    "collapsed": false
   },
   "outputs": [
    {
     "data": {
      "text/plain": [
       "Timestamp('2011-01-11 00:00:00')"
      ]
     },
     "execution_count": 6,
     "metadata": {},
     "output_type": "execute_result"
    }
   ],
   "source": [
    "spy.index[6]"
   ]
  },
  {
   "cell_type": "code",
   "execution_count": 7,
   "metadata": {
    "collapsed": false
   },
   "outputs": [
    {
     "name": "stderr",
     "output_type": "stream",
     "text": [
      "/Users/tshawver/.virtualenvs/qgrid2-blink/lib/python3.4/site-packages/pandas/core/internals.py:956: FutureWarning: comparison to `None` will result in an elementwise object comparison in the future.\n",
      "  return self._try_coerce_result(func(values, other))\n"
     ]
    }
   ],
   "source": [
    "qgrid.show_grid(spy, show_toolbar=True)"
   ]
  },
  {
   "cell_type": "markdown",
   "metadata": {},
   "source": [
    "##### Configuring your grid using SlickGrid options\n",
    "By default, columns are stretched to fill the full width of the grid area.  That doesn't work if you have hundreds of columns, so you can change this behavior by using the `forceFitColumns` and `defaultColumnWidth` SlickGrid options.  See https://github.com/mleibman/SlickGrid/wiki/Grid-Options for the full list of SlickGrid options that you can configure:"
   ]
  },
  {
   "cell_type": "code",
   "execution_count": null,
   "metadata": {
    "collapsed": false,
    "scrolled": false
   },
   "outputs": [],
   "source": [
    "qgrid.show_grid(spy, grid_options={'forceFitColumns': False, 'defaultColumnWidth': 200})"
   ]
  },
  {
   "cell_type": "markdown",
   "metadata": {},
   "source": [
    "## Demo 2 - Rendering a sample DataFrame that includes a MultiIndex\n",
    "##### Now let's create another DataFrame, but let's give it a MultiIndex this time:"
   ]
  },
  {
   "cell_type": "code",
   "execution_count": null,
   "metadata": {
    "collapsed": false
   },
   "outputs": [],
   "source": [
    "tuples = list(zip(*[['bar', 'bar', 'baz', 'baz', 'foo', 'foo', 'qux', 'qux'],\n",
    "          ['one', 'two', 'one', 'two', 'one', 'two', 'one', 'two']]))\n",
    "\n",
    "\n",
    "index = pd.MultiIndex.from_tuples(tuples, names=['first', 'second'])\n",
    "multi_index_df = pd.DataFrame(randn(8, 2), index=index, columns=['A', 'B'])"
   ]
  },
  {
   "cell_type": "markdown",
   "metadata": {},
   "source": [
    "##### BEFORE - Here's IPython's default representation of our 'multi_index_df' DataFrame:"
   ]
  },
  {
   "cell_type": "code",
   "execution_count": null,
   "metadata": {
    "collapsed": false
   },
   "outputs": [],
   "source": [
    "multi_index_df"
   ]
  },
  {
   "cell_type": "markdown",
   "metadata": {},
   "source": [
    "##### AFTER - Here's the same 'multi_index_df' DataFrame being rendered as a qgrid:"
   ]
  },
  {
   "cell_type": "code",
   "execution_count": null,
   "metadata": {
    "collapsed": false
   },
   "outputs": [],
   "source": [
    "qgrid.show_grid(multi_index_df)"
   ]
  },
  {
   "cell_type": "markdown",
   "metadata": {},
   "source": [
    "## API & Usage\n",
    "API documentation is hosted on readthedocs: http://qgrid.readthedocs.org/en/latest/\n",
    "\n",
    "The API documentation can also be accessed via the \"?\" operator in IPython.  To use the \"?\" operator, type the name of the function followed by \"?\" to see the documentation for that function, like this:\n",
    "```\n",
    "qgrid.nbinstall?\n",
    "qgrid.show_grid?\n",
    "qgrid.set_defaults?\n",
    "qgrid.set_grid_options?\n",
    "\n",
    "```"
   ]
  },
  {
   "cell_type": "markdown",
   "metadata": {},
   "source": [
    "## Running from source using 'git clone'\n",
    "##### Use git to clone the qgrid repository to your hard drive\n",
    "`git clone git@github.com:quantopian/qgrid.git`\n",
    "##### Set the root folder of your qgrid repository to be the working directory for your IPython notebook server\n",
    "This is an easy way to get qgrid to run directly from the source code.  IPython notebook will look in it's working directory for modules to load, so qgrid will immediately become available for importing.\n",
    "\n",
    "`ipython notebook --notebook-dir=~/path/to/qgrid/repo`\n",
    "\n",
    "It's not always convenient to use the qgrid repository as your working directory for IPython noteboook, so I often create symbolic-links from qgrid's source code into the \"/nbextensions\" and \"/extensions\" folders under my IPython directory.\n",
    "\n",
    "\n",
    "##### Import it into your namespace like you would for any other python module:"
   ]
  },
  {
   "cell_type": "code",
   "execution_count": null,
   "metadata": {
    "collapsed": false
   },
   "outputs": [],
   "source": [
    "import qgrid"
   ]
  },
  {
   "cell_type": "markdown",
   "metadata": {},
   "source": [
    "##### Prepare non-python dependencies by calling 'nbinstall':"
   ]
  },
  {
   "cell_type": "code",
   "execution_count": null,
   "metadata": {
    "collapsed": false
   },
   "outputs": [],
   "source": [
    "qgrid.nbinstall(overwrite=True)  # use overwrite=True to keep your /nbextensions folder up to date during development"
   ]
  }
 ],
 "metadata": {
  "kernelspec": {
   "display_name": "Python 3",
   "language": "python",
   "name": "python3"
  },
  "language_info": {
   "codemirror_mode": {
    "name": "ipython",
    "version": 3
   },
   "file_extension": ".py",
   "mimetype": "text/x-python",
   "name": "python",
   "nbconvert_exporter": "python",
   "pygments_lexer": "ipython3",
   "version": "3.4.1"
  }
 },
 "nbformat": 4,
 "nbformat_minor": 0
}
