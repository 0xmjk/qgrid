{
 "metadata": {
  "kernelspec": {
   "codemirror_mode": {
    "name": "ipython",
    "version": 2
   },
   "display_name": "IPython (Python 2)",
   "language": "python",
   "name": "python2"
  },
  "name": "",
  "signature": "sha256:5cb7149125d86e4e929dc732a9c77753161c1b82a4df42f4c7642bac85d301ad"
 },
 "nbformat": 3,
 "nbformat_minor": 0,
 "worksheets": [
  {
   "cells": [
    {
     "cell_type": "code",
     "collapsed": false,
     "input": [
      "import pandas as pd\n",
      "import numpy as np\n",
      "import matplotlib.pyplot as plt\n",
      "randn = np.random.randn\n",
      "\n",
      "pd.set_option('display.mpl_style', 'default')\n",
      "pd.set_option('display.max_rows', 15)\n",
      "# pd.set_option('display.precision', 5)\n",
      "\n",
      "from pandas.io.data import get_data_yahoo\n",
      "spy = get_data_yahoo(\n",
      "    symbols='SPY',\n",
      "    start=pd.Timestamp('2011-01-01'),\n",
      "    end=pd.Timestamp('2014-01-01'),\n",
      "    adjust_price=True,\n",
      ")\n",
      "\n",
      "spy"
     ],
     "language": "python",
     "metadata": {},
     "outputs": []
    },
    {
     "cell_type": "code",
     "collapsed": false,
     "input": [
      "qgrid(spy)"
     ],
     "language": "python",
     "metadata": {},
     "outputs": []
    },
    {
     "cell_type": "code",
     "collapsed": false,
     "input": [
      "import datetime\n",
      "start = datetime.datetime(1950, 1, 1)\n",
      "end = datetime.datetime(2013, 1, 27)\n",
      "\n",
      "from pandas.io.data import DataReader\n",
      "inflation = DataReader([\"CPIAUCSL\", \"CPILFESL\"], \"fred\", start, end)\n",
      "inflation"
     ],
     "language": "python",
     "metadata": {},
     "outputs": []
    },
    {
     "cell_type": "code",
     "collapsed": false,
     "input": [
      "qgrid(inflation)"
     ],
     "language": "python",
     "metadata": {},
     "outputs": []
    },
    {
     "cell_type": "code",
     "collapsed": false,
     "input": [
      "from pandas.io.data import Options\n",
      "aapl = Options('aapl', 'yahoo')\n",
      "data = aapl.get_all_data()\n",
      "last = data[\"Last\"]"
     ],
     "language": "python",
     "metadata": {},
     "outputs": []
    },
    {
     "cell_type": "code",
     "collapsed": false,
     "input": [
      "last"
     ],
     "language": "python",
     "metadata": {},
     "outputs": []
    },
    {
     "cell_type": "code",
     "collapsed": false,
     "input": [
      "import datetime\n",
      "expiry = datetime.date(2016, 1, 1)\n",
      "data = aapl.get_call_data(expiry=expiry)\n",
      "multidataframe = data.iloc[0:5:, 0:5]\n",
      "type(multidataframe.index)"
     ],
     "language": "python",
     "metadata": {},
     "outputs": []
    },
    {
     "cell_type": "code",
     "collapsed": false,
     "input": [
      "type(data.index)"
     ],
     "language": "python",
     "metadata": {},
     "outputs": []
    },
    {
     "cell_type": "code",
     "collapsed": false,
     "input": [
      "import pandas.util.testing as tm\n",
      "\n",
      "n = 10\n",
      "\n",
      "colors = tm.choice(['red', 'green'], size=n)\n",
      "\n",
      "foods = tm.choice(['eggs', 'ham'], size=n)\n",
      "\n",
      "colors"
     ],
     "language": "python",
     "metadata": {},
     "outputs": []
    },
    {
     "cell_type": "code",
     "collapsed": false,
     "input": [
      "import pandas as pd\n",
      "import numpy as np\n",
      "index = pd.core.index.MultiIndex.from_arrays([colors, foods], names=['color', 'food'])\n",
      "df = pd.DataFrame(np.random.randn(n, 2), index=index)\n",
      "df"
     ],
     "language": "python",
     "metadata": {},
     "outputs": []
    },
    {
     "cell_type": "code",
     "collapsed": false,
     "input": [
      "qgrid(df)"
     ],
     "language": "python",
     "metadata": {},
     "outputs": []
    },
    {
     "cell_type": "code",
     "collapsed": false,
     "input": [
      "df"
     ],
     "language": "python",
     "metadata": {},
     "outputs": []
    },
    {
     "cell_type": "code",
     "collapsed": false,
     "input": [
      "# %install_ext /Users/tshawver/repo/SlickDataFrame/grid.py\n",
      "# %load_ext grid"
     ],
     "language": "python",
     "metadata": {},
     "outputs": []
    },
    {
     "cell_type": "code",
     "collapsed": false,
     "input": [],
     "language": "python",
     "metadata": {},
     "outputs": []
    }
   ],
   "metadata": {}
  }
 ]
}